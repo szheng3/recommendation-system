{
 "cells": [
  {
   "cell_type": "markdown",
   "metadata": {
    "id": "7ltyWBrP0cnH"
   },
   "source": [
    "# SNQN (With and without Item Features) on RetailRocket Data\n",
    "\n",
    "In this notebook we train an SNQN model to recomend a ranked list of items to users in the dataset. "
   ]
  },
  {
   "cell_type": "markdown",
   "metadata": {
    "id": "VEz3djcf0w7C"
   },
   "source": [
    "1. Clone the git repository containing all the source code"
   ]
  },
  {
   "cell_type": "code",
   "execution_count": null,
   "metadata": {
    "colab": {
     "base_uri": "https://localhost:8080/"
    },
    "id": "-vgK2r88Mmkd",
    "outputId": "f5e87838-afeb-40ae-8457-fb229a415586"
   },
   "outputs": [
    {
     "output_type": "stream",
     "name": "stdout",
     "text": [
      "Cloning into 'recommendation-system'...\n",
      "remote: Enumerating objects: 1575, done.\u001B[K\n",
      "remote: Counting objects: 100% (356/356), done.\u001B[K\n",
      "remote: Compressing objects: 100% (182/182), done.\u001B[K\n",
      "remote: Total 1575 (delta 195), reused 309 (delta 173), pack-reused 1219\u001B[K\n",
      "Receiving objects: 100% (1575/1575), 11.68 MiB | 16.10 MiB/s, done.\n",
      "Resolving deltas: 100% (825/825), done.\n"
     ]
    }
   ],
   "source": [
    "# cloning the git repository\n",
    "!rm -rf recommendation-system\n",
    "!git clone https://github.com/szheng3/recommendation-system.git"
   ]
  },
  {
   "cell_type": "markdown",
   "metadata": {
    "id": "R8WLc6n_04S8"
   },
   "source": [
    "2. Install the missing libraries (specifically for google colab)"
   ]
  },
  {
   "cell_type": "code",
   "execution_count": null,
   "metadata": {
    "colab": {
     "base_uri": "https://localhost:8080/"
    },
    "id": "dY3pkxR1AsDW",
    "outputId": "c184c7e7-ba0b-4d03-f5fc-a9bdca5de1ad"
   },
   "outputs": [
    {
     "output_type": "stream",
     "name": "stdout",
     "text": [
      "Looking in indexes: https://pypi.org/simple, https://us-python.pkg.dev/colab-wheels/public/simple/\n",
      "Collecting trfl\n",
      "  Downloading trfl-1.2.0-py3-none-any.whl (104 kB)\n",
      "\u001B[2K     \u001B[90m━━━━━━━━━━━━━━━━━━━━━━━━━━━━━━━━━━━━━━\u001B[0m \u001B[32m104.3/104.3 kB\u001B[0m \u001B[31m10.7 MB/s\u001B[0m eta \u001B[36m0:00:00\u001B[0m\n",
      "\u001B[?25hRequirement already satisfied: numpy in /usr/local/lib/python3.10/dist-packages (from trfl) (1.22.4)\n",
      "Requirement already satisfied: wrapt in /usr/local/lib/python3.10/dist-packages (from trfl) (1.14.1)\n",
      "Requirement already satisfied: absl-py in /usr/local/lib/python3.10/dist-packages (from trfl) (1.4.0)\n",
      "Requirement already satisfied: six in /usr/local/lib/python3.10/dist-packages (from trfl) (1.16.0)\n",
      "Requirement already satisfied: dm-tree in /usr/local/lib/python3.10/dist-packages (from trfl) (0.1.8)\n",
      "Installing collected packages: trfl\n",
      "Successfully installed trfl-1.2.0\n"
     ]
    }
   ],
   "source": [
    "# installing missing libraries\n",
    "!pip install trfl"
   ]
  },
  {
   "cell_type": "markdown",
   "metadata": {
    "id": "WblRLpti1A4h"
   },
   "source": [
    "3. Download the RetailRocket Dataset file from AWS S3 bucket"
   ]
  },
  {
   "cell_type": "code",
   "execution_count": null,
   "metadata": {
    "colab": {
     "base_uri": "https://localhost:8080/"
    },
    "id": "lA7SMHfSMiHI",
    "outputId": "14db28a0-b1e5-4032-a76c-b3f75f99fd45"
   },
   "outputs": [
    {
     "output_type": "stream",
     "name": "stdout",
     "text": [
      "--2023-05-03 14:12:14--  https://szdataset.s3.us-east-2.amazonaws.com/531/rc_data.zip\n",
      "Resolving szdataset.s3.us-east-2.amazonaws.com (szdataset.s3.us-east-2.amazonaws.com)... 52.219.92.242\n",
      "Connecting to szdataset.s3.us-east-2.amazonaws.com (szdataset.s3.us-east-2.amazonaws.com)|52.219.92.242|:443... connected.\n",
      "HTTP request sent, awaiting response... 200 OK\n",
      "Length: 26020955 (25M) [application/zip]\n",
      "Saving to: ‘/content/rc_data.zip’\n",
      "\n",
      "rc_data.zip         100%[===================>]  24.82M  7.41MB/s    in 3.3s    \n",
      "\n",
      "2023-05-03 14:12:19 (7.41 MB/s) - ‘/content/rc_data.zip’ saved [26020955/26020955]\n",
      "\n"
     ]
    }
   ],
   "source": [
    "!wget -N https://szdataset.s3.us-east-2.amazonaws.com/531/rc_data.zip -P \"/content\""
   ]
  },
  {
   "cell_type": "markdown",
   "metadata": {
    "id": "FB5AbLV31Pjg"
   },
   "source": [
    "4. Unzip to get the data folder"
   ]
  },
  {
   "cell_type": "code",
   "execution_count": null,
   "metadata": {
    "id": "Q-MWI_XktTHX"
   },
   "outputs": [],
   "source": [
    "# Unzip to get the data folder\n",
    "\n",
    "import zipfile\n",
    "with zipfile.ZipFile(\"rc_data.zip\",\"r\") as zip_ref:\n",
    "    zip_ref.extractall(\".\")\n",
    "\n",
    "# put item features csv in the same folder. the csv is getting from the process_RC.ipynb\n",
    "!cp -f \"/content/recommendation-system/ItemFeatures/Retailrocket/data/rc_item_features.csv\" \"/content/data\"\n"
   ]
  },
  {
   "cell_type": "markdown",
   "metadata": {
    "id": "tNt1pnmh1aaI"
   },
   "source": [
    "5. Run script to begin training and evaluate the SNQN model (when lambda=0)(with item Features)."
   ]
  },
  {
   "cell_type": "code",
   "execution_count": null,
   "metadata": {
    "colab": {
     "base_uri": "https://localhost:8080/"
    },
    "id": "iUk2eLLkFX0g",
    "outputId": "3ab181f9-56a8-44f1-f64d-767a3ba8bbfa"
   },
   "outputs": [
    {
     "output_type": "stream",
     "name": "stdout",
     "text": [
      "2023-05-03 14:12:21.093396: I tensorflow/core/platform/cpu_feature_guard.cc:182] This TensorFlow binary is optimized to use available CPU instructions in performance-critical operations.\n",
      "To enable the following instructions: AVX2 FMA, in other operations, rebuild TensorFlow with the appropriate compiler flags.\n",
      "2023-05-03 14:12:22.347842: W tensorflow/compiler/tf2tensorrt/utils/py_utils.cc:38] TF-TRT Warning: Could not find TensorRT\n",
      "/content/recommendation-system/ItemFeatures/Retailrocket/src/SNQN_item_feature.py:159: UserWarning: `tf.nn.rnn_cell.GRUCell` is deprecated and will be removed in a future version. This class is equivalent as `tf.keras.layers.GRUCell`, and will be replaced by that in Tensorflow 2.0.\n",
      "  tf.compat.v1.nn.rnn_cell.GRUCell(self.hidden_size),\n",
      "2023-05-03 14:12:24.798974: I tensorflow/compiler/xla/stream_executor/cuda/cuda_gpu_executor.cc:996] successful NUMA node read from SysFS had negative value (-1), but there must be at least one NUMA node, so returning NUMA node zero. See more at https://github.com/torvalds/linux/blob/v6.0/Documentation/ABI/testing/sysfs-bus-pci#L344-L355\n",
      "2023-05-03 14:12:25.424713: I tensorflow/compiler/xla/stream_executor/cuda/cuda_gpu_executor.cc:996] successful NUMA node read from SysFS had negative value (-1), but there must be at least one NUMA node, so returning NUMA node zero. See more at https://github.com/torvalds/linux/blob/v6.0/Documentation/ABI/testing/sysfs-bus-pci#L344-L355\n",
      "2023-05-03 14:12:25.425012: I tensorflow/compiler/xla/stream_executor/cuda/cuda_gpu_executor.cc:996] successful NUMA node read from SysFS had negative value (-1), but there must be at least one NUMA node, so returning NUMA node zero. See more at https://github.com/torvalds/linux/blob/v6.0/Documentation/ABI/testing/sysfs-bus-pci#L344-L355\n",
      "/content/recommendation-system/ItemFeatures/Retailrocket/src/SNQN_item_feature.py:291: UserWarning: `tf.layers.dense` is deprecated and will be removed in a future version. Please use `tf.keras.layers.Dense` instead.\n",
      "  self.output1 = tf.compat.v1.layers.dense(self.states_hidden, self.item_num, activation=None)\n",
      "/content/recommendation-system/ItemFeatures/Retailrocket/src/SNQN_item_feature.py:292: UserWarning: `tf.layers.dense` is deprecated and will be removed in a future version. Please use `tf.keras.layers.Dense` instead.\n",
      "  self.output2 = tf.compat.v1.layers.dense(self.states_hidden, self.item_num, activation=None)\n",
      "/content/recommendation-system/ItemFeatures/Retailrocket/src/SNQN_item_feature.py:330: UserWarning: `tf.layers.dense` is deprecated and will be removed in a future version. Please use `tf.keras.layers.Dense` instead.\n",
      "  self.feature_embedding = tf.compat.v1.layers.dense(self.item_features, self.hidden_size + 1,\n",
      "2023-05-03 14:12:31.354738: I tensorflow/compiler/xla/stream_executor/cuda/cuda_gpu_executor.cc:996] successful NUMA node read from SysFS had negative value (-1), but there must be at least one NUMA node, so returning NUMA node zero. See more at https://github.com/torvalds/linux/blob/v6.0/Documentation/ABI/testing/sysfs-bus-pci#L344-L355\n",
      "2023-05-03 14:12:31.355097: I tensorflow/compiler/xla/stream_executor/cuda/cuda_gpu_executor.cc:996] successful NUMA node read from SysFS had negative value (-1), but there must be at least one NUMA node, so returning NUMA node zero. See more at https://github.com/torvalds/linux/blob/v6.0/Documentation/ABI/testing/sysfs-bus-pci#L344-L355\n",
      "2023-05-03 14:12:31.355308: I tensorflow/compiler/xla/stream_executor/cuda/cuda_gpu_executor.cc:996] successful NUMA node read from SysFS had negative value (-1), but there must be at least one NUMA node, so returning NUMA node zero. See more at https://github.com/torvalds/linux/blob/v6.0/Documentation/ABI/testing/sysfs-bus-pci#L344-L355\n",
      "2023-05-03 14:12:35.036379: I tensorflow/compiler/xla/stream_executor/cuda/cuda_gpu_executor.cc:996] successful NUMA node read from SysFS had negative value (-1), but there must be at least one NUMA node, so returning NUMA node zero. See more at https://github.com/torvalds/linux/blob/v6.0/Documentation/ABI/testing/sysfs-bus-pci#L344-L355\n",
      "2023-05-03 14:12:35.036673: I tensorflow/compiler/xla/stream_executor/cuda/cuda_gpu_executor.cc:996] successful NUMA node read from SysFS had negative value (-1), but there must be at least one NUMA node, so returning NUMA node zero. See more at https://github.com/torvalds/linux/blob/v6.0/Documentation/ABI/testing/sysfs-bus-pci#L344-L355\n",
      "2023-05-03 14:12:35.036901: I tensorflow/compiler/xla/stream_executor/cuda/cuda_gpu_executor.cc:996] successful NUMA node read from SysFS had negative value (-1), but there must be at least one NUMA node, so returning NUMA node zero. See more at https://github.com/torvalds/linux/blob/v6.0/Documentation/ABI/testing/sysfs-bus-pci#L344-L355\n",
      "2023-05-03 14:12:35.037053: W tensorflow/core/common_runtime/gpu/gpu_bfc_allocator.cc:47] Overriding orig_value setting because the TF_FORCE_GPU_ALLOW_GROWTH environment variable is set. Original config value was 0.\n",
      "2023-05-03 14:12:35.037095: I tensorflow/core/common_runtime/gpu/gpu_device.cc:1635] Created device /job:localhost/replica:0/task:0/device:GPU:0 with 13678 MB memory:  -> device: 0, name: Tesla T4, pci bus id: 0000:00:04.0, compute capability: 7.5\n",
      "2023-05-03 14:12:35.072419: I tensorflow/compiler/mlir/mlir_graph_optimization_pass.cc:353] MLIR V1 optimization pass is not enabled\n",
      "the loss in 200th batch is: 11.617260\n",
      "the loss in 400th batch is: 11.575413\n",
      "the loss in 600th batch is: 11.579883\n",
      "the loss in 800th batch is: 11.625391\n",
      "the loss in 1000th batch is: 11.640819\n",
      "the loss in 1200th batch is: 11.933395\n",
      "the loss in 1400th batch is: 11.857270\n",
      "the loss in 1600th batch is: 11.397804\n",
      "the loss in 1800th batch is: 11.324291\n",
      "the loss in 2000th batch is: 11.229446\n",
      "the loss in 2200th batch is: 11.269661\n",
      "the loss in 2400th batch is: 11.820445\n",
      "the loss in 2600th batch is: 11.237276\n",
      "the loss in 2800th batch is: 11.560985\n",
      "the loss in 3000th batch is: 11.301922\n",
      "the loss in 3200th batch is: 11.349988\n",
      "the loss in 3400th batch is: 11.153441\n",
      "the loss in 3600th batch is: 11.359538\n",
      "the loss in 3800th batch is: 11.387678\n",
      "the loss in 4000th batch is: 11.333294\n",
      "#############################################################\n",
      "total clicks: 118306, total purchase:5291\n",
      "~~~~~~~~~~~~~~~~~~~~~~~~~~~~~~~~~~~~~~~~~~~~~~~~~~~~~~~~~~~~~\n",
      "cumulative reward @ 5: 0.600000\n",
      "clicks hr ndcg @ 5 : 0.000025, 0.000010\n",
      "purchase hr and ndcg @5 : 0.000000, 0.000000\n",
      "~~~~~~~~~~~~~~~~~~~~~~~~~~~~~~~~~~~~~~~~~~~~~~~~~~~~~~~~~~~~~\n",
      "cumulative reward @ 10: 2.600000\n",
      "clicks hr ndcg @ 10 : 0.000110, 0.000036\n",
      "purchase hr and ndcg @10 : 0.000000, 0.000000\n",
      "~~~~~~~~~~~~~~~~~~~~~~~~~~~~~~~~~~~~~~~~~~~~~~~~~~~~~~~~~~~~~\n",
      "cumulative reward @ 15: 6.200000\n",
      "clicks hr ndcg @ 15 : 0.000220, 0.000065\n",
      "purchase hr and ndcg @15 : 0.000189, 0.000053\n",
      "~~~~~~~~~~~~~~~~~~~~~~~~~~~~~~~~~~~~~~~~~~~~~~~~~~~~~~~~~~~~~\n",
      "cumulative reward @ 20: 10.400000\n",
      "clicks hr ndcg @ 20 : 0.000270, 0.000077\n",
      "purchase hr and ndcg @20 : 0.000756, 0.000186\n",
      "#############################################################\n",
      "the loss in 4200th batch is: 11.177273\n",
      "the loss in 4400th batch is: 11.084536\n",
      "the loss in 4600th batch is: 11.151925\n",
      "the loss in 4800th batch is: 11.160385\n",
      "the loss in 5000th batch is: 11.263615\n",
      "the loss in 5200th batch is: 11.075686\n",
      "the loss in 5400th batch is: 11.131944\n",
      "the loss in 5600th batch is: 11.112478\n",
      "the loss in 5800th batch is: 11.131141\n",
      "the loss in 6000th batch is: 11.116304\n",
      "the loss in 6200th batch is: 11.131073\n",
      "the loss in 6400th batch is: 10.999943\n",
      "the loss in 6600th batch is: 11.124105\n",
      "the loss in 6800th batch is: 11.068172\n",
      "the loss in 7000th batch is: 11.110098\n",
      "the loss in 7200th batch is: 11.071750\n",
      "the loss in 7400th batch is: 11.092824\n",
      "the loss in 7600th batch is: 11.060237\n"
     ]
    }
   ],
   "source": [
    "!python \"/content/recommendation-system/ItemFeatures/Retailrocket/src/SNQN_item_feature.py\" --model=GRU --data=\"/content/data/\" --epoch=2 --lambda_value=0"
   ]
  },
  {
   "cell_type": "markdown",
   "metadata": {
    "id": "VRjKY1ukafMf"
   },
   "source": [
    "6. Run script to begin training and evaluate the SNQN model (when lambda=0.5)(with item Features)."
   ]
  },
  {
   "cell_type": "code",
   "execution_count": null,
   "metadata": {
    "colab": {
     "base_uri": "https://localhost:8080/"
    },
    "id": "TFUkotpDazTh",
    "outputId": "217a9427-91a2-4c63-caab-a845f34c1acd"
   },
   "outputs": [
    {
     "output_type": "stream",
     "name": "stdout",
     "text": [
      "2023-05-03 14:50:31.790568: I tensorflow/core/platform/cpu_feature_guard.cc:182] This TensorFlow binary is optimized to use available CPU instructions in performance-critical operations.\n",
      "To enable the following instructions: AVX2 FMA, in other operations, rebuild TensorFlow with the appropriate compiler flags.\n",
      "2023-05-03 14:50:32.812406: W tensorflow/compiler/tf2tensorrt/utils/py_utils.cc:38] TF-TRT Warning: Could not find TensorRT\n",
      "/content/recommendation-system/ItemFeatures/Retailrocket/src/SNQN_item_feature.py:159: UserWarning: `tf.nn.rnn_cell.GRUCell` is deprecated and will be removed in a future version. This class is equivalent as `tf.keras.layers.GRUCell`, and will be replaced by that in Tensorflow 2.0.\n",
      "  tf.compat.v1.nn.rnn_cell.GRUCell(self.hidden_size),\n",
      "2023-05-03 14:50:34.855482: I tensorflow/compiler/xla/stream_executor/cuda/cuda_gpu_executor.cc:996] successful NUMA node read from SysFS had negative value (-1), but there must be at least one NUMA node, so returning NUMA node zero. See more at https://github.com/torvalds/linux/blob/v6.0/Documentation/ABI/testing/sysfs-bus-pci#L344-L355\n",
      "2023-05-03 14:50:34.884967: I tensorflow/compiler/xla/stream_executor/cuda/cuda_gpu_executor.cc:996] successful NUMA node read from SysFS had negative value (-1), but there must be at least one NUMA node, so returning NUMA node zero. See more at https://github.com/torvalds/linux/blob/v6.0/Documentation/ABI/testing/sysfs-bus-pci#L344-L355\n",
      "2023-05-03 14:50:34.885238: I tensorflow/compiler/xla/stream_executor/cuda/cuda_gpu_executor.cc:996] successful NUMA node read from SysFS had negative value (-1), but there must be at least one NUMA node, so returning NUMA node zero. See more at https://github.com/torvalds/linux/blob/v6.0/Documentation/ABI/testing/sysfs-bus-pci#L344-L355\n",
      "/content/recommendation-system/ItemFeatures/Retailrocket/src/SNQN_item_feature.py:291: UserWarning: `tf.layers.dense` is deprecated and will be removed in a future version. Please use `tf.keras.layers.Dense` instead.\n",
      "  self.output1 = tf.compat.v1.layers.dense(self.states_hidden, self.item_num, activation=None)\n",
      "/content/recommendation-system/ItemFeatures/Retailrocket/src/SNQN_item_feature.py:292: UserWarning: `tf.layers.dense` is deprecated and will be removed in a future version. Please use `tf.keras.layers.Dense` instead.\n",
      "  self.output2 = tf.compat.v1.layers.dense(self.states_hidden, self.item_num, activation=None)\n",
      "/content/recommendation-system/ItemFeatures/Retailrocket/src/SNQN_item_feature.py:330: UserWarning: `tf.layers.dense` is deprecated and will be removed in a future version. Please use `tf.keras.layers.Dense` instead.\n",
      "  self.feature_embedding = tf.compat.v1.layers.dense(self.item_features, self.hidden_size + 1,\n",
      "2023-05-03 14:50:41.487693: I tensorflow/compiler/xla/stream_executor/cuda/cuda_gpu_executor.cc:996] successful NUMA node read from SysFS had negative value (-1), but there must be at least one NUMA node, so returning NUMA node zero. See more at https://github.com/torvalds/linux/blob/v6.0/Documentation/ABI/testing/sysfs-bus-pci#L344-L355\n",
      "2023-05-03 14:50:41.488059: I tensorflow/compiler/xla/stream_executor/cuda/cuda_gpu_executor.cc:996] successful NUMA node read from SysFS had negative value (-1), but there must be at least one NUMA node, so returning NUMA node zero. See more at https://github.com/torvalds/linux/blob/v6.0/Documentation/ABI/testing/sysfs-bus-pci#L344-L355\n",
      "2023-05-03 14:50:41.488291: I tensorflow/compiler/xla/stream_executor/cuda/cuda_gpu_executor.cc:996] successful NUMA node read from SysFS had negative value (-1), but there must be at least one NUMA node, so returning NUMA node zero. See more at https://github.com/torvalds/linux/blob/v6.0/Documentation/ABI/testing/sysfs-bus-pci#L344-L355\n",
      "2023-05-03 14:50:42.512842: I tensorflow/compiler/xla/stream_executor/cuda/cuda_gpu_executor.cc:996] successful NUMA node read from SysFS had negative value (-1), but there must be at least one NUMA node, so returning NUMA node zero. See more at https://github.com/torvalds/linux/blob/v6.0/Documentation/ABI/testing/sysfs-bus-pci#L344-L355\n",
      "2023-05-03 14:50:42.513142: I tensorflow/compiler/xla/stream_executor/cuda/cuda_gpu_executor.cc:996] successful NUMA node read from SysFS had negative value (-1), but there must be at least one NUMA node, so returning NUMA node zero. See more at https://github.com/torvalds/linux/blob/v6.0/Documentation/ABI/testing/sysfs-bus-pci#L344-L355\n",
      "2023-05-03 14:50:42.513399: I tensorflow/compiler/xla/stream_executor/cuda/cuda_gpu_executor.cc:996] successful NUMA node read from SysFS had negative value (-1), but there must be at least one NUMA node, so returning NUMA node zero. See more at https://github.com/torvalds/linux/blob/v6.0/Documentation/ABI/testing/sysfs-bus-pci#L344-L355\n",
      "2023-05-03 14:50:42.513567: W tensorflow/core/common_runtime/gpu/gpu_bfc_allocator.cc:47] Overriding orig_value setting because the TF_FORCE_GPU_ALLOW_GROWTH environment variable is set. Original config value was 0.\n",
      "2023-05-03 14:50:42.513613: I tensorflow/core/common_runtime/gpu/gpu_device.cc:1635] Created device /job:localhost/replica:0/task:0/device:GPU:0 with 13678 MB memory:  -> device: 0, name: Tesla T4, pci bus id: 0000:00:04.0, compute capability: 7.5\n",
      "2023-05-03 14:50:42.547735: I tensorflow/compiler/mlir/mlir_graph_optimization_pass.cc:353] MLIR V1 optimization pass is not enabled\n",
      "the loss in 200th batch is: 11.326900\n",
      "the loss in 400th batch is: 11.148447\n",
      "the loss in 600th batch is: 11.138605\n",
      "the loss in 800th batch is: 11.278392\n",
      "the loss in 1000th batch is: 11.101567\n",
      "the loss in 1200th batch is: 10.851081\n",
      "the loss in 1400th batch is: 10.972492\n",
      "the loss in 1600th batch is: 11.008760\n",
      "the loss in 1800th batch is: 11.128520\n",
      "the loss in 2000th batch is: 10.659907\n",
      "the loss in 2200th batch is: 10.751565\n",
      "the loss in 2400th batch is: 10.551668\n",
      "the loss in 2600th batch is: 10.499826\n",
      "the loss in 2800th batch is: 10.510678\n",
      "the loss in 3000th batch is: 10.347021\n",
      "the loss in 3200th batch is: 10.549553\n",
      "the loss in 3400th batch is: 10.282862\n",
      "the loss in 3600th batch is: 10.360771\n",
      "the loss in 3800th batch is: 10.243683\n",
      "the loss in 4000th batch is: 10.342406\n",
      "#############################################################\n",
      "total clicks: 118306, total purchase:5291\n",
      "~~~~~~~~~~~~~~~~~~~~~~~~~~~~~~~~~~~~~~~~~~~~~~~~~~~~~~~~~~~~~\n",
      "cumulative reward @ 5: 401.400000\n",
      "clicks hr ndcg @ 5 : 0.010963, 0.007478\n",
      "purchase hr and ndcg @5 : 0.026838, 0.018287\n",
      "~~~~~~~~~~~~~~~~~~~~~~~~~~~~~~~~~~~~~~~~~~~~~~~~~~~~~~~~~~~~~\n",
      "cumulative reward @ 10: 564.400000\n",
      "clicks hr ndcg @ 10 : 0.016035, 0.009129\n",
      "purchase hr and ndcg @10 : 0.034965, 0.020960\n",
      "~~~~~~~~~~~~~~~~~~~~~~~~~~~~~~~~~~~~~~~~~~~~~~~~~~~~~~~~~~~~~\n",
      "cumulative reward @ 15: 702.200000\n",
      "clicks hr ndcg @ 15 : 0.020337, 0.010264\n",
      "purchase hr and ndcg @15 : 0.041769, 0.022762\n",
      "~~~~~~~~~~~~~~~~~~~~~~~~~~~~~~~~~~~~~~~~~~~~~~~~~~~~~~~~~~~~~\n",
      "cumulative reward @ 20: 820.000000\n",
      "clicks hr ndcg @ 20 : 0.024132, 0.011161\n",
      "purchase hr and ndcg @20 : 0.047061, 0.024020\n",
      "#############################################################\n",
      "the loss in 4200th batch is: 10.133519\n",
      "the loss in 4400th batch is: 10.129766\n",
      "the loss in 4600th batch is: 10.322831\n",
      "the loss in 4800th batch is: 10.000728\n",
      "the loss in 5000th batch is: 10.176220\n",
      "the loss in 5200th batch is: 9.777081\n",
      "the loss in 5400th batch is: 9.925313\n",
      "the loss in 5600th batch is: 9.926908\n",
      "the loss in 5800th batch is: 10.083072\n",
      "the loss in 6000th batch is: 9.875801\n",
      "the loss in 6200th batch is: 9.809128\n",
      "the loss in 6400th batch is: 9.976952\n",
      "the loss in 6600th batch is: 9.834927\n",
      "the loss in 6800th batch is: 9.709333\n",
      "the loss in 7000th batch is: 10.169934\n",
      "the loss in 7200th batch is: 9.623613\n",
      "the loss in 7400th batch is: 9.677449\n",
      "the loss in 7600th batch is: 9.843379\n"
     ]
    }
   ],
   "source": [
    "!python \"/content/recommendation-system/ItemFeatures/Retailrocket/src/SNQN_item_feature.py\" --model=GRU --data=\"/content/data/\" --epoch=2 --lambda_value=0.5"
   ]
  },
  {
   "cell_type": "markdown",
   "metadata": {
    "id": "le01pCLWalDp"
   },
   "source": [
    "7. Run script to begin training and evaluate the SNQN model (when lambda=1.0)(with item Features)."
   ]
  },
  {
   "cell_type": "code",
   "execution_count": null,
   "metadata": {
    "colab": {
     "base_uri": "https://localhost:8080/"
    },
    "id": "J8Zk3vmWxMdV",
    "outputId": "da34b328-70ec-48b6-9dd7-73e50f00106d"
   },
   "outputs": [
    {
     "output_type": "stream",
     "name": "stdout",
     "text": [
      "2023-05-03 15:29:27.942421: I tensorflow/core/platform/cpu_feature_guard.cc:182] This TensorFlow binary is optimized to use available CPU instructions in performance-critical operations.\n",
      "To enable the following instructions: AVX2 FMA, in other operations, rebuild TensorFlow with the appropriate compiler flags.\n",
      "2023-05-03 15:29:28.947639: W tensorflow/compiler/tf2tensorrt/utils/py_utils.cc:38] TF-TRT Warning: Could not find TensorRT\n",
      "/content/recommendation-system/ItemFeatures/Retailrocket/src/SNQN_item_feature.py:159: UserWarning: `tf.nn.rnn_cell.GRUCell` is deprecated and will be removed in a future version. This class is equivalent as `tf.keras.layers.GRUCell`, and will be replaced by that in Tensorflow 2.0.\n",
      "  tf.compat.v1.nn.rnn_cell.GRUCell(self.hidden_size),\n",
      "2023-05-03 15:29:31.446724: I tensorflow/compiler/xla/stream_executor/cuda/cuda_gpu_executor.cc:996] successful NUMA node read from SysFS had negative value (-1), but there must be at least one NUMA node, so returning NUMA node zero. See more at https://github.com/torvalds/linux/blob/v6.0/Documentation/ABI/testing/sysfs-bus-pci#L344-L355\n",
      "2023-05-03 15:29:31.484097: I tensorflow/compiler/xla/stream_executor/cuda/cuda_gpu_executor.cc:996] successful NUMA node read from SysFS had negative value (-1), but there must be at least one NUMA node, so returning NUMA node zero. See more at https://github.com/torvalds/linux/blob/v6.0/Documentation/ABI/testing/sysfs-bus-pci#L344-L355\n",
      "2023-05-03 15:29:31.485150: I tensorflow/compiler/xla/stream_executor/cuda/cuda_gpu_executor.cc:996] successful NUMA node read from SysFS had negative value (-1), but there must be at least one NUMA node, so returning NUMA node zero. See more at https://github.com/torvalds/linux/blob/v6.0/Documentation/ABI/testing/sysfs-bus-pci#L344-L355\n",
      "/content/recommendation-system/ItemFeatures/Retailrocket/src/SNQN_item_feature.py:291: UserWarning: `tf.layers.dense` is deprecated and will be removed in a future version. Please use `tf.keras.layers.Dense` instead.\n",
      "  self.output1 = tf.compat.v1.layers.dense(self.states_hidden, self.item_num, activation=None)\n",
      "/content/recommendation-system/ItemFeatures/Retailrocket/src/SNQN_item_feature.py:292: UserWarning: `tf.layers.dense` is deprecated and will be removed in a future version. Please use `tf.keras.layers.Dense` instead.\n",
      "  self.output2 = tf.compat.v1.layers.dense(self.states_hidden, self.item_num, activation=None)\n",
      "/content/recommendation-system/ItemFeatures/Retailrocket/src/SNQN_item_feature.py:330: UserWarning: `tf.layers.dense` is deprecated and will be removed in a future version. Please use `tf.keras.layers.Dense` instead.\n",
      "  self.feature_embedding = tf.compat.v1.layers.dense(self.item_features, self.hidden_size + 1,\n",
      "2023-05-03 15:29:37.404446: I tensorflow/compiler/xla/stream_executor/cuda/cuda_gpu_executor.cc:996] successful NUMA node read from SysFS had negative value (-1), but there must be at least one NUMA node, so returning NUMA node zero. See more at https://github.com/torvalds/linux/blob/v6.0/Documentation/ABI/testing/sysfs-bus-pci#L344-L355\n",
      "2023-05-03 15:29:37.404771: I tensorflow/compiler/xla/stream_executor/cuda/cuda_gpu_executor.cc:996] successful NUMA node read from SysFS had negative value (-1), but there must be at least one NUMA node, so returning NUMA node zero. See more at https://github.com/torvalds/linux/blob/v6.0/Documentation/ABI/testing/sysfs-bus-pci#L344-L355\n",
      "2023-05-03 15:29:37.404977: I tensorflow/compiler/xla/stream_executor/cuda/cuda_gpu_executor.cc:996] successful NUMA node read from SysFS had negative value (-1), but there must be at least one NUMA node, so returning NUMA node zero. See more at https://github.com/torvalds/linux/blob/v6.0/Documentation/ABI/testing/sysfs-bus-pci#L344-L355\n",
      "2023-05-03 15:29:38.438401: I tensorflow/compiler/xla/stream_executor/cuda/cuda_gpu_executor.cc:996] successful NUMA node read from SysFS had negative value (-1), but there must be at least one NUMA node, so returning NUMA node zero. See more at https://github.com/torvalds/linux/blob/v6.0/Documentation/ABI/testing/sysfs-bus-pci#L344-L355\n",
      "2023-05-03 15:29:38.438677: I tensorflow/compiler/xla/stream_executor/cuda/cuda_gpu_executor.cc:996] successful NUMA node read from SysFS had negative value (-1), but there must be at least one NUMA node, so returning NUMA node zero. See more at https://github.com/torvalds/linux/blob/v6.0/Documentation/ABI/testing/sysfs-bus-pci#L344-L355\n",
      "2023-05-03 15:29:38.438881: I tensorflow/compiler/xla/stream_executor/cuda/cuda_gpu_executor.cc:996] successful NUMA node read from SysFS had negative value (-1), but there must be at least one NUMA node, so returning NUMA node zero. See more at https://github.com/torvalds/linux/blob/v6.0/Documentation/ABI/testing/sysfs-bus-pci#L344-L355\n",
      "2023-05-03 15:29:38.439030: W tensorflow/core/common_runtime/gpu/gpu_bfc_allocator.cc:47] Overriding orig_value setting because the TF_FORCE_GPU_ALLOW_GROWTH environment variable is set. Original config value was 0.\n",
      "2023-05-03 15:29:38.439073: I tensorflow/core/common_runtime/gpu/gpu_device.cc:1635] Created device /job:localhost/replica:0/task:0/device:GPU:0 with 13678 MB memory:  -> device: 0, name: Tesla T4, pci bus id: 0000:00:04.0, compute capability: 7.5\n",
      "2023-05-03 15:29:38.471557: I tensorflow/compiler/mlir/mlir_graph_optimization_pass.cc:353] MLIR V1 optimization pass is not enabled\n",
      "the loss in 200th batch is: 10.790894\n",
      "the loss in 400th batch is: 10.605453\n",
      "the loss in 600th batch is: 10.603514\n",
      "the loss in 800th batch is: 10.473182\n",
      "the loss in 1000th batch is: 10.443127\n",
      "the loss in 1200th batch is: 10.105879\n",
      "the loss in 1400th batch is: 9.956108\n",
      "the loss in 1600th batch is: 9.995920\n",
      "the loss in 1800th batch is: 9.898530\n",
      "the loss in 2000th batch is: 9.432102\n",
      "the loss in 2200th batch is: 9.860108\n",
      "the loss in 2400th batch is: 9.435343\n",
      "the loss in 2600th batch is: 9.137305\n",
      "the loss in 2800th batch is: 9.081281\n",
      "the loss in 3000th batch is: 8.732599\n",
      "the loss in 3200th batch is: 9.280207\n",
      "the loss in 3400th batch is: 8.933239\n",
      "the loss in 3600th batch is: 9.097950\n",
      "the loss in 3800th batch is: 8.535502\n",
      "the loss in 4000th batch is: 8.692815\n",
      "#############################################################\n",
      "total clicks: 118306, total purchase:5291\n",
      "~~~~~~~~~~~~~~~~~~~~~~~~~~~~~~~~~~~~~~~~~~~~~~~~~~~~~~~~~~~~~\n",
      "cumulative reward @ 5: 5956.800000\n",
      "clicks hr ndcg @ 5 : 0.170439, 0.134778\n",
      "purchase hr and ndcg @5 : 0.363636, 0.311309\n",
      "~~~~~~~~~~~~~~~~~~~~~~~~~~~~~~~~~~~~~~~~~~~~~~~~~~~~~~~~~~~~~\n",
      "cumulative reward @ 10: 6850.800000\n",
      "clicks hr ndcg @ 10 : 0.200320, 0.144440\n",
      "purchase hr and ndcg @10 : 0.398979, 0.322806\n",
      "~~~~~~~~~~~~~~~~~~~~~~~~~~~~~~~~~~~~~~~~~~~~~~~~~~~~~~~~~~~~~\n",
      "cumulative reward @ 15: 7352.000000\n",
      "clicks hr ndcg @ 15 : 0.216980, 0.148851\n",
      "purchase hr and ndcg @15 : 0.419202, 0.328161\n",
      "~~~~~~~~~~~~~~~~~~~~~~~~~~~~~~~~~~~~~~~~~~~~~~~~~~~~~~~~~~~~~\n",
      "cumulative reward @ 20: 7706.000000\n",
      "clicks hr ndcg @ 20 : 0.229194, 0.151738\n",
      "purchase hr and ndcg @20 : 0.431487, 0.331062\n",
      "#############################################################\n",
      "the loss in 4200th batch is: 8.185101\n",
      "the loss in 4400th batch is: 8.496216\n",
      "the loss in 4600th batch is: 8.242091\n",
      "the loss in 4800th batch is: 8.171198\n",
      "the loss in 5000th batch is: 8.270238\n",
      "the loss in 5200th batch is: 8.365671\n",
      "the loss in 5400th batch is: 8.044277\n",
      "the loss in 5600th batch is: 7.897543\n",
      "the loss in 5800th batch is: 8.047426\n",
      "the loss in 6000th batch is: 7.299086\n",
      "the loss in 6200th batch is: 8.122466\n",
      "the loss in 6400th batch is: 7.776370\n",
      "the loss in 6600th batch is: 7.317193\n",
      "the loss in 6800th batch is: 7.475313\n",
      "the loss in 7000th batch is: 7.251836\n",
      "the loss in 7200th batch is: 7.299920\n",
      "the loss in 7400th batch is: 7.595531\n",
      "the loss in 7600th batch is: 7.565703\n"
     ]
    }
   ],
   "source": [
    "!python \"/content/recommendation-system/ItemFeatures/Retailrocket/src/SNQN_item_feature.py\" --model=GRU --data=\"/content/data/\" --epoch=2 --lambda_value=1"
   ]
  },
  {
   "cell_type": "markdown",
   "metadata": {
    "collapsed": false,
    "id": "Fa0ECScU3bX8"
   },
   "source": [
    "8. Run script to begin training and evaluate the SNQN model(without item Features)."
   ]
  },
  {
   "cell_type": "code",
   "execution_count": 8,
   "metadata": {
    "colab": {
     "base_uri": "https://localhost:8080/"
    },
    "id": "IPGdFA4j3bX8",
    "outputId": "430bc2c3-99f0-4505-f59f-87d82449a0cb"
   },
   "outputs": [
    {
     "output_type": "stream",
     "name": "stdout",
     "text": [
      "2023-05-03 16:08:08.662346: I tensorflow/core/platform/cpu_feature_guard.cc:182] This TensorFlow binary is optimized to use available CPU instructions in performance-critical operations.\n",
      "To enable the following instructions: AVX2 FMA, in other operations, rebuild TensorFlow with the appropriate compiler flags.\n",
      "2023-05-03 16:08:09.823573: W tensorflow/compiler/tf2tensorrt/utils/py_utils.cc:38] TF-TRT Warning: Could not find TensorRT\n",
      "/content/recommendation-system/ItemFeatures/Retailrocket/src/SNQN_new.py:134: UserWarning: `tf.nn.rnn_cell.GRUCell` is deprecated and will be removed in a future version. This class is equivalent as `tf.keras.layers.GRUCell`, and will be replaced by that in Tensorflow 2.0.\n",
      "  tf.compat.v1.nn.rnn_cell.GRUCell(self.hidden_size),\n",
      "2023-05-03 16:08:12.478149: I tensorflow/compiler/xla/stream_executor/cuda/cuda_gpu_executor.cc:996] successful NUMA node read from SysFS had negative value (-1), but there must be at least one NUMA node, so returning NUMA node zero. See more at https://github.com/torvalds/linux/blob/v6.0/Documentation/ABI/testing/sysfs-bus-pci#L344-L355\n",
      "2023-05-03 16:08:12.511627: I tensorflow/compiler/xla/stream_executor/cuda/cuda_gpu_executor.cc:996] successful NUMA node read from SysFS had negative value (-1), but there must be at least one NUMA node, so returning NUMA node zero. See more at https://github.com/torvalds/linux/blob/v6.0/Documentation/ABI/testing/sysfs-bus-pci#L344-L355\n",
      "2023-05-03 16:08:12.511942: I tensorflow/compiler/xla/stream_executor/cuda/cuda_gpu_executor.cc:996] successful NUMA node read from SysFS had negative value (-1), but there must be at least one NUMA node, so returning NUMA node zero. See more at https://github.com/torvalds/linux/blob/v6.0/Documentation/ABI/testing/sysfs-bus-pci#L344-L355\n",
      "/content/recommendation-system/ItemFeatures/Retailrocket/src/SNQN_new.py:146: UserWarning: `tf.layers.dense` is deprecated and will be removed in a future version. Please use `tf.keras.layers.Dense` instead.\n",
      "  self.output1 = tf.compat.v1.layers.dense(self.states_hidden, self.item_num,activation=None)\n",
      "/content/recommendation-system/ItemFeatures/Retailrocket/src/SNQN_new.py:147: UserWarning: `tf.layers.dense` is deprecated and will be removed in a future version. Please use `tf.keras.layers.Dense` instead.\n",
      "  self.output2 = tf.compat.v1.layers.dense(self.states_hidden, self.item_num,activation=None)\n",
      "2023-05-03 16:08:18.017856: I tensorflow/compiler/xla/stream_executor/cuda/cuda_gpu_executor.cc:996] successful NUMA node read from SysFS had negative value (-1), but there must be at least one NUMA node, so returning NUMA node zero. See more at https://github.com/torvalds/linux/blob/v6.0/Documentation/ABI/testing/sysfs-bus-pci#L344-L355\n",
      "2023-05-03 16:08:18.018203: I tensorflow/compiler/xla/stream_executor/cuda/cuda_gpu_executor.cc:996] successful NUMA node read from SysFS had negative value (-1), but there must be at least one NUMA node, so returning NUMA node zero. See more at https://github.com/torvalds/linux/blob/v6.0/Documentation/ABI/testing/sysfs-bus-pci#L344-L355\n",
      "2023-05-03 16:08:18.018440: I tensorflow/compiler/xla/stream_executor/cuda/cuda_gpu_executor.cc:996] successful NUMA node read from SysFS had negative value (-1), but there must be at least one NUMA node, so returning NUMA node zero. See more at https://github.com/torvalds/linux/blob/v6.0/Documentation/ABI/testing/sysfs-bus-pci#L344-L355\n",
      "2023-05-03 16:08:19.023905: I tensorflow/compiler/xla/stream_executor/cuda/cuda_gpu_executor.cc:996] successful NUMA node read from SysFS had negative value (-1), but there must be at least one NUMA node, so returning NUMA node zero. See more at https://github.com/torvalds/linux/blob/v6.0/Documentation/ABI/testing/sysfs-bus-pci#L344-L355\n",
      "2023-05-03 16:08:19.024208: I tensorflow/compiler/xla/stream_executor/cuda/cuda_gpu_executor.cc:996] successful NUMA node read from SysFS had negative value (-1), but there must be at least one NUMA node, so returning NUMA node zero. See more at https://github.com/torvalds/linux/blob/v6.0/Documentation/ABI/testing/sysfs-bus-pci#L344-L355\n",
      "2023-05-03 16:08:19.024446: I tensorflow/compiler/xla/stream_executor/cuda/cuda_gpu_executor.cc:996] successful NUMA node read from SysFS had negative value (-1), but there must be at least one NUMA node, so returning NUMA node zero. See more at https://github.com/torvalds/linux/blob/v6.0/Documentation/ABI/testing/sysfs-bus-pci#L344-L355\n",
      "2023-05-03 16:08:19.024595: W tensorflow/core/common_runtime/gpu/gpu_bfc_allocator.cc:47] Overriding orig_value setting because the TF_FORCE_GPU_ALLOW_GROWTH environment variable is set. Original config value was 0.\n",
      "2023-05-03 16:08:19.024636: I tensorflow/core/common_runtime/gpu/gpu_device.cc:1635] Created device /job:localhost/replica:0/task:0/device:GPU:0 with 13678 MB memory:  -> device: 0, name: Tesla T4, pci bus id: 0000:00:04.0, compute capability: 7.5\n",
      "2023-05-03 16:08:19.053524: I tensorflow/compiler/mlir/mlir_graph_optimization_pass.cc:353] MLIR V1 optimization pass is not enabled\n",
      "#############################################################\n",
      "total clicks: 118306, total purchase:5291\n",
      "~~~~~~~~~~~~~~~~~~~~~~~~~~~~~~~~~~~~~~~~~~~~~~~~~~~~~~~~~~~~~\n",
      "cumulative reward @ 5: 1.000000\n",
      "clicks hr ndcg @ 5 : 0.000042, 0.000030\n",
      "purchase hr and ndcg @5 : 0.000000, 0.000000\n",
      "~~~~~~~~~~~~~~~~~~~~~~~~~~~~~~~~~~~~~~~~~~~~~~~~~~~~~~~~~~~~~\n",
      "cumulative reward @ 10: 3.000000\n",
      "clicks hr ndcg @ 10 : 0.000127, 0.000056\n",
      "purchase hr and ndcg @10 : 0.000000, 0.000000\n",
      "~~~~~~~~~~~~~~~~~~~~~~~~~~~~~~~~~~~~~~~~~~~~~~~~~~~~~~~~~~~~~\n",
      "cumulative reward @ 15: 4.200000\n",
      "clicks hr ndcg @ 15 : 0.000178, 0.000070\n",
      "purchase hr and ndcg @15 : 0.000000, 0.000000\n",
      "~~~~~~~~~~~~~~~~~~~~~~~~~~~~~~~~~~~~~~~~~~~~~~~~~~~~~~~~~~~~~\n",
      "cumulative reward @ 20: 4.800000\n",
      "clicks hr ndcg @ 20 : 0.000203, 0.000076\n",
      "purchase hr and ndcg @20 : 0.000000, 0.000000\n",
      "#############################################################\n",
      "the loss in 200th batch is: 10.861753\n",
      "the loss in 400th batch is: 10.624926\n",
      "the loss in 600th batch is: 10.485254\n",
      "the loss in 800th batch is: 10.251410\n",
      "the loss in 1000th batch is: 10.179996\n",
      "the loss in 1200th batch is: 10.007394\n",
      "the loss in 1400th batch is: 10.005815\n",
      "the loss in 1600th batch is: 9.792669\n",
      "the loss in 1800th batch is: 9.784719\n",
      "the loss in 2000th batch is: 9.754870\n",
      "the loss in 2200th batch is: 9.621178\n",
      "the loss in 2400th batch is: 9.429906\n",
      "the loss in 2600th batch is: 9.254181\n",
      "the loss in 2800th batch is: 9.259777\n",
      "the loss in 3000th batch is: 9.157537\n",
      "the loss in 3200th batch is: 8.791048\n",
      "the loss in 3400th batch is: 8.884945\n",
      "the loss in 3600th batch is: 9.072904\n",
      "the loss in 3800th batch is: 8.818467\n",
      "the loss in 4000th batch is: 8.684736\n",
      "#############################################################\n",
      "total clicks: 118306, total purchase:5291\n",
      "~~~~~~~~~~~~~~~~~~~~~~~~~~~~~~~~~~~~~~~~~~~~~~~~~~~~~~~~~~~~~\n",
      "cumulative reward @ 5: 5998.200000\n",
      "clicks hr ndcg @ 5 : 0.170372, 0.134854\n",
      "purchase hr and ndcg @5 : 0.371763, 0.319153\n",
      "~~~~~~~~~~~~~~~~~~~~~~~~~~~~~~~~~~~~~~~~~~~~~~~~~~~~~~~~~~~~~\n",
      "cumulative reward @ 10: 6890.400000\n",
      "clicks hr ndcg @ 10 : 0.200725, 0.144680\n",
      "purchase hr and ndcg @10 : 0.404649, 0.329729\n",
      "~~~~~~~~~~~~~~~~~~~~~~~~~~~~~~~~~~~~~~~~~~~~~~~~~~~~~~~~~~~~~\n",
      "cumulative reward @ 15: 7416.000000\n",
      "clicks hr ndcg @ 15 : 0.217825, 0.149209\n",
      "purchase hr and ndcg @15 : 0.427518, 0.335778\n",
      "~~~~~~~~~~~~~~~~~~~~~~~~~~~~~~~~~~~~~~~~~~~~~~~~~~~~~~~~~~~~~\n",
      "cumulative reward @ 20: 7786.000000\n",
      "clicks hr ndcg @ 20 : 0.230039, 0.152096\n",
      "purchase hr and ndcg @20 : 0.442827, 0.339388\n",
      "#############################################################\n",
      "the loss in 4200th batch is: 8.377929\n",
      "the loss in 4400th batch is: 8.648557\n",
      "the loss in 4600th batch is: 8.117897\n",
      "the loss in 4800th batch is: 8.400012\n",
      "the loss in 5000th batch is: 8.444330\n",
      "the loss in 5200th batch is: 8.045093\n",
      "the loss in 5400th batch is: 7.597498\n",
      "the loss in 5600th batch is: 7.585328\n",
      "the loss in 5800th batch is: 8.260588\n",
      "the loss in 6000th batch is: 7.931128\n",
      "the loss in 6200th batch is: 7.330739\n",
      "the loss in 6400th batch is: 7.416056\n",
      "the loss in 6600th batch is: 7.803435\n",
      "the loss in 6800th batch is: 7.506076\n",
      "the loss in 7000th batch is: 7.658955\n",
      "the loss in 7200th batch is: 7.404443\n",
      "the loss in 7400th batch is: 7.305675\n",
      "the loss in 7600th batch is: 6.823301\n"
     ]
    }
   ],
   "source": [
    "!python \"/content/recommendation-system/ItemFeatures/Retailrocket/src/SNQN_new.py\" --model=GRU --data=\"/content/data/\" --epoch=2"
   ]
  }
 ],
 "metadata": {
  "accelerator": "GPU",
  "colab": {
   "provenance": []
  },
  "gpuClass": "standard",
  "kernelspec": {
   "display_name": "Python 3",
   "language": "python",
   "name": "python3"
  },
  "language_info": {
   "name": "python",
   "version": "3.9.6 (default, Sep 26 2022, 11:37:49) \n[Clang 14.0.0 (clang-1400.0.29.202)]"
  },
  "vscode": {
   "interpreter": {
    "hash": "31f2aee4e71d21fbe5cf8b01ff0e069b9275f58929596ceb00d14d90e3e16cd6"
   }
  }
 },
 "nbformat": 4,
 "nbformat_minor": 0
}
