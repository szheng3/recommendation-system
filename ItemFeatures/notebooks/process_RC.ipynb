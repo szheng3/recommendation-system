{
 "cells": [
  {
   "cell_type": "code",
   "execution_count": 1,
   "metadata": {
    "collapsed": true
   },
   "outputs": [
    {
     "name": "stderr",
     "output_type": "stream",
     "text": [
      "/var/folders/qf/p1jx3hqj5vv1t6n49gjv_wjw0000gn/T/ipykernel_395/256622538.py:17: SettingWithCopyWarning: \n",
      "A value is trying to be set on a copy of a slice from a DataFrame\n",
      "\n",
      "See the caveats in the documentation: https://pandas.pydata.org/pandas-docs/stable/user_guide/indexing.html#returning-a-view-versus-a-copy\n",
      "  result.drop_duplicates(subset=['item_id', 'category_id'], inplace=True)\n"
     ]
    }
   ],
   "source": [
    "import pandas as pd\n",
    "import os\n",
    "import pandas as pd\n",
    "\n",
    "df1 = pd.read_csv('./data/item_properties_part1.csv')\n",
    "df2 = pd.read_csv('./data/item_properties_part2.csv')\n",
    "sorted_events = pd.read_csv(os.path.join('./data', 'sorted_events.csv'))\n",
    "df = pd.concat([df1, df2])\n",
    "category_data=df[df['property']=='categoryid'][['itemid','value']]\n",
    "category_data.head()\n",
    "category_data.rename(columns={'value':'category_id','itemid':'item_id'},inplace=True)\n",
    "\n",
    "\n",
    "merged_data = pd.merge(sorted_events, category_data, on='item_id', how='left')\n",
    "merged_data['category_id'].fillna(-1, inplace=True)\n",
    "result = merged_data[['item_id', 'category_id']]\n",
    "result.drop_duplicates(subset=['item_id', 'category_id'], inplace=True)\n",
    "\n",
    "result=result[['item_id', 'category_id']].astype({'category_id': int})\n",
    "result.to_csv(\"./data/rc_item_features.csv\",index=False)\n",
    "\n"
   ]
  },
  {
   "cell_type": "code",
   "execution_count": null,
   "outputs": [],
   "source": [],
   "metadata": {
    "collapsed": false
   }
  },
  {
   "cell_type": "code",
   "execution_count": null,
   "outputs": [],
   "source": [],
   "metadata": {
    "collapsed": false
   }
  }
 ],
 "metadata": {
  "kernelspec": {
   "display_name": "Python 3",
   "language": "python",
   "name": "python3"
  },
  "language_info": {
   "codemirror_mode": {
    "name": "ipython",
    "version": 2
   },
   "file_extension": ".py",
   "mimetype": "text/x-python",
   "name": "python",
   "nbconvert_exporter": "python",
   "pygments_lexer": "ipython2",
   "version": "2.7.6"
  }
 },
 "nbformat": 4,
 "nbformat_minor": 0
}
