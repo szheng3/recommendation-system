{
 "cells": [
  {
   "cell_type": "code",
   "execution_count": 1,
   "metadata": {
    "collapsed": true
   },
   "outputs": [],
   "source": [
    "import pandas as pd\n",
    "df = pd.read_csv('./data/item_ids.csv')\n",
    "# Assign new IDs starting from 0\n",
    "df['new_id'] = range(len(df))\n",
    "\n",
    "# Save the updated dataframe to a new CSV file\n",
    "# df.to_csv('./data/new_item_ids.csv', index=False, columns=['new_id', 'itemid'])"
   ]
  },
  {
   "cell_type": "code",
   "execution_count": null,
   "outputs": [],
   "source": [
    "# id_map = dict(zip(df['itemid'], df['new_id']))\n",
    "id_map = df.set_index('itemid')['new_id'].to_dict()\n",
    "\n",
    "print(id_map)"
   ],
   "metadata": {
    "collapsed": false,
    "pycharm": {
     "is_executing": true
    }
   }
  }
 ],
 "metadata": {
  "kernelspec": {
   "display_name": "Python 3",
   "language": "python",
   "name": "python3"
  },
  "language_info": {
   "codemirror_mode": {
    "name": "ipython",
    "version": 2
   },
   "file_extension": ".py",
   "mimetype": "text/x-python",
   "name": "python",
   "nbconvert_exporter": "python",
   "pygments_lexer": "ipython2",
   "version": "2.7.6"
  }
 },
 "nbformat": 4,
 "nbformat_minor": 0
}
