{
 "cells": [
  {
   "cell_type": "markdown",
   "metadata": {
    "id": "7ltyWBrP0cnH"
   },
   "source": [
    "# SNQN (With Item Features) on H&M Data\n",
    "\n",
    "In this notebook we train an SNQN model to recomend a ranked list of items to users in the dataset. "
   ]
  },
  {
   "cell_type": "markdown",
   "metadata": {
    "id": "VEz3djcf0w7C"
   },
   "source": [
    "1. Clone the git repository containing all the source code"
   ]
  },
  {
   "cell_type": "code",
   "execution_count": 1,
   "metadata": {
    "id": "-vgK2r88Mmkd",
    "colab": {
     "base_uri": "https://localhost:8080/"
    },
    "outputId": "8e857b46-9dca-4a98-f2f0-26f41fb2a13b"
   },
   "outputs": [
    {
     "output_type": "stream",
     "name": "stdout",
     "text": [
      "Cloning into 'recommendation-system'...\n",
      "remote: Enumerating objects: 1356, done.\u001B[K\n",
      "remote: Counting objects: 100% (137/137), done.\u001B[K\n",
      "remote: Compressing objects: 100% (104/104), done.\u001B[K\n",
      "remote: Total 1356 (delta 66), reused 73 (delta 33), pack-reused 1219\u001B[K\n",
      "Receiving objects: 100% (1356/1356), 10.57 MiB | 15.47 MiB/s, done.\n",
      "Resolving deltas: 100% (696/696), done.\n"
     ]
    }
   ],
   "source": [
    "# cloning the git repository\n",
    "!rm -rf recommendation-system\n",
    "!git clone https://github.com/szheng3/recommendation-system.git"
   ]
  },
  {
   "cell_type": "markdown",
   "metadata": {
    "id": "R8WLc6n_04S8"
   },
   "source": [
    "2. Install the missing libraries (specifically for google colab)"
   ]
  },
  {
   "cell_type": "code",
   "execution_count": 2,
   "metadata": {
    "id": "dY3pkxR1AsDW",
    "colab": {
     "base_uri": "https://localhost:8080/"
    },
    "outputId": "0ba2d61d-d07a-495e-cd5f-1d9901127b6a"
   },
   "outputs": [
    {
     "output_type": "stream",
     "name": "stdout",
     "text": [
      "Looking in indexes: https://pypi.org/simple, https://us-python.pkg.dev/colab-wheels/public/simple/\n",
      "Requirement already satisfied: trfl in /usr/local/lib/python3.10/dist-packages (1.2.0)\n",
      "Requirement already satisfied: six in /usr/local/lib/python3.10/dist-packages (from trfl) (1.16.0)\n",
      "Requirement already satisfied: absl-py in /usr/local/lib/python3.10/dist-packages (from trfl) (1.4.0)\n",
      "Requirement already satisfied: dm-tree in /usr/local/lib/python3.10/dist-packages (from trfl) (0.1.8)\n",
      "Requirement already satisfied: numpy in /usr/local/lib/python3.10/dist-packages (from trfl) (1.22.4)\n",
      "Requirement already satisfied: wrapt in /usr/local/lib/python3.10/dist-packages (from trfl) (1.14.1)\n"
     ]
    }
   ],
   "source": [
    "# installing missing libraries\n",
    "!pip install trfl"
   ]
  },
  {
   "cell_type": "markdown",
   "metadata": {
    "id": "WblRLpti1A4h"
   },
   "source": [
    "3. Download the RetailRocket Dataset file from AWS S3 bucket ( we get the data from the https://github.com/architkaila/recommenders_aipi590/blob/main/DRL_Recommenders/Dataset_2_HM/HM_SNQN_Recommender.ipynb notebook)"
   ]
  },
  {
   "cell_type": "code",
   "execution_count": 3,
   "metadata": {
    "id": "lA7SMHfSMiHI",
    "colab": {
     "base_uri": "https://localhost:8080/"
    },
    "outputId": "c90e9fee-117b-4a70-8207-dfabfa860319"
   },
   "outputs": [
    {
     "output_type": "stream",
     "name": "stdout",
     "text": [
      "--2023-05-03 03:27:17--  https://szdataset.s3.us-east-2.amazonaws.com/531/hm_data.zip\n",
      "Resolving szdataset.s3.us-east-2.amazonaws.com (szdataset.s3.us-east-2.amazonaws.com)... 52.219.105.146\n",
      "Connecting to szdataset.s3.us-east-2.amazonaws.com (szdataset.s3.us-east-2.amazonaws.com)|52.219.105.146|:443... connected.\n",
      "HTTP request sent, awaiting response... 304 Not Modified\n",
      "File ‘/content/hm_data.zip’ not modified on server. Omitting download.\n",
      "\n"
     ]
    }
   ],
   "source": [
    "!wget -N https://szdataset.s3.us-east-2.amazonaws.com/531/hm_data.zip -P \"/content\""
   ]
  },
  {
   "cell_type": "markdown",
   "metadata": {
    "id": "FB5AbLV31Pjg"
   },
   "source": [
    "4. Unzip to get the data folder and put item features csv in the same folder"
   ]
  },
  {
   "cell_type": "code",
   "execution_count": 4,
   "metadata": {
    "id": "Q-MWI_XktTHX"
   },
   "outputs": [],
   "source": [
    "# Unzip to get the data folder\n",
    "\n",
    "import zipfile\n",
    "with zipfile.ZipFile(\"hm_data.zip\",\"r\") as zip_ref:\n",
    "    zip_ref.extractall(\".\")\n",
    "\n",
    "# put item features csv in the same folder\n",
    "!cp -f \"/content/recommendation-system/ItemFeatures/HM/data/hm_item_features.csv\" \"/content/hm_data\"\n"
   ]
  },
  {
   "cell_type": "markdown",
   "metadata": {
    "id": "tNt1pnmh1aaI"
   },
   "source": [
    "5. Run script to begin training and evaluate the SNQN model (when lambda=0). "
   ]
  },
  {
   "cell_type": "code",
   "execution_count": null,
   "metadata": {
    "id": "iUk2eLLkFX0g",
    "colab": {
     "base_uri": "https://localhost:8080/"
    },
    "outputId": "0a598120-afb9-451b-af8f-21c767e442e2"
   },
   "outputs": [
    {
     "output_type": "stream",
     "name": "stdout",
     "text": [
      "2023-05-03 03:27:19.772642: I tensorflow/core/platform/cpu_feature_guard.cc:182] This TensorFlow binary is optimized to use available CPU instructions in performance-critical operations.\n",
      "To enable the following instructions: AVX2 FMA, in other operations, rebuild TensorFlow with the appropriate compiler flags.\n",
      "2023-05-03 03:27:20.793439: W tensorflow/compiler/tf2tensorrt/utils/py_utils.cc:38] TF-TRT Warning: Could not find TensorRT\n",
      "/content/recommendation-system/ItemFeatures/HM/src/SNQN_item_feature.py:146: UserWarning: `tf.nn.rnn_cell.GRUCell` is deprecated and will be removed in a future version. This class is equivalent as `tf.keras.layers.GRUCell`, and will be replaced by that in Tensorflow 2.0.\n",
      "  tf.compat.v1.nn.rnn_cell.GRUCell(self.hidden_size),\n",
      "2023-05-03 03:27:23.062111: I tensorflow/compiler/xla/stream_executor/cuda/cuda_gpu_executor.cc:996] successful NUMA node read from SysFS had negative value (-1), but there must be at least one NUMA node, so returning NUMA node zero. See more at https://github.com/torvalds/linux/blob/v6.0/Documentation/ABI/testing/sysfs-bus-pci#L344-L355\n",
      "2023-05-03 03:27:23.578461: I tensorflow/compiler/xla/stream_executor/cuda/cuda_gpu_executor.cc:996] successful NUMA node read from SysFS had negative value (-1), but there must be at least one NUMA node, so returning NUMA node zero. See more at https://github.com/torvalds/linux/blob/v6.0/Documentation/ABI/testing/sysfs-bus-pci#L344-L355\n",
      "2023-05-03 03:27:23.578744: I tensorflow/compiler/xla/stream_executor/cuda/cuda_gpu_executor.cc:996] successful NUMA node read from SysFS had negative value (-1), but there must be at least one NUMA node, so returning NUMA node zero. See more at https://github.com/torvalds/linux/blob/v6.0/Documentation/ABI/testing/sysfs-bus-pci#L344-L355\n",
      "/content/recommendation-system/ItemFeatures/HM/src/SNQN_item_feature.py:278: UserWarning: `tf.layers.dense` is deprecated and will be removed in a future version. Please use `tf.keras.layers.Dense` instead.\n",
      "  self.output1 = tf.compat.v1.layers.dense(self.states_hidden, self.item_num, activation=None)\n",
      "/content/recommendation-system/ItemFeatures/HM/src/SNQN_item_feature.py:279: UserWarning: `tf.layers.dense` is deprecated and will be removed in a future version. Please use `tf.keras.layers.Dense` instead.\n",
      "  self.output2 = tf.compat.v1.layers.dense(self.states_hidden, self.item_num, activation=None)\n",
      "/content/recommendation-system/ItemFeatures/HM/src/SNQN_item_feature.py:317: UserWarning: `tf.layers.dense` is deprecated and will be removed in a future version. Please use `tf.keras.layers.Dense` instead.\n",
      "  self.feature_embedding = tf.compat.v1.layers.dense(self.item_features, self.hidden_size + 1,\n",
      "2023-05-03 03:27:26.447348: I tensorflow/compiler/xla/stream_executor/cuda/cuda_gpu_executor.cc:996] successful NUMA node read from SysFS had negative value (-1), but there must be at least one NUMA node, so returning NUMA node zero. See more at https://github.com/torvalds/linux/blob/v6.0/Documentation/ABI/testing/sysfs-bus-pci#L344-L355\n",
      "2023-05-03 03:27:26.447685: I tensorflow/compiler/xla/stream_executor/cuda/cuda_gpu_executor.cc:996] successful NUMA node read from SysFS had negative value (-1), but there must be at least one NUMA node, so returning NUMA node zero. See more at https://github.com/torvalds/linux/blob/v6.0/Documentation/ABI/testing/sysfs-bus-pci#L344-L355\n",
      "2023-05-03 03:27:26.447900: I tensorflow/compiler/xla/stream_executor/cuda/cuda_gpu_executor.cc:996] successful NUMA node read from SysFS had negative value (-1), but there must be at least one NUMA node, so returning NUMA node zero. See more at https://github.com/torvalds/linux/blob/v6.0/Documentation/ABI/testing/sysfs-bus-pci#L344-L355\n",
      "2023-05-03 03:27:28.926418: I tensorflow/compiler/xla/stream_executor/cuda/cuda_gpu_executor.cc:996] successful NUMA node read from SysFS had negative value (-1), but there must be at least one NUMA node, so returning NUMA node zero. See more at https://github.com/torvalds/linux/blob/v6.0/Documentation/ABI/testing/sysfs-bus-pci#L344-L355\n",
      "2023-05-03 03:27:28.926692: I tensorflow/compiler/xla/stream_executor/cuda/cuda_gpu_executor.cc:996] successful NUMA node read from SysFS had negative value (-1), but there must be at least one NUMA node, so returning NUMA node zero. See more at https://github.com/torvalds/linux/blob/v6.0/Documentation/ABI/testing/sysfs-bus-pci#L344-L355\n",
      "2023-05-03 03:27:28.926886: I tensorflow/compiler/xla/stream_executor/cuda/cuda_gpu_executor.cc:996] successful NUMA node read from SysFS had negative value (-1), but there must be at least one NUMA node, so returning NUMA node zero. See more at https://github.com/torvalds/linux/blob/v6.0/Documentation/ABI/testing/sysfs-bus-pci#L344-L355\n",
      "2023-05-03 03:27:28.927021: W tensorflow/core/common_runtime/gpu/gpu_bfc_allocator.cc:47] Overriding orig_value setting because the TF_FORCE_GPU_ALLOW_GROWTH environment variable is set. Original config value was 0.\n",
      "2023-05-03 03:27:28.927064: I tensorflow/core/common_runtime/gpu/gpu_device.cc:1635] Created device /job:localhost/replica:0/task:0/device:GPU:0 with 13678 MB memory:  -> device: 0, name: Tesla T4, pci bus id: 0000:00:04.0, compute capability: 7.5\n",
      "2023-05-03 03:27:28.960590: I tensorflow/compiler/mlir/mlir_graph_optimization_pass.cc:353] MLIR V1 optimization pass is not enabled\n",
      "the loss in 200th batch is: 78459.359375\n"
     ]
    }
   ],
   "source": [
    "!python \"/content/recommendation-system/ItemFeatures/HM/src/SNQN_item_feature.py\" --model=GRU --data=\"/content/hm_data/\" --epoch=2 --lambda_value=0"
   ]
  },
  {
   "cell_type": "markdown",
   "source": [
    "6. Run script to begin training and evaluate the SNQN model (when lambda=0.5). "
   ],
   "metadata": {
    "id": "VRjKY1ukafMf"
   }
  },
  {
   "cell_type": "code",
   "source": [
    "!python \"/content/recommendation-system/ItemFeatures/HM/src/SNQN_item_feature.py\" --model=GRU --data=\"/content/hm_data/\" --epoch=2 --lambda_value=0.5"
   ],
   "metadata": {
    "id": "TFUkotpDazTh"
   },
   "execution_count": null,
   "outputs": []
  },
  {
   "cell_type": "markdown",
   "source": [
    "7. Run script to begin training and evaluate the SNQN model (when lambda=1.0). "
   ],
   "metadata": {
    "id": "le01pCLWalDp"
   }
  },
  {
   "cell_type": "code",
   "execution_count": null,
   "metadata": {
    "id": "J8Zk3vmWxMdV"
   },
   "outputs": [],
   "source": [
    "!python \"/content/recommendation-system/ItemFeatures/HM/src/SNQN_item_feature.py\" --model=GRU --data=\"/content/hm_data/\" --epoch=2 --lambda_value=1"
   ]
  }
 ],
 "metadata": {
  "accelerator": "GPU",
  "colab": {
   "provenance": []
  },
  "gpuClass": "standard",
  "kernelspec": {
   "display_name": "Python 3",
   "language": "python",
   "name": "python3"
  },
  "language_info": {
   "name": "python",
   "version": "3.9.6 (default, Sep 26 2022, 11:37:49) \n[Clang 14.0.0 (clang-1400.0.29.202)]"
  },
  "vscode": {
   "interpreter": {
    "hash": "31f2aee4e71d21fbe5cf8b01ff0e069b9275f58929596ceb00d14d90e3e16cd6"
   }
  }
 },
 "nbformat": 4,
 "nbformat_minor": 0
}
