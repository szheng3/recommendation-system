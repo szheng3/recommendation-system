{
  "cells": [
    {
      "cell_type": "markdown",
      "metadata": {
        "id": "7ltyWBrP0cnH"
      },
      "source": [
        "# Add Feature Recommender on H&M Data\n",
        "\n",
        "In this notebook we train an SNQN model to recomend a ranked list of items to users in the dataset. We are using H&M's e-commerce data to train this model."
      ]
    },
    {
      "cell_type": "markdown",
      "source": [
        "1. Clone the git repository containing all the source code"
      ],
      "metadata": {
        "id": "VEz3djcf0w7C"
      }
    },
    {
      "cell_type": "code",
      "execution_count": 1,
      "metadata": {
        "colab": {
          "base_uri": "https://localhost:8080/"
        },
        "id": "-vgK2r88Mmkd",
        "outputId": "f82145ef-cb88-4bba-ffb5-c4ad351c0541"
      },
      "outputs": [
        {
          "output_type": "stream",
          "name": "stdout",
          "text": [
            "fatal: destination path 'recommendation-system' already exists and is not an empty directory.\n"
          ]
        }
      ],
      "source": [
        "# cloning the git repository\n",
        "!git clone https://github.com/szheng3/recommendation-system.git"
      ]
    },
    {
      "cell_type": "markdown",
      "source": [
        "2. Install the missing libraries (specifically for google colab)"
      ],
      "metadata": {
        "id": "R8WLc6n_04S8"
      }
    },
    {
      "cell_type": "code",
      "source": [],
      "metadata": {
        "id": "HtzL7uKEDo_d"
      },
      "execution_count": null,
      "outputs": []
    },
    {
      "cell_type": "code",
      "execution_count": 2,
      "metadata": {
        "colab": {
          "base_uri": "https://localhost:8080/"
        },
        "id": "dY3pkxR1AsDW",
        "outputId": "bf50a05f-c90b-4210-9b5b-001a5185bc03"
      },
      "outputs": [
        {
          "output_type": "stream",
          "name": "stdout",
          "text": [
            "Looking in indexes: https://pypi.org/simple, https://us-python.pkg.dev/colab-wheels/public/simple/\n",
            "Requirement already satisfied: trfl in /usr/local/lib/python3.10/dist-packages (1.2.0)\n",
            "Requirement already satisfied: absl-py in /usr/local/lib/python3.10/dist-packages (from trfl) (1.4.0)\n",
            "Requirement already satisfied: dm-tree in /usr/local/lib/python3.10/dist-packages (from trfl) (0.1.8)\n",
            "Requirement already satisfied: numpy in /usr/local/lib/python3.10/dist-packages (from trfl) (1.22.4)\n",
            "Requirement already satisfied: six in /usr/local/lib/python3.10/dist-packages (from trfl) (1.16.0)\n",
            "Requirement already satisfied: wrapt in /usr/local/lib/python3.10/dist-packages (from trfl) (1.14.1)\n"
          ]
        }
      ],
      "source": [
        "# installing missing libraries (specifically for google colab)\n",
        "!pip install trfl"
      ]
    },
    {
      "cell_type": "markdown",
      "source": [
        "3. Download the H&M Dataset transaction log file from AWS S3 bucket"
      ],
      "metadata": {
        "id": "WblRLpti1A4h"
      }
    },
    {
      "cell_type": "code",
      "execution_count": 3,
      "metadata": {
        "colab": {
          "base_uri": "https://localhost:8080/"
        },
        "id": "lA7SMHfSMiHI",
        "outputId": "49fe2741-de70-4cde-9b91-8c66ea9a8fb8"
      },
      "outputs": [
        {
          "output_type": "stream",
          "name": "stdout",
          "text": [
            "--2023-05-01 20:33:27--  https://aipi590.s3.amazonaws.com/transactions_train.csv\n",
            "Resolving aipi590.s3.amazonaws.com (aipi590.s3.amazonaws.com)... 54.231.162.121, 52.216.162.139, 3.5.1.162, ...\n",
            "Connecting to aipi590.s3.amazonaws.com (aipi590.s3.amazonaws.com)|54.231.162.121|:443... connected.\n",
            "HTTP request sent, awaiting response... 200 OK\n",
            "Length: 3488002253 (3.2G) [text/csv]\n",
            "Saving to: ‘/content/recommendation-system/ItemFeatures/HM/data/transactions_train.csv’\n",
            "\n",
            "transactions_train. 100%[===================>]   3.25G  58.5MB/s    in 54s     \n",
            "\n",
            "2023-05-01 20:34:21 (61.4 MB/s) - ‘/content/recommendation-system/ItemFeatures/HM/data/transactions_train.csv’ saved [3488002253/3488002253]\n",
            "\n"
          ]
        }
      ],
      "source": [
        "# downloading the \"transactions_train.csv\" datafile from the H&M Dataset\n",
        "!wget https://aipi590.s3.amazonaws.com/transactions_train.csv -P \"/content/recommendation-system/ItemFeatures/HM/data/\""
      ]
    },
    {
      "cell_type": "markdown",
      "source": [
        "4. Run the \"gen_replay_buffer.py\" script to pre-process data and generate replay buffer"
      ],
      "metadata": {
        "id": "FB5AbLV31Pjg"
      }
    },
    {
      "cell_type": "code",
      "execution_count": 4,
      "metadata": {
        "colab": {
          "base_uri": "https://localhost:8080/"
        },
        "id": "Q-MWI_XktTHX",
        "outputId": "ffd01ee3-da3f-4dbc-fa59-5c621a18903a"
      },
      "outputs": [
        {
          "output_type": "stream",
          "name": "stdout",
          "text": [
            "\n",
            "Start reading all transaction data ...\n",
            "Finish reading in 00:00:35\n",
            "\n",
            "Filter and save all valid sampled data\n",
            "/content/recommendation-system/ItemFeatures/HM/src/gen_replay_buffer.py:115: SettingWithCopyWarning: \n",
            "A value is trying to be set on a copy of a slice from a DataFrame.\n",
            "Try using .loc[row_indexer,col_indexer] = value instead\n",
            "\n",
            "See the caveats in the documentation: https://pandas.pydata.org/pandas-docs/stable/user_guide/indexing.html#returning-a-view-versus-a-copy\n",
            "  sampled_sessions['valid_session'] = sampled_sessions.session_id.map(sampled_sessions.groupby('session_id')['item_id'].size() > 2)\n",
            "Index(['timestamp', 'session_id', 'item_id', 'price', 'sales_channel_id'], dtype='object')\n",
            "\n",
            "Start counting popularity ...\n",
            "211141it [00:09, 21957.58it/s]\n",
            "Popularity finished in 00:00:09\n",
            "\n",
            "Start spliting into train, val, test data ...\n",
            "\n",
            "           Generate Replay Buffer:\n",
            "                Total Session Size : 20000\n",
            "                     Train:      14000 ids | 148615 actions\n",
            "                     Validation: 4000 ids | 41673 actions\n",
            "                     Test:       2000 ids | 20853 actions\n",
            "                     \n",
            "                Random : True\n",
            "                Random Seed : 1234\n",
            "                Format : paper\n",
            "    \n",
            "                Total session id number : 1245612\n",
            "                Total item id number  : 96222\n",
            "    \n",
            "Generating training replay buffer\n",
            "100% 9810/9810 [00:11<00:00, 875.02it/s] \n"
          ]
        }
      ],
      "source": [
        "# Executing the python script \"gen_replay_buffer\" to sample the given H&M dataset\n",
        "!python \"/content/recommendation-system/ItemFeatures/HM/src/gen_replay_buffer.py\" --size=20000 --format=paper --data=\"/content/recommendation-system/ItemFeatures/HM/data/\""
      ]
    },
    {
      "cell_type": "markdown",
      "source": [
        "5. Run script to begin training and evaluate the SASRec-SNQN model."
      ],
      "metadata": {
        "id": "tNt1pnmh1aaI"
      }
    },
    {
      "cell_type": "code",
      "execution_count": null,
      "metadata": {
        "colab": {
          "base_uri": "https://localhost:8080/"
        },
        "id": "J8Zk3vmWxMdV",
        "outputId": "a5a845bf-dcd2-4be0-f94c-2638d62ab790"
      },
      "outputs": [
        {
          "output_type": "stream",
          "name": "stdout",
          "text": [
            "data_statis.df\treplay_buffer.df      sampled_test.df\ttransactions_train.csv\n",
            "pop_dict.txt\tsampled_sessions.csv  sampled_train.df\n",
            "readme.md\tsampled_sessions.df   sampled_val.df\n",
            "2023-05-01 20:36:14.524199: I tensorflow/core/platform/cpu_feature_guard.cc:182] This TensorFlow binary is optimized to use available CPU instructions in performance-critical operations.\n",
            "To enable the following instructions: AVX2 FMA, in other operations, rebuild TensorFlow with the appropriate compiler flags.\n",
            "2023-05-01 20:36:15.791596: W tensorflow/compiler/tf2tensorrt/utils/py_utils.cc:38] TF-TRT Warning: Could not find TensorRT\n",
            "/content/recommendation-system/ItemFeatures/HM/src/SNQN_new.py:134: UserWarning: `tf.nn.rnn_cell.GRUCell` is deprecated and will be removed in a future version. This class is equivalent as `tf.keras.layers.GRUCell`, and will be replaced by that in Tensorflow 2.0.\n",
            "  tf.compat.v1.nn.rnn_cell.GRUCell(self.hidden_size),\n",
            "2023-05-01 20:36:18.554927: I tensorflow/compiler/xla/stream_executor/cuda/cuda_gpu_executor.cc:996] successful NUMA node read from SysFS had negative value (-1), but there must be at least one NUMA node, so returning NUMA node zero. See more at https://github.com/torvalds/linux/blob/v6.0/Documentation/ABI/testing/sysfs-bus-pci#L344-L355\n",
            "2023-05-01 20:36:19.106396: I tensorflow/compiler/xla/stream_executor/cuda/cuda_gpu_executor.cc:996] successful NUMA node read from SysFS had negative value (-1), but there must be at least one NUMA node, so returning NUMA node zero. See more at https://github.com/torvalds/linux/blob/v6.0/Documentation/ABI/testing/sysfs-bus-pci#L344-L355\n",
            "2023-05-01 20:36:19.106712: I tensorflow/compiler/xla/stream_executor/cuda/cuda_gpu_executor.cc:996] successful NUMA node read from SysFS had negative value (-1), but there must be at least one NUMA node, so returning NUMA node zero. See more at https://github.com/torvalds/linux/blob/v6.0/Documentation/ABI/testing/sysfs-bus-pci#L344-L355\n",
            "/content/recommendation-system/ItemFeatures/HM/src/SNQN_new.py:146: UserWarning: `tf.layers.dense` is deprecated and will be removed in a future version. Please use `tf.keras.layers.Dense` instead.\n",
            "  self.output1 = tf.compat.v1.layers.dense(self.states_hidden, self.item_num,activation=None)\n",
            "/content/recommendation-system/ItemFeatures/HM/src/SNQN_new.py:147: UserWarning: `tf.layers.dense` is deprecated and will be removed in a future version. Please use `tf.keras.layers.Dense` instead.\n",
            "  self.output2 = tf.compat.v1.layers.dense(self.states_hidden, self.item_num,activation=None)\n",
            "2023-05-01 20:36:22.393826: I tensorflow/compiler/xla/stream_executor/cuda/cuda_gpu_executor.cc:996] successful NUMA node read from SysFS had negative value (-1), but there must be at least one NUMA node, so returning NUMA node zero. See more at https://github.com/torvalds/linux/blob/v6.0/Documentation/ABI/testing/sysfs-bus-pci#L344-L355\n",
            "2023-05-01 20:36:22.394280: I tensorflow/compiler/xla/stream_executor/cuda/cuda_gpu_executor.cc:996] successful NUMA node read from SysFS had negative value (-1), but there must be at least one NUMA node, so returning NUMA node zero. See more at https://github.com/torvalds/linux/blob/v6.0/Documentation/ABI/testing/sysfs-bus-pci#L344-L355\n",
            "2023-05-01 20:36:22.394543: I tensorflow/compiler/xla/stream_executor/cuda/cuda_gpu_executor.cc:996] successful NUMA node read from SysFS had negative value (-1), but there must be at least one NUMA node, so returning NUMA node zero. See more at https://github.com/torvalds/linux/blob/v6.0/Documentation/ABI/testing/sysfs-bus-pci#L344-L355\n",
            "2023-05-01 20:36:25.226213: I tensorflow/compiler/xla/stream_executor/cuda/cuda_gpu_executor.cc:996] successful NUMA node read from SysFS had negative value (-1), but there must be at least one NUMA node, so returning NUMA node zero. See more at https://github.com/torvalds/linux/blob/v6.0/Documentation/ABI/testing/sysfs-bus-pci#L344-L355\n",
            "2023-05-01 20:36:25.226514: I tensorflow/compiler/xla/stream_executor/cuda/cuda_gpu_executor.cc:996] successful NUMA node read from SysFS had negative value (-1), but there must be at least one NUMA node, so returning NUMA node zero. See more at https://github.com/torvalds/linux/blob/v6.0/Documentation/ABI/testing/sysfs-bus-pci#L344-L355\n",
            "2023-05-01 20:36:25.226715: I tensorflow/compiler/xla/stream_executor/cuda/cuda_gpu_executor.cc:996] successful NUMA node read from SysFS had negative value (-1), but there must be at least one NUMA node, so returning NUMA node zero. See more at https://github.com/torvalds/linux/blob/v6.0/Documentation/ABI/testing/sysfs-bus-pci#L344-L355\n",
            "2023-05-01 20:36:25.226879: W tensorflow/core/common_runtime/gpu/gpu_bfc_allocator.cc:47] Overriding orig_value setting because the TF_FORCE_GPU_ALLOW_GROWTH environment variable is set. Original config value was 0.\n",
            "2023-05-01 20:36:25.226929: I tensorflow/core/common_runtime/gpu/gpu_device.cc:1635] Created device /job:localhost/replica:0/task:0/device:GPU:0 with 13678 MB memory:  -> device: 0, name: Tesla T4, pci bus id: 0000:00:04.0, compute capability: 7.5\n",
            "2023-05-01 20:36:25.258614: I tensorflow/compiler/mlir/mlir_graph_optimization_pass.cc:353] MLIR V1 optimization pass is not enabled\n"
          ]
        }
      ],
      "source": [
        "# Executing the python script \"SNQN_v2.py\" to train a SNQN model on the sampled data and evaluate it on validation data using HR (hit rate) and NDCG metrics for different values of k\n",
        "!ls /content/recommendation-system/ItemFeatures/HM/data/\n",
        "!python \"/content/recommendation-system/ItemFeatures/HM/src/SNQN_new.py\" --model=GRU --data=\"/content/recommendation-system/ItemFeatures/HM/data/\" --epoch=2"
      ]
    }
  ],
  "metadata": {
    "accelerator": "GPU",
    "colab": {
      "provenance": []
    },
    "gpuClass": "standard",
    "kernelspec": {
      "display_name": "Python 3",
      "language": "python",
      "name": "python3"
    },
    "language_info": {
      "name": "python",
      "version": "3.9.6 (default, Sep 26 2022, 11:37:49) \n[Clang 14.0.0 (clang-1400.0.29.202)]"
    },
    "vscode": {
      "interpreter": {
        "hash": "31f2aee4e71d21fbe5cf8b01ff0e069b9275f58929596ceb00d14d90e3e16cd6"
      }
    }
  },
  "nbformat": 4,
  "nbformat_minor": 0
}