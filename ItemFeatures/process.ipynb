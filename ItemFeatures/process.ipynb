{
 "cells": [
  {
   "cell_type": "code",
   "execution_count": 1,
   "metadata": {},
   "outputs": [],
   "source": [
    "import pandas as pd"
   ]
  },
  {
   "cell_type": "code",
   "execution_count": 2,
   "metadata": {},
   "outputs": [
    {
     "data": {
      "text/html": [
       "<div>\n",
       "<style scoped>\n",
       "    .dataframe tbody tr th:only-of-type {\n",
       "        vertical-align: middle;\n",
       "    }\n",
       "\n",
       "    .dataframe tbody tr th {\n",
       "        vertical-align: top;\n",
       "    }\n",
       "\n",
       "    .dataframe thead th {\n",
       "        text-align: right;\n",
       "    }\n",
       "</style>\n",
       "<table border=\"1\" class=\"dataframe\">\n",
       "  <thead>\n",
       "    <tr style=\"text-align: right;\">\n",
       "      <th></th>\n",
       "      <th>itemid</th>\n",
       "      <th>category_id</th>\n",
       "    </tr>\n",
       "  </thead>\n",
       "  <tbody>\n",
       "    <tr>\n",
       "      <th>0</th>\n",
       "      <td>43511</td>\n",
       "      <td>1179</td>\n",
       "    </tr>\n",
       "    <tr>\n",
       "      <th>1</th>\n",
       "      <td>54408</td>\n",
       "      <td>209</td>\n",
       "    </tr>\n",
       "    <tr>\n",
       "      <th>2</th>\n",
       "      <td>10006</td>\n",
       "      <td>1694</td>\n",
       "    </tr>\n",
       "    <tr>\n",
       "      <th>3</th>\n",
       "      <td>49432</td>\n",
       "      <td>1280</td>\n",
       "    </tr>\n",
       "    <tr>\n",
       "      <th>4</th>\n",
       "      <td>39563</td>\n",
       "      <td>1196</td>\n",
       "    </tr>\n",
       "  </tbody>\n",
       "</table>\n",
       "</div>"
      ],
      "text/plain": [
       "   itemid  category_id\n",
       "0   43511         1179\n",
       "1   54408          209\n",
       "2   10006         1694\n",
       "3   49432         1280\n",
       "4   39563         1196"
      ]
     },
     "execution_count": 2,
     "metadata": {},
     "output_type": "execute_result"
    }
   ],
   "source": [
    "# Read in processed category_item_filter file and remove the feature column added before by Shuaige\n",
    "category_item_filter_df = pd.read_csv('./category_item_filter.csv')\n",
    "category_item_filter_df.drop('features', axis=1, inplace=True)\n",
    "category_item_filter_df.columns = ['itemid', 'category_id']\n",
    "category_item_filter_df.head()"
   ]
  },
  {
   "cell_type": "code",
   "execution_count": 3,
   "metadata": {},
   "outputs": [
    {
     "data": {
      "text/html": [
       "<div>\n",
       "<style scoped>\n",
       "    .dataframe tbody tr th:only-of-type {\n",
       "        vertical-align: middle;\n",
       "    }\n",
       "\n",
       "    .dataframe tbody tr th {\n",
       "        vertical-align: top;\n",
       "    }\n",
       "\n",
       "    .dataframe thead th {\n",
       "        text-align: right;\n",
       "    }\n",
       "</style>\n",
       "<table border=\"1\" class=\"dataframe\">\n",
       "  <thead>\n",
       "    <tr style=\"text-align: right;\">\n",
       "      <th></th>\n",
       "      <th>timestamp</th>\n",
       "      <th>itemid</th>\n",
       "      <th>property</th>\n",
       "      <th>value</th>\n",
       "    </tr>\n",
       "  </thead>\n",
       "  <tbody>\n",
       "    <tr>\n",
       "      <th>0</th>\n",
       "      <td>1435460400000</td>\n",
       "      <td>460429</td>\n",
       "      <td>categoryid</td>\n",
       "      <td>1338</td>\n",
       "    </tr>\n",
       "    <tr>\n",
       "      <th>1</th>\n",
       "      <td>1441508400000</td>\n",
       "      <td>206783</td>\n",
       "      <td>888</td>\n",
       "      <td>1116713 960601 n277.200</td>\n",
       "    </tr>\n",
       "    <tr>\n",
       "      <th>2</th>\n",
       "      <td>1439089200000</td>\n",
       "      <td>395014</td>\n",
       "      <td>400</td>\n",
       "      <td>n552.000 639502 n720.000 424566</td>\n",
       "    </tr>\n",
       "    <tr>\n",
       "      <th>3</th>\n",
       "      <td>1431226800000</td>\n",
       "      <td>59481</td>\n",
       "      <td>790</td>\n",
       "      <td>n15360.000</td>\n",
       "    </tr>\n",
       "    <tr>\n",
       "      <th>4</th>\n",
       "      <td>1431831600000</td>\n",
       "      <td>156781</td>\n",
       "      <td>917</td>\n",
       "      <td>828513</td>\n",
       "    </tr>\n",
       "  </tbody>\n",
       "</table>\n",
       "</div>"
      ],
      "text/plain": [
       "       timestamp  itemid    property                            value\n",
       "0  1435460400000  460429  categoryid                             1338\n",
       "1  1441508400000  206783         888          1116713 960601 n277.200\n",
       "2  1439089200000  395014         400  n552.000 639502 n720.000 424566\n",
       "3  1431226800000   59481         790                       n15360.000\n",
       "4  1431831600000  156781         917                           828513"
      ]
     },
     "execution_count": 3,
     "metadata": {},
     "output_type": "execute_result"
    }
   ],
   "source": [
    "# Read in item_properties csv files\n",
    "df1 = pd.read_csv('./item_properties_part1.csv')\n",
    "df2 = pd.read_csv('./item_properties_part2.csv')\n",
    "item_properties_df = pd.concat([df1, df2])\n",
    "assert(len(item_properties_df) == 20275902)\n",
    "item_properties_df.head()"
   ]
  },
  {
   "cell_type": "code",
   "execution_count": 4,
   "metadata": {},
   "outputs": [
    {
     "data": {
      "text/html": [
       "<div>\n",
       "<style scoped>\n",
       "    .dataframe tbody tr th:only-of-type {\n",
       "        vertical-align: middle;\n",
       "    }\n",
       "\n",
       "    .dataframe tbody tr th {\n",
       "        vertical-align: top;\n",
       "    }\n",
       "\n",
       "    .dataframe thead th {\n",
       "        text-align: right;\n",
       "    }\n",
       "</style>\n",
       "<table border=\"1\" class=\"dataframe\">\n",
       "  <thead>\n",
       "    <tr style=\"text-align: right;\">\n",
       "      <th></th>\n",
       "      <th>timestamp</th>\n",
       "      <th>visitorid</th>\n",
       "      <th>event</th>\n",
       "      <th>itemid</th>\n",
       "      <th>transactionid</th>\n",
       "    </tr>\n",
       "  </thead>\n",
       "  <tbody>\n",
       "    <tr>\n",
       "      <th>0</th>\n",
       "      <td>1433221332117</td>\n",
       "      <td>257597</td>\n",
       "      <td>view</td>\n",
       "      <td>355908</td>\n",
       "      <td>NaN</td>\n",
       "    </tr>\n",
       "    <tr>\n",
       "      <th>1</th>\n",
       "      <td>1433224214164</td>\n",
       "      <td>992329</td>\n",
       "      <td>view</td>\n",
       "      <td>248676</td>\n",
       "      <td>NaN</td>\n",
       "    </tr>\n",
       "    <tr>\n",
       "      <th>2</th>\n",
       "      <td>1433221999827</td>\n",
       "      <td>111016</td>\n",
       "      <td>view</td>\n",
       "      <td>318965</td>\n",
       "      <td>NaN</td>\n",
       "    </tr>\n",
       "    <tr>\n",
       "      <th>3</th>\n",
       "      <td>1433221955914</td>\n",
       "      <td>483717</td>\n",
       "      <td>view</td>\n",
       "      <td>253185</td>\n",
       "      <td>NaN</td>\n",
       "    </tr>\n",
       "    <tr>\n",
       "      <th>4</th>\n",
       "      <td>1433221337106</td>\n",
       "      <td>951259</td>\n",
       "      <td>view</td>\n",
       "      <td>367447</td>\n",
       "      <td>NaN</td>\n",
       "    </tr>\n",
       "  </tbody>\n",
       "</table>\n",
       "</div>"
      ],
      "text/plain": [
       "       timestamp  visitorid event  itemid  transactionid\n",
       "0  1433221332117     257597  view  355908            NaN\n",
       "1  1433224214164     992329  view  248676            NaN\n",
       "2  1433221999827     111016  view  318965            NaN\n",
       "3  1433221955914     483717  view  253185            NaN\n",
       "4  1433221337106     951259  view  367447            NaN"
      ]
     },
     "execution_count": 4,
     "metadata": {},
     "output_type": "execute_result"
    }
   ],
   "source": [
    "# Read in events csv file\n",
    "events_df = pd.read_csv('./events.csv')\n",
    "events_df.head()"
   ]
  },
  {
   "attachments": {},
   "cell_type": "markdown",
   "metadata": {},
   "source": [
    "#### Item Feature 1: Popularity of items based on events"
   ]
  },
  {
   "cell_type": "code",
   "execution_count": 5,
   "metadata": {},
   "outputs": [
    {
     "name": "stdout",
     "output_type": "stream",
     "text": [
      "        itemid  popularity\n",
      "0            3           2\n",
      "1            4           3\n",
      "2            6          29\n",
      "3            9           2\n",
      "4           15         118\n",
      "...        ...         ...\n",
      "235056  466861         189\n",
      "235057  466862           4\n",
      "235058  466863           1\n",
      "235059  466864          89\n",
      "235060  466867           4\n",
      "\n",
      "[235061 rows x 2 columns]\n"
     ]
    }
   ],
   "source": [
    "# Assign weights to each event type\n",
    "event_weights = {'view': 1, 'addToCart': 10, 'transaction': 100}\n",
    "\n",
    "# Calculate the weighted popularity of each item\n",
    "item_popularity = events_df.groupby('itemid')['event'].apply(lambda x: sum(event_weights.get(e, 0) for e in x)).reset_index(name='popularity')\n",
    "\n",
    "print(item_popularity)"
   ]
  },
  {
   "cell_type": "code",
   "execution_count": 7,
   "metadata": {},
   "outputs": [
    {
     "name": "stdout",
     "output_type": "stream",
     "text": [
      "       itemid  category_id  popularity\n",
      "0       43511         1179         0.0\n",
      "1       54408          209         5.0\n",
      "2       10006         1694         7.0\n",
      "3       49432         1280         1.0\n",
      "4       39563         1196         6.0\n",
      "...       ...          ...         ...\n",
      "70847   12116         1255         0.0\n",
      "70848   43011         1397         0.0\n",
      "70849   14255          479         0.0\n",
      "70850   29598         1287         0.0\n",
      "70851   46971         1483       202.0\n",
      "\n",
      "[70852 rows x 3 columns]\n"
     ]
    }
   ],
   "source": [
    "# Left join based on the itemid\n",
    "category_item_filter_w_popularity_df = category_item_filter_df.merge(item_popularity, on='itemid', how='left')\n",
    "\n",
    "# Fill NA values with 0\n",
    "category_item_filter_w_popularity_df.fillna(0, inplace=True)\n",
    "\n",
    "print(category_item_filter_w_popularity_df)"
   ]
  },
  {
   "attachments": {},
   "cell_type": "markdown",
   "metadata": {},
   "source": [
    "#### Item Feature 2: Most frequent item property with the most recent timestamp"
   ]
  },
  {
   "cell_type": "code",
   "execution_count": 9,
   "metadata": {},
   "outputs": [
    {
     "name": "stdout",
     "output_type": "stream",
     "text": [
      "        itemid most_frequent_property\n",
      "0            0                      6\n",
      "1            1                    790\n",
      "2            2                   1063\n",
      "3            3                    283\n",
      "4            4                    888\n",
      "...        ...                    ...\n",
      "417048  466862                    810\n",
      "417049  466863                    227\n",
      "417050  466864                    790\n",
      "417051  466865                    888\n",
      "417052  466866                    756\n",
      "\n",
      "[417053 rows x 2 columns]\n"
     ]
    }
   ],
   "source": [
    "# Convert timestamp to datetime format\n",
    "item_properties_df['timestamp'] = pd.to_datetime(item_properties_df['timestamp'], unit='ms')\n",
    "\n",
    "# Group by itemId and find the most frequent property with the most recent timestamp\n",
    "most_frequent_properties = item_properties_df.groupby('itemid').apply(lambda x: x[x['timestamp'] == x['timestamp'].max()]['property'].value_counts().index[0]).reset_index(name='most_frequent_property')\n",
    "\n",
    "print(most_frequent_properties)"
   ]
  },
  {
   "cell_type": "code",
   "execution_count": 14,
   "metadata": {},
   "outputs": [
    {
     "name": "stdout",
     "output_type": "stream",
     "text": [
      "       itemid  category_id  popularity most_frequent_property\n",
      "0       43511         1179         0.0                    888\n",
      "1       54408          209         5.0                    189\n",
      "2       10006         1694         7.0                    765\n",
      "3       49432         1280         1.0                    888\n",
      "4       39563         1196         6.0                    348\n",
      "...       ...          ...         ...                    ...\n",
      "70847   12116         1255         0.0                    839\n",
      "70848   43011         1397         0.0                    914\n",
      "70849   14255          479         0.0                    213\n",
      "70850   29598         1287         0.0                    243\n",
      "70851   46971         1483       202.0                   1032\n",
      "\n",
      "[70852 rows x 4 columns]\n"
     ]
    }
   ],
   "source": [
    "# Left join based on the itemid\n",
    "category_item_filter_features_df = category_item_filter_w_popularity_df.merge(most_frequent_properties, on='itemid', how='left')\n",
    "\n",
    "# Dedup\n",
    "category_item_filter_features_df = category_item_filter_features_df.drop_duplicates(subset='itemid', keep='first')\n",
    "\n",
    "print(category_item_filter_features_df)"
   ]
  },
  {
   "cell_type": "code",
   "execution_count": 15,
   "metadata": {},
   "outputs": [],
   "source": [
    "category_item_filter_features_df.to_csv('category_item_filter_2.csv')"
   ]
  }
 ],
 "metadata": {
  "kernelspec": {
   "display_name": "Python 3",
   "language": "python",
   "name": "python3"
  },
  "language_info": {
   "codemirror_mode": {
    "name": "ipython",
    "version": 3
   },
   "file_extension": ".py",
   "mimetype": "text/x-python",
   "name": "python",
   "nbconvert_exporter": "python",
   "pygments_lexer": "ipython3",
   "version": "3.10.11"
  },
  "orig_nbformat": 4
 },
 "nbformat": 4,
 "nbformat_minor": 2
}
