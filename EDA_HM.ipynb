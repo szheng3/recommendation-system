{
 "cells": [
  {
   "cell_type": "markdown",
   "metadata": {
    "id": "CovRVb4AYeZQ"
   },
   "source": [
    "## Exploratory Data Analysis (EDA) for H&M Dataset"
   ]
  },
  {
   "cell_type": "markdown",
   "metadata": {
    "id": "U6MtxlEUYeZU"
   },
   "source": [
    "### Import necessary modules"
   ]
  },
  {
   "cell_type": "code",
   "execution_count": 1,
   "metadata": {
    "id": "4cHZ_ghHYeZU"
   },
   "outputs": [],
   "source": [
    "import os\n",
    "import pandas as pd\n",
    "import seaborn as sns\n",
    "import matplotlib.pyplot as plt\n",
    "import zipfile"
   ]
  },
  {
   "cell_type": "markdown",
   "source": [
    "### Download and unzip the datasets"
   ],
   "metadata": {
    "collapsed": false,
    "id": "nv2HUc_SYeZV"
   }
  },
  {
   "cell_type": "code",
   "execution_count": 2,
   "outputs": [
    {
     "output_type": "stream",
     "name": "stdout",
     "text": [
      "--2023-05-04 15:29:43--  https://szdataset.s3.us-east-2.amazonaws.com/531/hm_kaggle_data.zip\n",
      "Resolving szdataset.s3.us-east-2.amazonaws.com (szdataset.s3.us-east-2.amazonaws.com)... 52.219.88.104\n",
      "Connecting to szdataset.s3.us-east-2.amazonaws.com (szdataset.s3.us-east-2.amazonaws.com)|52.219.88.104|:443... connected.\n",
      "HTTP request sent, awaiting response... 200 OK\n",
      "Length: 609579548 (581M) [application/zip]\n",
      "Saving to: ‘/content/hm_kaggle_data.zip’\n",
      "\n",
      "hm_kaggle_data.zip  100%[===================>] 581.34M  63.8MB/s    in 9.0s    \n",
      "\n",
      "2023-05-04 15:29:52 (64.6 MB/s) - ‘/content/hm_kaggle_data.zip’ saved [609579548/609579548]\n",
      "\n"
     ]
    }
   ],
   "source": [
    "!wget -N https://szdataset.s3.us-east-2.amazonaws.com/531/hm_kaggle_data.zip -P \"/content\"\n",
    "with zipfile.ZipFile(\"hm_kaggle_data.zip\",\"r\") as zip_ref:\n",
    "    zip_ref.extractall(\".\")"
   ],
   "metadata": {
    "colab": {
     "base_uri": "https://localhost:8080/"
    },
    "id": "tDWAbFCmYeZW",
    "outputId": "907ffeeb-0087-4398-9dd7-fdbb463f55d1"
   }
  },
  {
   "cell_type": "markdown",
   "metadata": {
    "id": "bHz5XDmtYeZW"
   },
   "source": [
    "### Read in dataset files"
   ]
  },
  {
   "cell_type": "markdown",
   "metadata": {
    "id": "b_cTnfIKYeZW"
   },
   "source": [
    "#### Read in item_ids csv files (added before)"
   ]
  },
  {
   "cell_type": "code",
   "execution_count": 3,
   "metadata": {
    "colab": {
     "base_uri": "https://localhost:8080/",
     "height": 204
    },
    "id": "MYcLSNTLYeZW",
    "outputId": "dc916519-6e79-4703-9343-35c1b3c0bcd3"
   },
   "outputs": [
    {
     "output_type": "execute_result",
     "data": {
      "text/plain": [
       "      itemid  new_id\n",
       "0  304766008       0\n",
       "1  662916002       1\n",
       "2  740909001       2\n",
       "3  666382002       3\n",
       "4  583534018       4"
      ],
      "text/html": [
       "\n",
       "  <div id=\"df-1e5eac89-b3b3-4c6d-a8a3-97473158dee0\">\n",
       "    <div class=\"colab-df-container\">\n",
       "      <div>\n",
       "<style scoped>\n",
       "    .dataframe tbody tr th:only-of-type {\n",
       "        vertical-align: middle;\n",
       "    }\n",
       "\n",
       "    .dataframe tbody tr th {\n",
       "        vertical-align: top;\n",
       "    }\n",
       "\n",
       "    .dataframe thead th {\n",
       "        text-align: right;\n",
       "    }\n",
       "</style>\n",
       "<table border=\"1\" class=\"dataframe\">\n",
       "  <thead>\n",
       "    <tr style=\"text-align: right;\">\n",
       "      <th></th>\n",
       "      <th>itemid</th>\n",
       "      <th>new_id</th>\n",
       "    </tr>\n",
       "  </thead>\n",
       "  <tbody>\n",
       "    <tr>\n",
       "      <th>0</th>\n",
       "      <td>304766008</td>\n",
       "      <td>0</td>\n",
       "    </tr>\n",
       "    <tr>\n",
       "      <th>1</th>\n",
       "      <td>662916002</td>\n",
       "      <td>1</td>\n",
       "    </tr>\n",
       "    <tr>\n",
       "      <th>2</th>\n",
       "      <td>740909001</td>\n",
       "      <td>2</td>\n",
       "    </tr>\n",
       "    <tr>\n",
       "      <th>3</th>\n",
       "      <td>666382002</td>\n",
       "      <td>3</td>\n",
       "    </tr>\n",
       "    <tr>\n",
       "      <th>4</th>\n",
       "      <td>583534018</td>\n",
       "      <td>4</td>\n",
       "    </tr>\n",
       "  </tbody>\n",
       "</table>\n",
       "</div>\n",
       "      <button class=\"colab-df-convert\" onclick=\"convertToInteractive('df-1e5eac89-b3b3-4c6d-a8a3-97473158dee0')\"\n",
       "              title=\"Convert this dataframe to an interactive table.\"\n",
       "              style=\"display:none;\">\n",
       "        \n",
       "  <svg xmlns=\"http://www.w3.org/2000/svg\" height=\"24px\"viewBox=\"0 0 24 24\"\n",
       "       width=\"24px\">\n",
       "    <path d=\"M0 0h24v24H0V0z\" fill=\"none\"/>\n",
       "    <path d=\"M18.56 5.44l.94 2.06.94-2.06 2.06-.94-2.06-.94-.94-2.06-.94 2.06-2.06.94zm-11 1L8.5 8.5l.94-2.06 2.06-.94-2.06-.94L8.5 2.5l-.94 2.06-2.06.94zm10 10l.94 2.06.94-2.06 2.06-.94-2.06-.94-.94-2.06-.94 2.06-2.06.94z\"/><path d=\"M17.41 7.96l-1.37-1.37c-.4-.4-.92-.59-1.43-.59-.52 0-1.04.2-1.43.59L10.3 9.45l-7.72 7.72c-.78.78-.78 2.05 0 2.83L4 21.41c.39.39.9.59 1.41.59.51 0 1.02-.2 1.41-.59l7.78-7.78 2.81-2.81c.8-.78.8-2.07 0-2.86zM5.41 20L4 18.59l7.72-7.72 1.47 1.35L5.41 20z\"/>\n",
       "  </svg>\n",
       "      </button>\n",
       "      \n",
       "  <style>\n",
       "    .colab-df-container {\n",
       "      display:flex;\n",
       "      flex-wrap:wrap;\n",
       "      gap: 12px;\n",
       "    }\n",
       "\n",
       "    .colab-df-convert {\n",
       "      background-color: #E8F0FE;\n",
       "      border: none;\n",
       "      border-radius: 50%;\n",
       "      cursor: pointer;\n",
       "      display: none;\n",
       "      fill: #1967D2;\n",
       "      height: 32px;\n",
       "      padding: 0 0 0 0;\n",
       "      width: 32px;\n",
       "    }\n",
       "\n",
       "    .colab-df-convert:hover {\n",
       "      background-color: #E2EBFA;\n",
       "      box-shadow: 0px 1px 2px rgba(60, 64, 67, 0.3), 0px 1px 3px 1px rgba(60, 64, 67, 0.15);\n",
       "      fill: #174EA6;\n",
       "    }\n",
       "\n",
       "    [theme=dark] .colab-df-convert {\n",
       "      background-color: #3B4455;\n",
       "      fill: #D2E3FC;\n",
       "    }\n",
       "\n",
       "    [theme=dark] .colab-df-convert:hover {\n",
       "      background-color: #434B5C;\n",
       "      box-shadow: 0px 1px 3px 1px rgba(0, 0, 0, 0.15);\n",
       "      filter: drop-shadow(0px 1px 2px rgba(0, 0, 0, 0.3));\n",
       "      fill: #FFFFFF;\n",
       "    }\n",
       "  </style>\n",
       "\n",
       "      <script>\n",
       "        const buttonEl =\n",
       "          document.querySelector('#df-1e5eac89-b3b3-4c6d-a8a3-97473158dee0 button.colab-df-convert');\n",
       "        buttonEl.style.display =\n",
       "          google.colab.kernel.accessAllowed ? 'block' : 'none';\n",
       "\n",
       "        async function convertToInteractive(key) {\n",
       "          const element = document.querySelector('#df-1e5eac89-b3b3-4c6d-a8a3-97473158dee0');\n",
       "          const dataTable =\n",
       "            await google.colab.kernel.invokeFunction('convertToInteractive',\n",
       "                                                     [key], {});\n",
       "          if (!dataTable) return;\n",
       "\n",
       "          const docLinkHtml = 'Like what you see? Visit the ' +\n",
       "            '<a target=\"_blank\" href=https://colab.research.google.com/notebooks/data_table.ipynb>data table notebook</a>'\n",
       "            + ' to learn more about interactive tables.';\n",
       "          element.innerHTML = '';\n",
       "          dataTable['output_type'] = 'display_data';\n",
       "          await google.colab.output.renderOutput(dataTable, element);\n",
       "          const docLink = document.createElement('div');\n",
       "          docLink.innerHTML = docLinkHtml;\n",
       "          element.appendChild(docLink);\n",
       "        }\n",
       "      </script>\n",
       "    </div>\n",
       "  </div>\n",
       "  "
      ]
     },
     "metadata": {},
     "execution_count": 3
    }
   ],
   "source": [
    "item_ids_df = pd.read_csv('./data/item_ids.csv')\n",
    "item_ids_df.head()"
   ]
  },
  {
   "cell_type": "markdown",
   "metadata": {
    "id": "1CiLAtFzYeZX"
   },
   "source": [
    "#### Read in transactions_train csv file"
   ]
  },
  {
   "cell_type": "code",
   "execution_count": 4,
   "metadata": {
    "colab": {
     "base_uri": "https://localhost:8080/",
     "height": 204
    },
    "id": "IkWq4UXZYeZX",
    "outputId": "d24e93d3-8646-4c4f-ed0e-81b91eb844bc"
   },
   "outputs": [
    {
     "output_type": "execute_result",
     "data": {
      "text/plain": [
       "        t_dat                                        customer_id     itemid  \\\n",
       "0  2018-09-20  000058a12d5b43e67d225668fa1f8d618c13dc232df0ca...  663713001   \n",
       "1  2018-09-20  000058a12d5b43e67d225668fa1f8d618c13dc232df0ca...  541518023   \n",
       "2  2018-09-20  00007d2de826758b65a93dd24ce629ed66842531df6699...  505221004   \n",
       "3  2018-09-20  00007d2de826758b65a93dd24ce629ed66842531df6699...  685687003   \n",
       "4  2018-09-20  00007d2de826758b65a93dd24ce629ed66842531df6699...  685687004   \n",
       "\n",
       "      price  sales_channel_id  \n",
       "0  0.050831                 2  \n",
       "1  0.030492                 2  \n",
       "2  0.015237                 2  \n",
       "3  0.016932                 2  \n",
       "4  0.016932                 2  "
      ],
      "text/html": [
       "\n",
       "  <div id=\"df-d3ecb099-d1dc-4534-bc6a-500257c25efd\">\n",
       "    <div class=\"colab-df-container\">\n",
       "      <div>\n",
       "<style scoped>\n",
       "    .dataframe tbody tr th:only-of-type {\n",
       "        vertical-align: middle;\n",
       "    }\n",
       "\n",
       "    .dataframe tbody tr th {\n",
       "        vertical-align: top;\n",
       "    }\n",
       "\n",
       "    .dataframe thead th {\n",
       "        text-align: right;\n",
       "    }\n",
       "</style>\n",
       "<table border=\"1\" class=\"dataframe\">\n",
       "  <thead>\n",
       "    <tr style=\"text-align: right;\">\n",
       "      <th></th>\n",
       "      <th>t_dat</th>\n",
       "      <th>customer_id</th>\n",
       "      <th>itemid</th>\n",
       "      <th>price</th>\n",
       "      <th>sales_channel_id</th>\n",
       "    </tr>\n",
       "  </thead>\n",
       "  <tbody>\n",
       "    <tr>\n",
       "      <th>0</th>\n",
       "      <td>2018-09-20</td>\n",
       "      <td>000058a12d5b43e67d225668fa1f8d618c13dc232df0ca...</td>\n",
       "      <td>663713001</td>\n",
       "      <td>0.050831</td>\n",
       "      <td>2</td>\n",
       "    </tr>\n",
       "    <tr>\n",
       "      <th>1</th>\n",
       "      <td>2018-09-20</td>\n",
       "      <td>000058a12d5b43e67d225668fa1f8d618c13dc232df0ca...</td>\n",
       "      <td>541518023</td>\n",
       "      <td>0.030492</td>\n",
       "      <td>2</td>\n",
       "    </tr>\n",
       "    <tr>\n",
       "      <th>2</th>\n",
       "      <td>2018-09-20</td>\n",
       "      <td>00007d2de826758b65a93dd24ce629ed66842531df6699...</td>\n",
       "      <td>505221004</td>\n",
       "      <td>0.015237</td>\n",
       "      <td>2</td>\n",
       "    </tr>\n",
       "    <tr>\n",
       "      <th>3</th>\n",
       "      <td>2018-09-20</td>\n",
       "      <td>00007d2de826758b65a93dd24ce629ed66842531df6699...</td>\n",
       "      <td>685687003</td>\n",
       "      <td>0.016932</td>\n",
       "      <td>2</td>\n",
       "    </tr>\n",
       "    <tr>\n",
       "      <th>4</th>\n",
       "      <td>2018-09-20</td>\n",
       "      <td>00007d2de826758b65a93dd24ce629ed66842531df6699...</td>\n",
       "      <td>685687004</td>\n",
       "      <td>0.016932</td>\n",
       "      <td>2</td>\n",
       "    </tr>\n",
       "  </tbody>\n",
       "</table>\n",
       "</div>\n",
       "      <button class=\"colab-df-convert\" onclick=\"convertToInteractive('df-d3ecb099-d1dc-4534-bc6a-500257c25efd')\"\n",
       "              title=\"Convert this dataframe to an interactive table.\"\n",
       "              style=\"display:none;\">\n",
       "        \n",
       "  <svg xmlns=\"http://www.w3.org/2000/svg\" height=\"24px\"viewBox=\"0 0 24 24\"\n",
       "       width=\"24px\">\n",
       "    <path d=\"M0 0h24v24H0V0z\" fill=\"none\"/>\n",
       "    <path d=\"M18.56 5.44l.94 2.06.94-2.06 2.06-.94-2.06-.94-.94-2.06-.94 2.06-2.06.94zm-11 1L8.5 8.5l.94-2.06 2.06-.94-2.06-.94L8.5 2.5l-.94 2.06-2.06.94zm10 10l.94 2.06.94-2.06 2.06-.94-2.06-.94-.94-2.06-.94 2.06-2.06.94z\"/><path d=\"M17.41 7.96l-1.37-1.37c-.4-.4-.92-.59-1.43-.59-.52 0-1.04.2-1.43.59L10.3 9.45l-7.72 7.72c-.78.78-.78 2.05 0 2.83L4 21.41c.39.39.9.59 1.41.59.51 0 1.02-.2 1.41-.59l7.78-7.78 2.81-2.81c.8-.78.8-2.07 0-2.86zM5.41 20L4 18.59l7.72-7.72 1.47 1.35L5.41 20z\"/>\n",
       "  </svg>\n",
       "      </button>\n",
       "      \n",
       "  <style>\n",
       "    .colab-df-container {\n",
       "      display:flex;\n",
       "      flex-wrap:wrap;\n",
       "      gap: 12px;\n",
       "    }\n",
       "\n",
       "    .colab-df-convert {\n",
       "      background-color: #E8F0FE;\n",
       "      border: none;\n",
       "      border-radius: 50%;\n",
       "      cursor: pointer;\n",
       "      display: none;\n",
       "      fill: #1967D2;\n",
       "      height: 32px;\n",
       "      padding: 0 0 0 0;\n",
       "      width: 32px;\n",
       "    }\n",
       "\n",
       "    .colab-df-convert:hover {\n",
       "      background-color: #E2EBFA;\n",
       "      box-shadow: 0px 1px 2px rgba(60, 64, 67, 0.3), 0px 1px 3px 1px rgba(60, 64, 67, 0.15);\n",
       "      fill: #174EA6;\n",
       "    }\n",
       "\n",
       "    [theme=dark] .colab-df-convert {\n",
       "      background-color: #3B4455;\n",
       "      fill: #D2E3FC;\n",
       "    }\n",
       "\n",
       "    [theme=dark] .colab-df-convert:hover {\n",
       "      background-color: #434B5C;\n",
       "      box-shadow: 0px 1px 3px 1px rgba(0, 0, 0, 0.15);\n",
       "      filter: drop-shadow(0px 1px 2px rgba(0, 0, 0, 0.3));\n",
       "      fill: #FFFFFF;\n",
       "    }\n",
       "  </style>\n",
       "\n",
       "      <script>\n",
       "        const buttonEl =\n",
       "          document.querySelector('#df-d3ecb099-d1dc-4534-bc6a-500257c25efd button.colab-df-convert');\n",
       "        buttonEl.style.display =\n",
       "          google.colab.kernel.accessAllowed ? 'block' : 'none';\n",
       "\n",
       "        async function convertToInteractive(key) {\n",
       "          const element = document.querySelector('#df-d3ecb099-d1dc-4534-bc6a-500257c25efd');\n",
       "          const dataTable =\n",
       "            await google.colab.kernel.invokeFunction('convertToInteractive',\n",
       "                                                     [key], {});\n",
       "          if (!dataTable) return;\n",
       "\n",
       "          const docLinkHtml = 'Like what you see? Visit the ' +\n",
       "            '<a target=\"_blank\" href=https://colab.research.google.com/notebooks/data_table.ipynb>data table notebook</a>'\n",
       "            + ' to learn more about interactive tables.';\n",
       "          element.innerHTML = '';\n",
       "          dataTable['output_type'] = 'display_data';\n",
       "          await google.colab.output.renderOutput(dataTable, element);\n",
       "          const docLink = document.createElement('div');\n",
       "          docLink.innerHTML = docLinkHtml;\n",
       "          element.appendChild(docLink);\n",
       "        }\n",
       "      </script>\n",
       "    </div>\n",
       "  </div>\n",
       "  "
      ]
     },
     "metadata": {},
     "execution_count": 4
    }
   ],
   "source": [
    "transactions_train_df = pd.read_csv('./data/transactions_train.csv')\n",
    "transactions_train_df.columns = ['t_dat', 'customer_id', 'itemid', 'price', 'sales_channel_id'] # Rename article_id to itemid\n",
    "assert(len(transactions_train_df)== 31788324)\n",
    "transactions_train_df.head()"
   ]
  },
  {
   "cell_type": "markdown",
   "metadata": {
    "id": "lgbIxAh0YeZY"
   },
   "source": [
    "### Feature Engineering & Exploration"
   ]
  },
  {
   "cell_type": "markdown",
   "metadata": {
    "id": "RyZ_kUDsYeZY"
   },
   "source": [
    "#### Item Feature 1: Average price of item (article)"
   ]
  },
  {
   "cell_type": "markdown",
   "metadata": {
    "id": "JjQuSSuRYeZY"
   },
   "source": [
    "For fashion articles or other articles as well, the price of each article is always one of the most important factors for users to consider; the cheaper the item it is with ensuring the quality, the more likely will the item being chosen by customers. Also, people who prefer to choose to buy articles with similar price level. Therefore, using price of items (articles) would be a good choice for the recommendation system.\n",
    "\n",
    "The detailed instructions and code snippets of extracting price of items based on events as the feature are shown below:"
   ]
  },
  {
   "cell_type": "code",
   "execution_count": 5,
   "metadata": {
    "id": "YnqfSM5sYeZY"
   },
   "outputs": [],
   "source": [
    "# Calculate the average price of each item\n",
    "item_price_avg = transactions_train_df.groupby('itemid')['price'].mean()\n",
    "\n",
    "# Left join based on the itemid\n",
    "result_df = item_ids_df.merge(item_price_avg, on='itemid', how='left')\n",
    "\n",
    "# Fill NA values with 0\n",
    "result_df.fillna(0, inplace=True)"
   ]
  },
  {
   "cell_type": "markdown",
   "metadata": {
    "id": "oxRAvQMFYeZZ"
   },
   "source": [
    "#### Item Feature 2: Total revenue of item (article)"
   ]
  },
  {
   "cell_type": "markdown",
   "metadata": {
    "id": "SyVfeHp_YeZZ"
   },
   "source": [
    "Besides prices, the total revenue of the article can also be an important thing. This might look a little bit not straightforward, since revenues are usually the thing that the article company or sellers would consider; the key is that the total revenue also reflects the popularity of the articles among costumers, and costumers will tend to buy more popular/best seller articles among their choices. Therefore, using total revenue of fashion article as an item feature can also contribute to the recommendation system of it.\n",
    "\n",
    "The detailed instructions and code snippets of extracting total revenues for each article as the feature are shown below:"
   ]
  },
  {
   "cell_type": "code",
   "execution_count": 6,
   "metadata": {
    "id": "mr6sHXwKYeZZ"
   },
   "outputs": [],
   "source": [
    "# Compute the total revenue by summing all the prices\n",
    "item_revenue = transactions_train_df.groupby('itemid')['price'].sum()\n",
    "\n",
    "# Left join based on the itemid\n",
    "result_df = result_df.merge(item_revenue, on='itemid', how='left')\n",
    "\n",
    "# Fill NA values with 0\n",
    "result_df.fillna(0, inplace=True)\n",
    "\n",
    "# Rename prices to their corresponding meaning\n",
    "result_df.columns = ['itemid', 'new_id', 'price_avg', 'revenue']"
   ]
  },
  {
   "cell_type": "markdown",
   "metadata": {
    "id": "yYg5LsqJYeZa"
   },
   "source": [
    "#### Exploration"
   ]
  },
  {
   "cell_type": "markdown",
   "metadata": {
    "id": "ZtsEpLGSYeZa"
   },
   "source": [
    "To ensure that each feature can effectively contribute to the final recommendation, all numerical features must ideally be independent to each other, or it will result in the collinearity problem that negatively impacts the recommendation model. Therefore, we perform a correlation check on all numerical features to see if there exists highly correlated features; if so, these features contains redundant information and we choose to remove some of them to ensure accuarcy."
   ]
  },
  {
   "cell_type": "code",
   "execution_count": 7,
   "metadata": {
    "colab": {
     "base_uri": "https://localhost:8080/",
     "height": 435
    },
    "id": "lsjOPK4JYeZa",
    "outputId": "fab53136-c433-458e-cc35-5474e71f80af"
   },
   "outputs": [
    {
     "output_type": "display_data",
     "data": {
      "text/plain": [
       "<Figure size 640x480 with 2 Axes>"
      ],
      "image/png": "[encoded data removed]"
     },
     "metadata": {}
    }
   ],
   "source": [
    "df = result_df[['price_avg', 'revenue']] # item_id and new_id are both categorical features\n",
    "corrmat = df.corr()\n",
    "hm = sns.heatmap(corrmat, \n",
    "                 cbar=True, \n",
    "                 annot=True, \n",
    "                 square=True, \n",
    "                 fmt='.2f', \n",
    "                 annot_kws={'size': 10}, \n",
    "                 yticklabels=df.columns, \n",
    "                 xticklabels=df.columns, \n",
    "                 cmap=\"Spectral_r\")\n",
    "plt.show()"
   ]
  },
  {
   "cell_type": "markdown",
   "metadata": {
    "id": "_xrq0gxAYeZb"
   },
   "source": [
    "From the correlation matrix heat map above, we can figure out that there are only super weak correlation between the two features **average of price feature** and **item total revenue feature**. Therefore, we can choose to include all these features for our recommendation model training process."
   ]
  },
  {
   "cell_type": "markdown",
   "metadata": {
    "id": "vlMw6FrmYeZb"
   },
   "source": [
    "### Browse & save the pre-processed data"
   ]
  },
  {
   "cell_type": "code",
   "execution_count": 8,
   "metadata": {
    "colab": {
     "base_uri": "https://localhost:8080/",
     "height": 359
    },
    "id": "goMZjbGeYeZb",
    "outputId": "64e57bce-bb9a-4a62-cc11-1f95a9c93985"
   },
   "outputs": [
    {
     "output_type": "execute_result",
     "data": {
      "text/plain": [
       "      itemid  new_id  price_avg     revenue\n",
       "0  304766008       0   0.013231    8.706034\n",
       "1  662916002       1   0.021352    4.291712\n",
       "2  740909001       2   0.030766    9.752712\n",
       "3  666382002       3   0.020301   24.462288\n",
       "4  583534018       4   0.016463    7.902237\n",
       "5  583534009       5   0.016336   52.616695\n",
       "6  665532003       6   0.095647   11.668983\n",
       "7  399256001       7   0.016138  326.665271\n",
       "8  519583033       8   0.027637  106.068983\n",
       "9  699667001       9   0.038638    2.395559"
      ],
      "text/html": [
       "\n",
       "  <div id=\"df-14156b9c-69c5-41f9-9626-ca9421baf4cb\">\n",
       "    <div class=\"colab-df-container\">\n",
       "      <div>\n",
       "<style scoped>\n",
       "    .dataframe tbody tr th:only-of-type {\n",
       "        vertical-align: middle;\n",
       "    }\n",
       "\n",
       "    .dataframe tbody tr th {\n",
       "        vertical-align: top;\n",
       "    }\n",
       "\n",
       "    .dataframe thead th {\n",
       "        text-align: right;\n",
       "    }\n",
       "</style>\n",
       "<table border=\"1\" class=\"dataframe\">\n",
       "  <thead>\n",
       "    <tr style=\"text-align: right;\">\n",
       "      <th></th>\n",
       "      <th>itemid</th>\n",
       "      <th>new_id</th>\n",
       "      <th>price_avg</th>\n",
       "      <th>revenue</th>\n",
       "    </tr>\n",
       "  </thead>\n",
       "  <tbody>\n",
       "    <tr>\n",
       "      <th>0</th>\n",
       "      <td>304766008</td>\n",
       "      <td>0</td>\n",
       "      <td>0.013231</td>\n",
       "      <td>8.706034</td>\n",
       "    </tr>\n",
       "    <tr>\n",
       "      <th>1</th>\n",
       "      <td>662916002</td>\n",
       "      <td>1</td>\n",
       "      <td>0.021352</td>\n",
       "      <td>4.291712</td>\n",
       "    </tr>\n",
       "    <tr>\n",
       "      <th>2</th>\n",
       "      <td>740909001</td>\n",
       "      <td>2</td>\n",
       "      <td>0.030766</td>\n",
       "      <td>9.752712</td>\n",
       "    </tr>\n",
       "    <tr>\n",
       "      <th>3</th>\n",
       "      <td>666382002</td>\n",
       "      <td>3</td>\n",
       "      <td>0.020301</td>\n",
       "      <td>24.462288</td>\n",
       "    </tr>\n",
       "    <tr>\n",
       "      <th>4</th>\n",
       "      <td>583534018</td>\n",
       "      <td>4</td>\n",
       "      <td>0.016463</td>\n",
       "      <td>7.902237</td>\n",
       "    </tr>\n",
       "    <tr>\n",
       "      <th>5</th>\n",
       "      <td>583534009</td>\n",
       "      <td>5</td>\n",
       "      <td>0.016336</td>\n",
       "      <td>52.616695</td>\n",
       "    </tr>\n",
       "    <tr>\n",
       "      <th>6</th>\n",
       "      <td>665532003</td>\n",
       "      <td>6</td>\n",
       "      <td>0.095647</td>\n",
       "      <td>11.668983</td>\n",
       "    </tr>\n",
       "    <tr>\n",
       "      <th>7</th>\n",
       "      <td>399256001</td>\n",
       "      <td>7</td>\n",
       "      <td>0.016138</td>\n",
       "      <td>326.665271</td>\n",
       "    </tr>\n",
       "    <tr>\n",
       "      <th>8</th>\n",
       "      <td>519583033</td>\n",
       "      <td>8</td>\n",
       "      <td>0.027637</td>\n",
       "      <td>106.068983</td>\n",
       "    </tr>\n",
       "    <tr>\n",
       "      <th>9</th>\n",
       "      <td>699667001</td>\n",
       "      <td>9</td>\n",
       "      <td>0.038638</td>\n",
       "      <td>2.395559</td>\n",
       "    </tr>\n",
       "  </tbody>\n",
       "</table>\n",
       "</div>\n",
       "      <button class=\"colab-df-convert\" onclick=\"convertToInteractive('df-14156b9c-69c5-41f9-9626-ca9421baf4cb')\"\n",
       "              title=\"Convert this dataframe to an interactive table.\"\n",
       "              style=\"display:none;\">\n",
       "        \n",
       "  <svg xmlns=\"http://www.w3.org/2000/svg\" height=\"24px\"viewBox=\"0 0 24 24\"\n",
       "       width=\"24px\">\n",
       "    <path d=\"M0 0h24v24H0V0z\" fill=\"none\"/>\n",
       "    <path d=\"M18.56 5.44l.94 2.06.94-2.06 2.06-.94-2.06-.94-.94-2.06-.94 2.06-2.06.94zm-11 1L8.5 8.5l.94-2.06 2.06-.94-2.06-.94L8.5 2.5l-.94 2.06-2.06.94zm10 10l.94 2.06.94-2.06 2.06-.94-2.06-.94-.94-2.06-.94 2.06-2.06.94z\"/><path d=\"M17.41 7.96l-1.37-1.37c-.4-.4-.92-.59-1.43-.59-.52 0-1.04.2-1.43.59L10.3 9.45l-7.72 7.72c-.78.78-.78 2.05 0 2.83L4 21.41c.39.39.9.59 1.41.59.51 0 1.02-.2 1.41-.59l7.78-7.78 2.81-2.81c.8-.78.8-2.07 0-2.86zM5.41 20L4 18.59l7.72-7.72 1.47 1.35L5.41 20z\"/>\n",
       "  </svg>\n",
       "      </button>\n",
       "      \n",
       "  <style>\n",
       "    .colab-df-container {\n",
       "      display:flex;\n",
       "      flex-wrap:wrap;\n",
       "      gap: 12px;\n",
       "    }\n",
       "\n",
       "    .colab-df-convert {\n",
       "      background-color: #E8F0FE;\n",
       "      border: none;\n",
       "      border-radius: 50%;\n",
       "      cursor: pointer;\n",
       "      display: none;\n",
       "      fill: #1967D2;\n",
       "      height: 32px;\n",
       "      padding: 0 0 0 0;\n",
       "      width: 32px;\n",
       "    }\n",
       "\n",
       "    .colab-df-convert:hover {\n",
       "      background-color: #E2EBFA;\n",
       "      box-shadow: 0px 1px 2px rgba(60, 64, 67, 0.3), 0px 1px 3px 1px rgba(60, 64, 67, 0.15);\n",
       "      fill: #174EA6;\n",
       "    }\n",
       "\n",
       "    [theme=dark] .colab-df-convert {\n",
       "      background-color: #3B4455;\n",
       "      fill: #D2E3FC;\n",
       "    }\n",
       "\n",
       "    [theme=dark] .colab-df-convert:hover {\n",
       "      background-color: #434B5C;\n",
       "      box-shadow: 0px 1px 3px 1px rgba(0, 0, 0, 0.15);\n",
       "      filter: drop-shadow(0px 1px 2px rgba(0, 0, 0, 0.3));\n",
       "      fill: #FFFFFF;\n",
       "    }\n",
       "  </style>\n",
       "\n",
       "      <script>\n",
       "        const buttonEl =\n",
       "          document.querySelector('#df-14156b9c-69c5-41f9-9626-ca9421baf4cb button.colab-df-convert');\n",
       "        buttonEl.style.display =\n",
       "          google.colab.kernel.accessAllowed ? 'block' : 'none';\n",
       "\n",
       "        async function convertToInteractive(key) {\n",
       "          const element = document.querySelector('#df-14156b9c-69c5-41f9-9626-ca9421baf4cb');\n",
       "          const dataTable =\n",
       "            await google.colab.kernel.invokeFunction('convertToInteractive',\n",
       "                                                     [key], {});\n",
       "          if (!dataTable) return;\n",
       "\n",
       "          const docLinkHtml = 'Like what you see? Visit the ' +\n",
       "            '<a target=\"_blank\" href=https://colab.research.google.com/notebooks/data_table.ipynb>data table notebook</a>'\n",
       "            + ' to learn more about interactive tables.';\n",
       "          element.innerHTML = '';\n",
       "          dataTable['output_type'] = 'display_data';\n",
       "          await google.colab.output.renderOutput(dataTable, element);\n",
       "          const docLink = document.createElement('div');\n",
       "          docLink.innerHTML = docLinkHtml;\n",
       "          element.appendChild(docLink);\n",
       "        }\n",
       "      </script>\n",
       "    </div>\n",
       "  </div>\n",
       "  "
      ]
     },
     "metadata": {},
     "execution_count": 8
    }
   ],
   "source": [
    "result_df.head(10)"
   ]
  },
  {
   "cell_type": "markdown",
   "metadata": {
    "id": "DKODC_qBYeZb"
   },
   "source": [
    "The first 10 rows of the pre-processed data is shown above, and the data can be saved into csv format by executing the code below."
   ]
  },
  {
   "cell_type": "code",
   "execution_count": 9,
   "metadata": {
    "id": "Z46yV4G7YeZb"
   },
   "outputs": [],
   "source": [
    "result_df.to_csv('./hm_item_features.csv', index=False)"
   ]
  }
 ],
 "metadata": {
  "kernelspec": {
   "display_name": "Python 3",
   "language": "python",
   "name": "python3"
  },
  "language_info": {
   "codemirror_mode": {
    "name": "ipython",
    "version": 3
   },
   "file_extension": ".py",
   "mimetype": "text/x-python",
   "name": "python",
   "nbconvert_exporter": "python",
   "pygments_lexer": "ipython3",
   "version": "3.10.11"
  },
  "orig_nbformat": 4,
  "colab": {
   "provenance": []
  }
 },
 "nbformat": 4,
 "nbformat_minor": 0
}
