{
  "cells": [
    {
      "cell_type": "markdown",
      "metadata": {
        "id": "3MIoEJnI0bFj"
      },
      "source": [
        "# Self-Attentive Sequential Recommender (SASRec) + Supervised Advantage Actor-Critic (SA2C) Recommender on Retail Rocket Data with CQL loss\n",
        "In this notebook, we train an SASRec-SA2C model to recommend a list of items to users in the dataset. We are using Retail Rocket data to train this model."
      ]
    },
    {
      "cell_type": "markdown",
      "metadata": {
        "id": "EW_ZHGQt0bFk"
      },
      "source": [
        "1. Clone the git repository containing all the source code"
      ]
    },
    {
      "cell_type": "code",
      "execution_count": null,
      "metadata": {
        "vscode": {
          "languageId": "plaintext"
        },
        "id": "gaY1NZWk0bFk"
      },
      "outputs": [],
      "source": [
        "\n",
        "!git clone -b cql https://github.com/szheng3/recommendation-system.git\n"
      ]
    },
    {
      "cell_type": "markdown",
      "metadata": {
        "id": "yfX0fOKk0bFl"
      },
      "source": [
        "2. Install required libraries"
      ]
    },
    {
      "cell_type": "code",
      "execution_count": null,
      "metadata": {
        "vscode": {
          "languageId": "plaintext"
        },
        "id": "GYtnIIRE0bFl"
      },
      "outputs": [],
      "source": [
        "!pip install trfl d3rlpy"
      ]
    },
    {
      "cell_type": "markdown",
      "metadata": {
        "id": "pYYAfb6C0bFl"
      },
      "source": [
        "3. Download Retail Rocket events log from AWS S3 bucket to local"
      ]
    },
    {
      "cell_type": "code",
      "execution_count": null,
      "metadata": {
        "vscode": {
          "languageId": "plaintext"
        },
        "id": "ysLu1uaA0bFl"
      },
      "outputs": [],
      "source": [
        "!wget https://aipi590.s3.amazonaws.com/events.csv -P '/content/recommendation-system/Explore_CQL/Data/RR_data'"
      ]
    },
    {
      "cell_type": "markdown",
      "metadata": {
        "id": "lTLbC1_Q0bFm"
      },
      "source": [
        "4. Run script to pre-process data and generate replay buffer"
      ]
    },
    {
      "cell_type": "code",
      "execution_count": null,
      "metadata": {
        "vscode": {
          "languageId": "plaintext"
        },
        "id": "zhlX0koK0bFm"
      },
      "outputs": [],
      "source": [
        "!python '/content/recommendation-system/Explore_CQL/DRL2/src/gen_replay_buffer.py' --data='/content/recommendation-system/Explore_CQL/Data/RR_data'\n"
      ]
    },
    {
      "cell_type": "markdown",
      "metadata": {
        "id": "F3WgIX2m0bFm"
      },
      "source": [
        "5. Run script to begin training and evaluate model. The model below is SASRec-SA2C. This run is without CQL. "
      ]
    },
    {
      "cell_type": "code",
      "execution_count": null,
      "metadata": {
        "vscode": {
          "languageId": "plaintext"
        },
        "id": "GUOo4_Un0bFm"
      },
      "outputs": [],
      "source": [
        "!python \"/content/recommendation-system/Explore_CQL/DRL2/src/SA2C_v2.py\" --model=SASRec --epoch=10 --data=\"/content/recommendation-system/Explore_CQL/Data/RR_data\""
      ]
    },
    {
      "cell_type": "markdown",
      "metadata": {
        "id": "UL5oATtX0bFn"
      },
      "source": [
        "5b. Run script to beging training and evaluate model. The model below is SASRec-SA2C. This is run with CQL and intial alpha factor 1.0"
      ]
    },
    {
      "cell_type": "code",
      "execution_count": null,
      "metadata": {
        "vscode": {
          "languageId": "plaintext"
        },
        "id": "418HVL8w0bFn"
      },
      "outputs": [],
      "source": [
        "\n",
        "!python \"/content/recommendation-system/Explore_CQL/DRL2/src/SA2C_v2.py\" --model=SASRec --epoch=10 --CQL_alpha=0.5 --data=\"/content/recommendation-system/Explore_CQL/Data/RR_data\""
      ]
    }
  ],
  "metadata": {
    "language_info": {
      "name": "python"
    },
    "orig_nbformat": 4,
    "colab": {
      "provenance": []
    }
  },
  "nbformat": 4,
  "nbformat_minor": 0
}
