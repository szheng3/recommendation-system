{
 "cells": [
  {
   "attachments": {},
   "cell_type": "markdown",
   "metadata": {},
   "source": [
    "# Self-Attentive Sequential Recommender (SASRec) + Supervised Negative Q-Learning (SNQN) Recommender with CQL Loss\n",
    "\n",
    "In this notebook, we train an SASRec-SNQN model to recommend a list of items to users in the dataset. We are using Retail Rocket data to train this model."
   ]
  },
  {
   "attachments": {},
   "cell_type": "markdown",
   "metadata": {},
   "source": [
    "1. Clone the git repository containing all the source code"
   ]
  },
  {
   "cell_type": "code",
   "execution_count": null,
   "metadata": {},
   "outputs": [],
   "source": [
    "!git clone -b cql https://github.com/szheng3/recommendation-system.git"
   ]
  },
  {
   "attachments": {},
   "cell_type": "markdown",
   "metadata": {},
   "source": [
    "2. Install required libararies"
   ]
  },
  {
   "cell_type": "code",
   "execution_count": null,
   "metadata": {},
   "outputs": [],
   "source": [
    "!pip install -r ../requirements.txt"
   ]
  },
  {
   "attachments": {},
   "cell_type": "markdown",
   "metadata": {},
   "source": [
    "3. Run script to pre-process data and generate replay buffer"
   ]
  },
  {
   "cell_type": "code",
   "execution_count": null,
   "metadata": {},
   "outputs": [],
   "source": [
    "!python 'src/gen_replay_buffer.py' --data='../Data/RR_data'"
   ]
  },
  {
   "attachments": {},
   "cell_type": "markdown",
   "metadata": {},
   "source": [
    "4. Run script to begin training and evaluate model. The model below is SASRec-SNQN. This run is without CQL. "
   ]
  },
  {
   "cell_type": "code",
   "execution_count": null,
   "metadata": {},
   "outputs": [],
   "source": [
    "!python \"src/SA2C_v3.py\" --model=SASRec --epoch=10 --data=\"../Data/RR_data\""
   ]
  },
  {
   "attachments": {},
   "cell_type": "markdown",
   "metadata": {},
   "source": [
    "5A. Run script to beging training and evaluate model. The model below is SASRec-SNQN. This is run with CQL and alpha factor 0.5."
   ]
  },
  {
   "cell_type": "code",
   "execution_count": null,
   "metadata": {},
   "outputs": [],
   "source": [
    "!python \"src/SA2C_v3.py\" --model=SASRec --epoch=10 --CQL_alpha=0.5 --data=\"../Data/RR_data\""
   ]
  },
  {
   "attachments": {},
   "cell_type": "markdown",
   "metadata": {},
   "source": [
    "5B. Run script to beging training and evaluate model. The model below is SASRec-SNQN. This is run with CQL and alpha factor q."
   ]
  },
  {
   "cell_type": "code",
   "execution_count": null,
   "metadata": {},
   "outputs": [],
   "source": [
    "!python \"src/SA2C_v3.py\" --model=SASRec --epoch=10 --CQL_alpha=1 --data=\"../Data/RR_data\""
   ]
  }
 ],
 "metadata": {
  "kernelspec": {
   "display_name": "AIPI531",
   "language": "python",
   "name": "python3"
  },
  "language_info": {
   "name": "python",
   "version": "3.9.15"
  },
  "orig_nbformat": 4
 },
 "nbformat": 4,
 "nbformat_minor": 2
}
