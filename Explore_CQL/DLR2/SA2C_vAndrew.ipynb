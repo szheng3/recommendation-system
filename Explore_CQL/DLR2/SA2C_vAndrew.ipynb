{
  "nbformat": 4,
  "nbformat_minor": 0,
  "metadata": {
    "colab": {
      "provenance": []
    },
    "kernelspec": {
      "name": "python3",
      "display_name": "Python 3"
    },
    "language_info": {
      "name": "python"
    }
  },
  "cells": [
    {
      "cell_type": "markdown",
      "source": [
        "# Using generated CQL Loss from TRFL Package"
      ],
      "metadata": {
        "id": "QPKSPupt1XeS"
      }
    },
    {
      "cell_type": "code",
      "source": [
        "!pip install git+\"https://github.com/abonafede/trfl\"\n",
        "!git clone -b cql https://github.com/szheng3/recommendation-system.git"
      ],
      "metadata": {
        "id": "TOyRGcgN6cdv"
      },
      "execution_count": null,
      "outputs": []
    },
    {
      "cell_type": "code",
      "source": [
        "#!pip install -r '/content/recommendation-system/Explore_CQL/requirements.txt'"
      ],
      "metadata": {
        "id": "a67pqjNfF6bb"
      },
      "execution_count": null,
      "outputs": []
    },
    {
      "cell_type": "code",
      "source": [
        "!wget https://aipi590.s3.amazonaws.com/events.csv -P '/content/recommendation-system/Explore_CQL/Data/RR_data'"
      ],
      "metadata": {
        "id": "_bhBxzuZ6sZR"
      },
      "execution_count": null,
      "outputs": []
    },
    {
      "cell_type": "code",
      "execution_count": null,
      "metadata": {
        "id": "TprxYm5w-UT7"
      },
      "outputs": [],
      "source": [
        "!python '/content/recommendation-system/Explore_CQL/DLR2/src/gen_replay_buffer.py' --data='/content/recommendation-system/Explore_CQL/Data/RR_data'\n"
      ]
    },
    {
      "cell_type": "code",
      "source": [
        "!tf_upgrade_v2 \\\n",
        "  --infile '/content/recommendation-system/Explore_CQL/DLR2/src/SA2C_vAndrew.py' \\\n",
        "  --outfile '/content/recommendation-system/Explore_CQL/DLR2/src/SA2C_vAndrew.py' \\\n",
        "  --reportfile report_SA2C.txt\n",
        "\n"
      ],
      "metadata": {
        "id": "mZqTP5arnNtS"
      },
      "execution_count": null,
      "outputs": []
    },
    {
      "cell_type": "markdown",
      "source": [
        "# NO CQL Loss"
      ],
      "metadata": {
        "id": "GU9Ma5dz1g20"
      }
    },
    {
      "cell_type": "code",
      "execution_count": null,
      "metadata": {
        "id": "2jjqlOt--UT7"
      },
      "outputs": [],
      "source": [
        "!python \"/content/recommendation-system/Explore_CQL/DLR2/src/SA2C_vAndrew.py\" --model=SASRec --epoch=1 --data=\"/content/recommendation-system/Explore_CQL/Data/RR_data\""
      ]
    },
    {
      "cell_type": "markdown",
      "source": [
        "# With CQL Loss"
      ],
      "metadata": {
        "id": "px8bBUoo1jo7"
      }
    },
    {
      "cell_type": "code",
      "source": [
        "!python \"/content/recommendation-system/Explore_CQL/DLR2/src/SA2C_vAndrew.py\" --cql=True --model=SASRec --epoch=1 --data=\"/content/recommendation-system/Explore_CQL/Data/RR_data\""
      ],
      "metadata": {
        "id": "1SJ9Ux0-1owk"
      },
      "execution_count": null,
      "outputs": []
    }
  ]
}