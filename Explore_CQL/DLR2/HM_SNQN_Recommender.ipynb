{
  "cells": [
    {
      "attachments": {},
      "cell_type": "markdown",
      "metadata": {
        "id": "Kfw3EGVCMdNb"
      },
      "source": [
        "# Self-Attentive Sequential Recommender (SASRec) + Supervised Negative Q-Learning (SNQN) Recommender with CQL Loss\n",
        "\n",
        "In this notebook, we train an SASRec-SNQN model to recommend a list of items to users in the dataset. In this notebook, we are using the H&M dataset to train and evaluate the mdoel. We will compare the success of models with the use of CQL Loss and without it. "
      ]
    },
    {
      "cell_type": "markdown",
      "metadata": {
        "id": "Pb78pX53MdS-"
      },
      "source": [
        "## Setup"
      ]
    },
    {
      "cell_type": "code",
      "execution_count": null,
      "metadata": {
        "colab": {
          "base_uri": "https://localhost:8080/"
        },
        "id": "hYJWxKjKMpwm",
        "outputId": "84d9d808-8d1c-4223-c106-6e50cb93909c"
      },
      "outputs": [
        {
          "name": "stdout",
          "output_type": "stream",
          "text": [
            "fatal: destination path 'recommendation-system' already exists and is not an empty directory.\n",
            "Looking in indexes: https://pypi.org/simple, https://us-python.pkg.dev/colab-wheels/public/simple/\n",
            "Requirement already satisfied: trfl in /usr/local/lib/python3.10/dist-packages (1.2.0)\n",
            "Requirement already satisfied: numpy in /usr/local/lib/python3.10/dist-packages (from trfl) (1.22.4)\n",
            "Requirement already satisfied: absl-py in /usr/local/lib/python3.10/dist-packages (from trfl) (1.4.0)\n",
            "Requirement already satisfied: wrapt in /usr/local/lib/python3.10/dist-packages (from trfl) (1.14.1)\n",
            "Requirement already satisfied: dm-tree in /usr/local/lib/python3.10/dist-packages (from trfl) (0.1.8)\n",
            "Requirement already satisfied: six in /usr/local/lib/python3.10/dist-packages (from trfl) (1.16.0)\n"
          ]
        }
      ],
      "source": [
        "# Clone our repository\n",
        "!git clone https://github.com/szheng3/recommendation-system.git\n",
        "# Install Requirements\n",
        "!pip install trfl"
      ]
    },
    {
      "cell_type": "markdown",
      "metadata": {
        "id": "hltu5efIMdYz"
      },
      "source": [
        "## RetailRocket"
      ]
    },
    {
      "cell_type": "markdown",
      "metadata": {
        "id": "JusFF_yiNPM0"
      },
      "source": [
        "### Prepare the Data"
      ]
    },
    {
      "cell_type": "code",
      "execution_count": null,
      "metadata": {
        "colab": {
          "base_uri": "https://localhost:8080/"
        },
        "id": "aK1eQEkzNIWT",
        "outputId": "1899cf82-39e7-46fa-aa04-6a3b12a5b80f"
      },
      "outputs": [
        {
          "name": "stdout",
          "output_type": "stream",
          "text": [
            "--2023-05-03 15:49:01--  https://aipi590.s3.amazonaws.com/events.csv\n",
            "Resolving aipi590.s3.amazonaws.com (aipi590.s3.amazonaws.com)... 52.217.134.25, 52.217.200.9, 52.216.236.163, ...\n",
            "Connecting to aipi590.s3.amazonaws.com (aipi590.s3.amazonaws.com)|52.217.134.25|:443... connected.\n",
            "HTTP request sent, awaiting response... 200 OK\n",
            "Length: 94237913 (90M) [text/csv]\n",
            "Saving to: ‘recommendation-system/Explore_CQL/Data/RR_data/events.csv.2’\n",
            "\n",
            "events.csv.2         85%[================>   ]  76.68M  3.42MB/s    eta 8s     ^C\n"
          ]
        }
      ],
      "source": [
        "# Download the data\n",
        "!wget https://aipi590.s3.amazonaws.com/events.csv -P 'recommendation-system/Explore_CQL/Data/RR_data'\n"
      ]
    },
    {
      "cell_type": "code",
      "execution_count": null,
      "metadata": {
        "colab": {
          "base_uri": "https://localhost:8080/"
        },
        "id": "dW9e_3a_PC0G",
        "outputId": "cddd1983-7cdb-4e04-d4ad-c44ebc051554"
      },
      "outputs": [
        {
          "name": "stdout",
          "output_type": "stream",
          "text": [
            "2023-05-03 15:48:48.815614: I tensorflow/core/platform/cpu_feature_guard.cc:182] This TensorFlow binary is optimized to use available CPU instructions in performance-critical operations.\n",
            "To enable the following instructions: AVX2 FMA, in other operations, rebuild TensorFlow with the appropriate compiler flags.\n",
            "2023-05-03 15:48:49.905989: W tensorflow/compiler/tf2tensorrt/utils/py_utils.cc:38] TF-TRT Warning: Could not find TensorRT\n"
          ]
        }
      ],
      "source": [
        "# Preprocess the data\n",
        "!python 'recommendation-system/Explore_CQL/DLR2/src/gen_replay_buffer.py' --data='recommendation-system/Explore_CQL/Data/RR_data'"
      ]
    },
    {
      "cell_type": "markdown",
      "metadata": {
        "id": "SvNXO7FNN8FQ"
      },
      "source": [
        "### Training"
      ]
    },
    {
      "cell_type": "markdown",
      "metadata": {
        "id": "sRerunKJOBWc"
      },
      "source": [
        "#### Without CQL Loss"
      ]
    },
    {
      "cell_type": "code",
      "execution_count": null,
      "metadata": {
        "id": "927Gbel7OJfv"
      },
      "outputs": [],
      "source": [
        "!python \"recommendation-system/Explore_CQL/DLR2/src/SNQN_v2.py\" --model=SASRec --epoch=10 --data=\"recommendation-system/Explore_CQL/Data/RR_data\""
      ]
    },
    {
      "cell_type": "markdown",
      "metadata": {
        "id": "fnXgyNMnOD37"
      },
      "source": [
        "#### With CQL Loss"
      ]
    },
    {
      "cell_type": "code",
      "execution_count": null,
      "metadata": {
        "id": "RZeCX2BMObsd"
      },
      "outputs": [],
      "source": [
        "!python \"recommendation-system/Explore_CQL/DLR2/src/SNQN_v2.py\" --model=SASRec --epoch=10 --CQL_alpha=1.0 --data=\"recommendation-system/Explore_CQL/Data/RR_data\""
      ]
    },
    {
      "cell_type": "markdown",
      "metadata": {
        "id": "B0g9xSjkMdme"
      },
      "source": [
        "## H&M"
      ]
    },
    {
      "cell_type": "markdown",
      "metadata": {
        "id": "Ijoc7SsgNR-G"
      },
      "source": [
        "### Prepare the Data"
      ]
    },
    {
      "cell_type": "code",
      "execution_count": null,
      "metadata": {
        "colab": {
          "base_uri": "https://localhost:8080/"
        },
        "id": "oyzTG8LUNKSu",
        "outputId": "a2efc706-c391-4c2b-ad39-332524f93f2f"
      },
      "outputs": [
        {
          "name": "stdout",
          "output_type": "stream",
          "text": [
            "--2023-05-03 15:49:54--  https://aipi590.s3.amazonaws.com/transactions_train.csv\n",
            "Resolving aipi590.s3.amazonaws.com (aipi590.s3.amazonaws.com)... 54.231.193.185, 52.216.35.73, 3.5.6.116, ...\n",
            "Connecting to aipi590.s3.amazonaws.com (aipi590.s3.amazonaws.com)|54.231.193.185|:443... connected.\n",
            "HTTP request sent, awaiting response... 200 OK\n",
            "Length: 3488002253 (3.2G) [text/csv]\n",
            "Saving to: ‘recommendation-system/Explore_CQL/Data/HM_data/transactions_train.csv.1’\n",
            "\n",
            "transactions_train.   0%[                    ]   4.00M  2.26MB/s               ^C\n"
          ]
        }
      ],
      "source": [
        "# Download the data\n",
        "!wget https://aipi590.s3.amazonaws.com/transactions_train.csv -P \"recommendation-system/Explore_CQL/Data/HM_data\""
      ]
    },
    {
      "cell_type": "code",
      "execution_count": 14,
      "metadata": {
        "colab": {
          "base_uri": "https://localhost:8080/"
        },
        "id": "5_tHGRfsPGcm",
        "outputId": "a8cf7d3c-78f1-44e8-a1b3-4143ee9ab2e1"
      },
      "outputs": [
        {
          "name": "stdout",
          "output_type": "stream",
          "text": [
            "\n",
            "Start reading all transaction data ...\n",
            "Finish reading in 00:00:29\n",
            "\n",
            "Filter and save all valid sampled data\n",
            "/content/recommendation-system/Explore_CQL/DLR2/src/gen_replay_buffer_HM.py:115: SettingWithCopyWarning: \n",
            "A value is trying to be set on a copy of a slice from a DataFrame.\n",
            "Try using .loc[row_indexer,col_indexer] = value instead\n",
            "\n",
            "See the caveats in the documentation: https://pandas.pydata.org/pandas-docs/stable/user_guide/indexing.html#returning-a-view-versus-a-copy\n",
            "  sampled_sessions['valid_session'] = sampled_sessions.session_id.map(sampled_sessions.groupby('session_id')['item_id'].size() > 2)\n",
            "Index(['timestamp', 'session_id', 'item_id', 'price', 'sales_channel_id'], dtype='object')\n",
            "\n",
            "Start counting popularity ...\n",
            "1049917it [00:39, 26293.69it/s]\n",
            "Popularity finished in 00:00:40\n",
            "\n",
            "Start spliting into train, val, test data ...\n",
            "\n",
            "           Generate Replay Buffer:\n",
            "                Total Session Size : 100000\n",
            "                     Train:      70000 ids | 737354 actions\n",
            "                     Validation: 20000 ids | 208638 actions\n",
            "                     Test:       10000 ids | 103925 actions\n",
            "                     \n",
            "                Random : True\n",
            "                Random Seed : 1234\n",
            "                Format : paper\n",
            "    \n",
            "                Total session id number : 1245612\n",
            "                Total item id number  : 96222\n",
            "    \n",
            "Generating training replay buffer\n",
            "100% 49019/49019 [00:48<00:00, 1001.49it/s]\n"
          ]
        }
      ],
      "source": [
        "# Preprocess the data\n",
        "!python \"recommendation-system/Explore_CQL/DLR2/src/gen_replay_buffer_HM.py\" --size=100000 --format=paper --data=\"recommendation-system/Explore_CQL/Data/HM_data\""
      ]
    },
    {
      "cell_type": "markdown",
      "metadata": {
        "id": "74DxOJZWN9u2"
      },
      "source": [
        "### Training"
      ]
    },
    {
      "cell_type": "markdown",
      "metadata": {
        "id": "YrsydWYDOHuu"
      },
      "source": [
        "#### Without CQL Loss"
      ]
    },
    {
      "cell_type": "code",
      "execution_count": 15,
      "metadata": {
        "colab": {
          "base_uri": "https://localhost:8080/"
        },
        "id": "9hXhTh30OqIT",
        "outputId": "e7050690-9ea5-43ee-e741-a05f4c0c42db"
      },
      "outputs": [
        {
          "name": "stdout",
          "output_type": "stream",
          "text": [
            "2023-05-03 17:27:36.365426: I tensorflow/core/platform/cpu_feature_guard.cc:182] This TensorFlow binary is optimized to use available CPU instructions in performance-critical operations.\n",
            "To enable the following instructions: AVX2 FMA, in other operations, rebuild TensorFlow with the appropriate compiler flags.\n",
            "2023-05-03 17:27:37.936418: W tensorflow/compiler/tf2tensorrt/utils/py_utils.cc:38] TF-TRT Warning: Could not find TensorRT\n",
            "Not using CQL loss\n",
            "/content/recommendation-system/Explore_CQL/DLR2/src/SNQN_v2_HM.py:191: UserWarning: `tf.layers.dropout` is deprecated and will be removed in a future version. Please use `tf.keras.layers.Dropout` instead.\n",
            "  self.seq = tf.compat.v1.layers.dropout(self.seq,\n",
            "2023-05-03 17:27:40.471289: I tensorflow/core/common_runtime/executor.cc:1197] [/device:CPU:0] (DEBUG INFO) Executor start aborting (this does not indicate an error and you can ignore this message): INVALID_ARGUMENT: You must feed a value for placeholder tensor 'Placeholder' with dtype bool\n",
            "\t [[{{node Placeholder}}]]\n",
            "2023-05-03 17:27:40.513706: I tensorflow/compiler/xla/stream_executor/cuda/cuda_gpu_executor.cc:996] successful NUMA node read from SysFS had negative value (-1), but there must be at least one NUMA node, so returning NUMA node zero. See more at https://github.com/torvalds/linux/blob/v6.0/Documentation/ABI/testing/sysfs-bus-pci#L344-L355\n",
            "2023-05-03 17:27:40.558181: I tensorflow/compiler/xla/stream_executor/cuda/cuda_gpu_executor.cc:996] successful NUMA node read from SysFS had negative value (-1), but there must be at least one NUMA node, so returning NUMA node zero. See more at https://github.com/torvalds/linux/blob/v6.0/Documentation/ABI/testing/sysfs-bus-pci#L344-L355\n",
            "2023-05-03 17:27:40.558465: I tensorflow/compiler/xla/stream_executor/cuda/cuda_gpu_executor.cc:996] successful NUMA node read from SysFS had negative value (-1), but there must be at least one NUMA node, so returning NUMA node zero. See more at https://github.com/torvalds/linux/blob/v6.0/Documentation/ABI/testing/sysfs-bus-pci#L344-L355\n",
            "/content/recommendation-system/Explore_CQL/DLR2/src/SASRecModules_v2.py:142: UserWarning: `tf.layers.dense` is deprecated and will be removed in a future version. Please use `tf.keras.layers.Dense` instead.\n",
            "  Q = tf.compat.v1.layers.dense(queries, num_units, activation=None) # (N, T_q, C)\n",
            "/content/recommendation-system/Explore_CQL/DLR2/src/SASRecModules_v2.py:143: UserWarning: `tf.layers.dense` is deprecated and will be removed in a future version. Please use `tf.keras.layers.Dense` instead.\n",
            "  K = tf.compat.v1.layers.dense(keys, num_units, activation=None) # (N, T_k, C)\n",
            "/content/recommendation-system/Explore_CQL/DLR2/src/SASRecModules_v2.py:144: UserWarning: `tf.layers.dense` is deprecated and will be removed in a future version. Please use `tf.keras.layers.Dense` instead.\n",
            "  V = tf.compat.v1.layers.dense(keys, num_units, activation=None) # (N, T_k, C)\n",
            "/content/recommendation-system/Explore_CQL/DLR2/src/SASRecModules_v2.py:184: UserWarning: `tf.layers.dropout` is deprecated and will be removed in a future version. Please use `tf.keras.layers.Dropout` instead.\n",
            "  outputs = tf.compat.v1.layers.dropout(outputs, rate=dropout_rate, training=tf.convert_to_tensor(value=is_training))\n",
            "2023-05-03 17:27:40.710355: I tensorflow/core/common_runtime/executor.cc:1197] [/device:CPU:0] (DEBUG INFO) Executor start aborting (this does not indicate an error and you can ignore this message): INVALID_ARGUMENT: You must feed a value for placeholder tensor 'Placeholder' with dtype bool\n",
            "\t [[{{node Placeholder}}]]\n",
            "/content/recommendation-system/Explore_CQL/DLR2/src/SASRecModules_v2.py:223: UserWarning: `tf.layers.conv1d` is deprecated and will be removed in a future version. Please Use `tf.keras.layers.Conv1D` instead.\n",
            "  outputs = tf.compat.v1.layers.conv1d(**params)\n",
            "/content/recommendation-system/Explore_CQL/DLR2/src/SASRecModules_v2.py:224: UserWarning: `tf.layers.dropout` is deprecated and will be removed in a future version. Please use `tf.keras.layers.Dropout` instead.\n",
            "  outputs = tf.compat.v1.layers.dropout(outputs, rate=dropout_rate, training=tf.convert_to_tensor(value=is_training))\n",
            "2023-05-03 17:27:40.764317: I tensorflow/core/common_runtime/executor.cc:1197] [/device:CPU:0] (DEBUG INFO) Executor start aborting (this does not indicate an error and you can ignore this message): INVALID_ARGUMENT: You must feed a value for placeholder tensor 'Placeholder' with dtype bool\n",
            "\t [[{{node Placeholder}}]]\n",
            "/content/recommendation-system/Explore_CQL/DLR2/src/SASRecModules_v2.py:228: UserWarning: `tf.layers.conv1d` is deprecated and will be removed in a future version. Please Use `tf.keras.layers.Conv1D` instead.\n",
            "  outputs = tf.compat.v1.layers.conv1d(**params)\n",
            "/content/recommendation-system/Explore_CQL/DLR2/src/SASRecModules_v2.py:229: UserWarning: `tf.layers.dropout` is deprecated and will be removed in a future version. Please use `tf.keras.layers.Dropout` instead.\n",
            "  outputs = tf.compat.v1.layers.dropout(outputs, rate=dropout_rate, training=tf.convert_to_tensor(value=is_training))\n",
            "2023-05-03 17:27:40.802809: I tensorflow/core/common_runtime/executor.cc:1197] [/device:CPU:0] (DEBUG INFO) Executor start aborting (this does not indicate an error and you can ignore this message): INVALID_ARGUMENT: You must feed a value for placeholder tensor 'Placeholder' with dtype bool\n",
            "\t [[{{node Placeholder}}]]\n",
            "/content/recommendation-system/Explore_CQL/DLR2/src/SNQN_v2_HM.py:219: UserWarning: `tf.layers.dense` is deprecated and will be removed in a future version. Please use `tf.keras.layers.Dense` instead.\n",
            "  self.output1 = tf.compat.v1.layers.dense(self.states_hidden, self.item_num,\n",
            "/content/recommendation-system/Explore_CQL/DLR2/src/SNQN_v2_HM.py:222: UserWarning: `tf.layers.dense` is deprecated and will be removed in a future version. Please use `tf.keras.layers.Dense` instead.\n",
            "  self.output2= tf.compat.v1.layers.dense(self.states_hidden, self.item_num,\n",
            "Not using CQL loss\n",
            "2023-05-03 17:27:42.300289: I tensorflow/core/common_runtime/executor.cc:1197] [/device:CPU:0] (DEBUG INFO) Executor start aborting (this does not indicate an error and you can ignore this message): INVALID_ARGUMENT: You must feed a value for placeholder tensor 'Placeholder_1' with dtype bool\n",
            "\t [[{{node Placeholder_1}}]]\n",
            "2023-05-03 17:27:42.447549: I tensorflow/core/common_runtime/executor.cc:1197] [/device:CPU:0] (DEBUG INFO) Executor start aborting (this does not indicate an error and you can ignore this message): INVALID_ARGUMENT: You must feed a value for placeholder tensor 'Placeholder_1' with dtype bool\n",
            "\t [[{{node Placeholder_1}}]]\n",
            "2023-05-03 17:27:42.511257: I tensorflow/core/common_runtime/executor.cc:1197] [/device:CPU:0] (DEBUG INFO) Executor start aborting (this does not indicate an error and you can ignore this message): INVALID_ARGUMENT: You must feed a value for placeholder tensor 'Placeholder_1' with dtype bool\n",
            "\t [[{{node Placeholder_1}}]]\n",
            "2023-05-03 17:27:42.552352: I tensorflow/core/common_runtime/executor.cc:1197] [/device:CPU:0] (DEBUG INFO) Executor start aborting (this does not indicate an error and you can ignore this message): INVALID_ARGUMENT: You must feed a value for placeholder tensor 'Placeholder_1' with dtype bool\n",
            "\t [[{{node Placeholder_1}}]]\n",
            "2023-05-03 17:27:46.329417: I tensorflow/compiler/xla/stream_executor/cuda/cuda_gpu_executor.cc:996] successful NUMA node read from SysFS had negative value (-1), but there must be at least one NUMA node, so returning NUMA node zero. See more at https://github.com/torvalds/linux/blob/v6.0/Documentation/ABI/testing/sysfs-bus-pci#L344-L355\n",
            "2023-05-03 17:27:46.329784: I tensorflow/compiler/xla/stream_executor/cuda/cuda_gpu_executor.cc:996] successful NUMA node read from SysFS had negative value (-1), but there must be at least one NUMA node, so returning NUMA node zero. See more at https://github.com/torvalds/linux/blob/v6.0/Documentation/ABI/testing/sysfs-bus-pci#L344-L355\n",
            "2023-05-03 17:27:46.330017: I tensorflow/compiler/xla/stream_executor/cuda/cuda_gpu_executor.cc:996] successful NUMA node read from SysFS had negative value (-1), but there must be at least one NUMA node, so returning NUMA node zero. See more at https://github.com/torvalds/linux/blob/v6.0/Documentation/ABI/testing/sysfs-bus-pci#L344-L355\n",
            "2023-05-03 17:27:49.306481: I tensorflow/compiler/xla/stream_executor/cuda/cuda_gpu_executor.cc:996] successful NUMA node read from SysFS had negative value (-1), but there must be at least one NUMA node, so returning NUMA node zero. See more at https://github.com/torvalds/linux/blob/v6.0/Documentation/ABI/testing/sysfs-bus-pci#L344-L355\n",
            "2023-05-03 17:27:49.306768: I tensorflow/compiler/xla/stream_executor/cuda/cuda_gpu_executor.cc:996] successful NUMA node read from SysFS had negative value (-1), but there must be at least one NUMA node, so returning NUMA node zero. See more at https://github.com/torvalds/linux/blob/v6.0/Documentation/ABI/testing/sysfs-bus-pci#L344-L355\n",
            "2023-05-03 17:27:49.306969: I tensorflow/compiler/xla/stream_executor/cuda/cuda_gpu_executor.cc:996] successful NUMA node read from SysFS had negative value (-1), but there must be at least one NUMA node, so returning NUMA node zero. See more at https://github.com/torvalds/linux/blob/v6.0/Documentation/ABI/testing/sysfs-bus-pci#L344-L355\n",
            "2023-05-03 17:27:49.307112: W tensorflow/core/common_runtime/gpu/gpu_bfc_allocator.cc:47] Overriding orig_value setting because the TF_FORCE_GPU_ALLOW_GROWTH environment variable is set. Original config value was 0.\n",
            "2023-05-03 17:27:49.307157: I tensorflow/core/common_runtime/gpu/gpu_device.cc:1635] Created device /job:localhost/replica:0/task:0/device:GPU:0 with 13678 MB memory:  -> device: 0, name: Tesla T4, pci bus id: 0000:00:04.0, compute capability: 7.5\n",
            "2023-05-03 17:27:49.353739: I tensorflow/compiler/mlir/mlir_graph_optimization_pass.cc:353] MLIR V1 optimization pass is not enabled\n",
            "\n",
            "********************* Training Started *********************\n",
            "\n",
            "Starting Epoch: 1\n",
            "Number of batches: 2880\n",
            "2023-05-03 17:27:51.223108: I tensorflow/compiler/xla/stream_executor/cuda/cuda_dnn.cc:424] Loaded cuDNN version 8700\n",
            "Epoch 1 training completed.\n",
            "The loss after epoch 1 is: 10.370185852050781\n",
            "\n",
            "Starting Epoch: 2\n",
            "Number of batches: 2880\n",
            "Epoch 2 training completed.\n",
            "The loss after epoch 2 is: 9.911617279052734\n",
            "\n",
            "Starting Epoch: 3\n",
            "Number of batches: 2880\n",
            "Epoch 3 training completed.\n",
            "The loss after epoch 3 is: 9.405258178710938\n",
            "\n",
            "Starting Epoch: 4\n",
            "Number of batches: 2880\n",
            "Epoch 4 training completed.\n",
            "The loss after epoch 4 is: 8.847126960754395\n",
            "\n",
            "Starting Epoch: 5\n",
            "Number of batches: 2880\n",
            "Epoch 5 training completed.\n",
            "The loss after epoch 5 is: 8.597222328186035\n",
            "\n",
            "Starting Epoch: 6\n",
            "Number of batches: 2880\n",
            "Epoch 6 training completed.\n",
            "The loss after epoch 6 is: 8.062983512878418\n",
            "\n",
            "Starting Epoch: 7\n",
            "Number of batches: 2880\n",
            "Epoch 7 training completed.\n",
            "The loss after epoch 7 is: 7.788045406341553\n",
            "\n",
            "Starting Epoch: 8\n",
            "Number of batches: 2880\n",
            "Epoch 8 training completed.\n",
            "The loss after epoch 8 is: 7.873824119567871\n",
            "\n",
            "Starting Epoch: 9\n",
            "Number of batches: 2880\n",
            "Epoch 9 training completed.\n",
            "The loss after epoch 9 is: 7.492165565490723\n",
            "\n",
            "Starting Epoch: 10\n",
            "Number of batches: 2880\n",
            "Epoch 10 training completed.\n",
            "The loss after epoch 10 is: 7.440884590148926\n",
            "\n",
            "Start evaluation with batch size 100\n",
            "#############################################################\n",
            "total purchase:103925\n",
            "~~~~~~~~~~~~~~~~~~~~~~~~~~~~~~~~~~~~~~~~~~~~~~~~~~~~~~~~~~~~~\n",
            "cumulative reward @ 5: 8390.000000\n",
            "purchase hr and ndcg @5 : 0.080731, 0.061878\n",
            "~~~~~~~~~~~~~~~~~~~~~~~~~~~~~~~~~~~~~~~~~~~~~~~~~~~~~~~~~~~~~\n",
            "cumulative reward @ 10: 9999.000000\n",
            "purchase hr and ndcg @10 : 0.096214, 0.066888\n",
            "~~~~~~~~~~~~~~~~~~~~~~~~~~~~~~~~~~~~~~~~~~~~~~~~~~~~~~~~~~~~~\n",
            "cumulative reward @ 15: 11089.000000\n",
            "purchase hr and ndcg @15 : 0.106702, 0.069664\n",
            "~~~~~~~~~~~~~~~~~~~~~~~~~~~~~~~~~~~~~~~~~~~~~~~~~~~~~~~~~~~~~\n",
            "cumulative reward @ 20: 11836.000000\n",
            "purchase hr and ndcg @20 : 0.113890, 0.071362\n",
            "#############################################################\n"
          ]
        }
      ],
      "source": [
        "!python \"recommendation-system/Explore_CQL/DLR2/src/SNQN_v2_HM.py\" --model=SASRec --epoch=10 --data=\"recommendation-system/Explore_CQL/Data/HM_data\""
      ]
    },
    {
      "cell_type": "markdown",
      "metadata": {
        "id": "TVxR4rNUOHuu"
      },
      "source": [
        "#### With CQL Loss"
      ]
    },
    {
      "cell_type": "code",
      "execution_count": 21,
      "metadata": {
        "colab": {
          "base_uri": "https://localhost:8080/"
        },
        "id": "Qt9KNKAROpHM",
        "outputId": "fa7ad8a1-cf2b-48c3-8667-d1ac38cbb8d8"
      },
      "outputs": [
        {
          "name": "stdout",
          "output_type": "stream",
          "text": [
            "2023-05-03 19:51:48.283485: I tensorflow/core/platform/cpu_feature_guard.cc:182] This TensorFlow binary is optimized to use available CPU instructions in performance-critical operations.\n",
            "To enable the following instructions: AVX2 FMA, in other operations, rebuild TensorFlow with the appropriate compiler flags.\n",
            "2023-05-03 19:51:49.310578: W tensorflow/compiler/tf2tensorrt/utils/py_utils.cc:38] TF-TRT Warning: Could not find TensorRT\n",
            "Using CQL loss.\n",
            "/content/recommendation-system/Explore_CQL/DLR2/src/SNQN_v2_HM.py:191: UserWarning: `tf.layers.dropout` is deprecated and will be removed in a future version. Please use `tf.keras.layers.Dropout` instead.\n",
            "  self.seq = tf.compat.v1.layers.dropout(self.seq,\n",
            "2023-05-03 19:51:51.195891: I tensorflow/core/common_runtime/executor.cc:1197] [/device:CPU:0] (DEBUG INFO) Executor start aborting (this does not indicate an error and you can ignore this message): INVALID_ARGUMENT: You must feed a value for placeholder tensor 'Placeholder' with dtype bool\n",
            "\t [[{{node Placeholder}}]]\n",
            "2023-05-03 19:51:51.227522: I tensorflow/compiler/xla/stream_executor/cuda/cuda_gpu_executor.cc:996] successful NUMA node read from SysFS had negative value (-1), but there must be at least one NUMA node, so returning NUMA node zero. See more at https://github.com/torvalds/linux/blob/v6.0/Documentation/ABI/testing/sysfs-bus-pci#L344-L355\n",
            "2023-05-03 19:51:51.260804: I tensorflow/compiler/xla/stream_executor/cuda/cuda_gpu_executor.cc:996] successful NUMA node read from SysFS had negative value (-1), but there must be at least one NUMA node, so returning NUMA node zero. See more at https://github.com/torvalds/linux/blob/v6.0/Documentation/ABI/testing/sysfs-bus-pci#L344-L355\n",
            "2023-05-03 19:51:51.261087: I tensorflow/compiler/xla/stream_executor/cuda/cuda_gpu_executor.cc:996] successful NUMA node read from SysFS had negative value (-1), but there must be at least one NUMA node, so returning NUMA node zero. See more at https://github.com/torvalds/linux/blob/v6.0/Documentation/ABI/testing/sysfs-bus-pci#L344-L355\n",
            "/content/recommendation-system/Explore_CQL/DLR2/src/SASRecModules_v2.py:142: UserWarning: `tf.layers.dense` is deprecated and will be removed in a future version. Please use `tf.keras.layers.Dense` instead.\n",
            "  Q = tf.compat.v1.layers.dense(queries, num_units, activation=None) # (N, T_q, C)\n",
            "/content/recommendation-system/Explore_CQL/DLR2/src/SASRecModules_v2.py:143: UserWarning: `tf.layers.dense` is deprecated and will be removed in a future version. Please use `tf.keras.layers.Dense` instead.\n",
            "  K = tf.compat.v1.layers.dense(keys, num_units, activation=None) # (N, T_k, C)\n",
            "/content/recommendation-system/Explore_CQL/DLR2/src/SASRecModules_v2.py:144: UserWarning: `tf.layers.dense` is deprecated and will be removed in a future version. Please use `tf.keras.layers.Dense` instead.\n",
            "  V = tf.compat.v1.layers.dense(keys, num_units, activation=None) # (N, T_k, C)\n",
            "/content/recommendation-system/Explore_CQL/DLR2/src/SASRecModules_v2.py:184: UserWarning: `tf.layers.dropout` is deprecated and will be removed in a future version. Please use `tf.keras.layers.Dropout` instead.\n",
            "  outputs = tf.compat.v1.layers.dropout(outputs, rate=dropout_rate, training=tf.convert_to_tensor(value=is_training))\n",
            "2023-05-03 19:51:51.408174: I tensorflow/core/common_runtime/executor.cc:1197] [/device:CPU:0] (DEBUG INFO) Executor start aborting (this does not indicate an error and you can ignore this message): INVALID_ARGUMENT: You must feed a value for placeholder tensor 'Placeholder' with dtype bool\n",
            "\t [[{{node Placeholder}}]]\n",
            "/content/recommendation-system/Explore_CQL/DLR2/src/SASRecModules_v2.py:223: UserWarning: `tf.layers.conv1d` is deprecated and will be removed in a future version. Please Use `tf.keras.layers.Conv1D` instead.\n",
            "  outputs = tf.compat.v1.layers.conv1d(**params)\n",
            "/content/recommendation-system/Explore_CQL/DLR2/src/SASRecModules_v2.py:224: UserWarning: `tf.layers.dropout` is deprecated and will be removed in a future version. Please use `tf.keras.layers.Dropout` instead.\n",
            "  outputs = tf.compat.v1.layers.dropout(outputs, rate=dropout_rate, training=tf.convert_to_tensor(value=is_training))\n",
            "2023-05-03 19:51:51.467626: I tensorflow/core/common_runtime/executor.cc:1197] [/device:CPU:0] (DEBUG INFO) Executor start aborting (this does not indicate an error and you can ignore this message): INVALID_ARGUMENT: You must feed a value for placeholder tensor 'Placeholder' with dtype bool\n",
            "\t [[{{node Placeholder}}]]\n",
            "/content/recommendation-system/Explore_CQL/DLR2/src/SASRecModules_v2.py:228: UserWarning: `tf.layers.conv1d` is deprecated and will be removed in a future version. Please Use `tf.keras.layers.Conv1D` instead.\n",
            "  outputs = tf.compat.v1.layers.conv1d(**params)\n",
            "/content/recommendation-system/Explore_CQL/DLR2/src/SASRecModules_v2.py:229: UserWarning: `tf.layers.dropout` is deprecated and will be removed in a future version. Please use `tf.keras.layers.Dropout` instead.\n",
            "  outputs = tf.compat.v1.layers.dropout(outputs, rate=dropout_rate, training=tf.convert_to_tensor(value=is_training))\n",
            "2023-05-03 19:51:51.506521: I tensorflow/core/common_runtime/executor.cc:1197] [/device:CPU:0] (DEBUG INFO) Executor start aborting (this does not indicate an error and you can ignore this message): INVALID_ARGUMENT: You must feed a value for placeholder tensor 'Placeholder' with dtype bool\n",
            "\t [[{{node Placeholder}}]]\n",
            "/content/recommendation-system/Explore_CQL/DLR2/src/SNQN_v2_HM.py:219: UserWarning: `tf.layers.dense` is deprecated and will be removed in a future version. Please use `tf.keras.layers.Dense` instead.\n",
            "  self.output1 = tf.compat.v1.layers.dense(self.states_hidden, self.item_num,\n",
            "/content/recommendation-system/Explore_CQL/DLR2/src/SNQN_v2_HM.py:222: UserWarning: `tf.layers.dense` is deprecated and will be removed in a future version. Please use `tf.keras.layers.Dense` instead.\n",
            "  self.output2= tf.compat.v1.layers.dense(self.states_hidden, self.item_num,\n",
            "Using CQL loss.\n",
            "2023-05-03 19:51:53.157541: I tensorflow/core/common_runtime/executor.cc:1197] [/device:CPU:0] (DEBUG INFO) Executor start aborting (this does not indicate an error and you can ignore this message): INVALID_ARGUMENT: You must feed a value for placeholder tensor 'Placeholder_1' with dtype bool\n",
            "\t [[{{node Placeholder_1}}]]\n",
            "2023-05-03 19:51:53.347585: I tensorflow/core/common_runtime/executor.cc:1197] [/device:CPU:0] (DEBUG INFO) Executor start aborting (this does not indicate an error and you can ignore this message): INVALID_ARGUMENT: You must feed a value for placeholder tensor 'Placeholder_1' with dtype bool\n",
            "\t [[{{node Placeholder_1}}]]\n",
            "2023-05-03 19:51:53.405243: I tensorflow/core/common_runtime/executor.cc:1197] [/device:CPU:0] (DEBUG INFO) Executor start aborting (this does not indicate an error and you can ignore this message): INVALID_ARGUMENT: You must feed a value for placeholder tensor 'Placeholder_1' with dtype bool\n",
            "\t [[{{node Placeholder_1}}]]\n",
            "2023-05-03 19:51:53.453062: I tensorflow/core/common_runtime/executor.cc:1197] [/device:CPU:0] (DEBUG INFO) Executor start aborting (this does not indicate an error and you can ignore this message): INVALID_ARGUMENT: You must feed a value for placeholder tensor 'Placeholder_1' with dtype bool\n",
            "\t [[{{node Placeholder_1}}]]\n",
            "2023-05-03 19:51:57.982563: I tensorflow/compiler/xla/stream_executor/cuda/cuda_gpu_executor.cc:996] successful NUMA node read from SysFS had negative value (-1), but there must be at least one NUMA node, so returning NUMA node zero. See more at https://github.com/torvalds/linux/blob/v6.0/Documentation/ABI/testing/sysfs-bus-pci#L344-L355\n",
            "2023-05-03 19:51:57.982898: I tensorflow/compiler/xla/stream_executor/cuda/cuda_gpu_executor.cc:996] successful NUMA node read from SysFS had negative value (-1), but there must be at least one NUMA node, so returning NUMA node zero. See more at https://github.com/torvalds/linux/blob/v6.0/Documentation/ABI/testing/sysfs-bus-pci#L344-L355\n",
            "2023-05-03 19:51:57.983111: I tensorflow/compiler/xla/stream_executor/cuda/cuda_gpu_executor.cc:996] successful NUMA node read from SysFS had negative value (-1), but there must be at least one NUMA node, so returning NUMA node zero. See more at https://github.com/torvalds/linux/blob/v6.0/Documentation/ABI/testing/sysfs-bus-pci#L344-L355\n",
            "2023-05-03 19:51:58.997698: I tensorflow/compiler/xla/stream_executor/cuda/cuda_gpu_executor.cc:996] successful NUMA node read from SysFS had negative value (-1), but there must be at least one NUMA node, so returning NUMA node zero. See more at https://github.com/torvalds/linux/blob/v6.0/Documentation/ABI/testing/sysfs-bus-pci#L344-L355\n",
            "2023-05-03 19:51:58.997978: I tensorflow/compiler/xla/stream_executor/cuda/cuda_gpu_executor.cc:996] successful NUMA node read from SysFS had negative value (-1), but there must be at least one NUMA node, so returning NUMA node zero. See more at https://github.com/torvalds/linux/blob/v6.0/Documentation/ABI/testing/sysfs-bus-pci#L344-L355\n",
            "2023-05-03 19:51:58.998178: I tensorflow/compiler/xla/stream_executor/cuda/cuda_gpu_executor.cc:996] successful NUMA node read from SysFS had negative value (-1), but there must be at least one NUMA node, so returning NUMA node zero. See more at https://github.com/torvalds/linux/blob/v6.0/Documentation/ABI/testing/sysfs-bus-pci#L344-L355\n",
            "2023-05-03 19:51:58.998321: W tensorflow/core/common_runtime/gpu/gpu_bfc_allocator.cc:47] Overriding orig_value setting because the TF_FORCE_GPU_ALLOW_GROWTH environment variable is set. Original config value was 0.\n",
            "2023-05-03 19:51:58.998378: I tensorflow/core/common_runtime/gpu/gpu_device.cc:1635] Created device /job:localhost/replica:0/task:0/device:GPU:0 with 13678 MB memory:  -> device: 0, name: Tesla T4, pci bus id: 0000:00:04.0, compute capability: 7.5\n",
            "2023-05-03 19:51:59.048406: I tensorflow/compiler/mlir/mlir_graph_optimization_pass.cc:353] MLIR V1 optimization pass is not enabled\n",
            "\n",
            "********************* Training Started *********************\n",
            "\n",
            "Starting Epoch: 1\n",
            "Number of batches: 2880\n",
            "2023-05-03 19:52:00.945856: I tensorflow/compiler/xla/stream_executor/cuda/cuda_dnn.cc:424] Loaded cuDNN version 8700\n",
            "Epoch 1 training completed.\n",
            "The loss after epoch 1 is: 22.08336639404297\n",
            "\n",
            "Starting Epoch: 2\n",
            "Number of batches: 2880\n",
            "Epoch 2 training completed.\n",
            "The loss after epoch 2 is: 21.468801498413086\n",
            "\n",
            "Starting Epoch: 3\n",
            "Number of batches: 2880\n",
            "Epoch 3 training completed.\n",
            "The loss after epoch 3 is: 20.964017868041992\n",
            "\n",
            "Starting Epoch: 4\n",
            "Number of batches: 2880\n",
            "Epoch 4 training completed.\n",
            "The loss after epoch 4 is: 20.357431411743164\n",
            "\n",
            "Starting Epoch: 5\n",
            "Number of batches: 2880\n",
            "Epoch 5 training completed.\n",
            "The loss after epoch 5 is: 20.132471084594727\n",
            "\n",
            "Starting Epoch: 6\n",
            "Number of batches: 2880\n",
            "Epoch 6 training completed.\n",
            "The loss after epoch 6 is: 19.546672821044922\n",
            "\n",
            "Starting Epoch: 7\n",
            "Number of batches: 2880\n",
            "Epoch 7 training completed.\n",
            "The loss after epoch 7 is: 19.470426559448242\n",
            "\n",
            "Starting Epoch: 8\n",
            "Number of batches: 2880\n",
            "Epoch 8 training completed.\n",
            "The loss after epoch 8 is: 19.13669204711914\n",
            "\n",
            "Starting Epoch: 9\n",
            "Number of batches: 2880\n",
            "Epoch 9 training completed.\n",
            "The loss after epoch 9 is: 19.022565841674805\n",
            "\n",
            "Starting Epoch: 10\n",
            "Number of batches: 2880\n",
            "Epoch 10 training completed.\n",
            "The loss after epoch 10 is: 19.090898513793945\n",
            "\n",
            "Start evaluation with batch size 100\n",
            "#############################################################\n",
            "total purchase:103925\n",
            "~~~~~~~~~~~~~~~~~~~~~~~~~~~~~~~~~~~~~~~~~~~~~~~~~~~~~~~~~~~~~\n",
            "cumulative reward @ 5: 7583.000000\n",
            "purchase hr and ndcg @5 : 0.072966, 0.055588\n",
            "~~~~~~~~~~~~~~~~~~~~~~~~~~~~~~~~~~~~~~~~~~~~~~~~~~~~~~~~~~~~~\n",
            "cumulative reward @ 10: 9239.000000\n",
            "purchase hr and ndcg @10 : 0.088901, 0.060727\n",
            "~~~~~~~~~~~~~~~~~~~~~~~~~~~~~~~~~~~~~~~~~~~~~~~~~~~~~~~~~~~~~\n",
            "cumulative reward @ 15: 10257.000000\n",
            "purchase hr and ndcg @15 : 0.098696, 0.063319\n",
            "~~~~~~~~~~~~~~~~~~~~~~~~~~~~~~~~~~~~~~~~~~~~~~~~~~~~~~~~~~~~~\n",
            "cumulative reward @ 20: 11076.000000\n",
            "purchase hr and ndcg @20 : 0.106577, 0.065179\n",
            "#############################################################\n"
          ]
        }
      ],
      "source": [
        "!python \"recommendation-system/Explore_CQL/DLR2/src/SNQN_v2_HM.py\" --model=SASRec --epoch=10 --CQL_alpha=0.5 --data=\"recommendation-system/Explore_CQL/Data/HM_data\""
      ]
    }
  ],
  "metadata": {
    "accelerator": "GPU",
    "colab": {
      "collapsed_sections": [
        "hltu5efIMdYz",
        "sRerunKJOBWc"
      ],
      "provenance": []
    },
    "gpuClass": "standard",
    "kernelspec": {
      "display_name": "Python 3",
      "name": "python3"
    },
    "language_info": {
      "name": "python"
    }
  },
  "nbformat": 4,
  "nbformat_minor": 0
}
