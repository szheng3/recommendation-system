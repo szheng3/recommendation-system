{
  "cells": [
    {
      "cell_type": "markdown",
      "metadata": {
        "id": "view-in-github",
        "colab_type": "text"
      },
      "source": [
        "<a href=\"https://colab.research.google.com/github/szheng3/recommendation-system/blob/cql/Explore_CQL/DLR2/SA2C_Recommender.ipynb\" target=\"_parent\"><img src=\"https://colab.research.google.com/assets/colab-badge.svg\" alt=\"Open In Colab\"/></a>"
      ]
    },
    {
      "cell_type": "markdown",
      "metadata": {
        "id": "H7wB1Zhi-UT2"
      },
      "source": [
        "# Self-Attentive Sequential Recommender (SASRec) + Supervised Advantage Actor-Critic (SA2C) Recommender on Retail Rocket Data with CQL loss\n",
        "In this notebook, we train an SASRec-SA2C model to recommend a list of items to users in the dataset. We are using Retail Rocket data to train this model."
      ]
    },
    {
      "cell_type": "markdown",
      "metadata": {
        "id": "KsguFFhG-UT5"
      },
      "source": [
        "1. Clone the git repository containing all the source code"
      ]
    },
    {
      "cell_type": "code",
      "execution_count": 1,
      "metadata": {
        "colab": {
          "base_uri": "https://localhost:8080/"
        },
        "id": "6F3JxkBS-UT5",
        "outputId": "9436d393-20ec-4c9a-9072-932c739d4484"
      },
      "outputs": [
        {
          "output_type": "stream",
          "name": "stdout",
          "text": [
            "Cloning into 'recommendation-system'...\n",
            "remote: Enumerating objects: 75, done.\u001b[K\n",
            "remote: Counting objects: 100% (75/75), done.\u001b[K\n",
            "remote: Compressing objects: 100% (61/61), done.\u001b[K\n",
            "remote: Total 75 (delta 15), reused 35 (delta 5), pack-reused 0\u001b[K\n",
            "Unpacking objects: 100% (75/75), 166.97 KiB | 4.91 MiB/s, done.\n"
          ]
        }
      ],
      "source": [
        "\n",
        "!git clone -b cql https://github.com/szheng3/recommendation-system.git\n"
      ]
    },
    {
      "cell_type": "markdown",
      "metadata": {
        "id": "8chGbqtd-UT5"
      },
      "source": [
        "2. Install required libraries"
      ]
    },
    {
      "cell_type": "code",
      "execution_count": 2,
      "metadata": {
        "colab": {
          "base_uri": "https://localhost:8080/"
        },
        "id": "4dQAWWHH-UT6",
        "outputId": "4fce0550-9c46-4b6f-8d85-9c4d4a61b072"
      },
      "outputs": [
        {
          "output_type": "stream",
          "name": "stdout",
          "text": [
            "Looking in indexes: https://pypi.org/simple, https://us-python.pkg.dev/colab-wheels/public/simple/\n",
            "Collecting trfl\n",
            "  Downloading trfl-1.2.0-py3-none-any.whl (104 kB)\n",
            "\u001b[2K     \u001b[90m━━━━━━━━━━━━━━━━━━━━━━━━━━━━━━━━━━━━━━━\u001b[0m \u001b[32m104.3/104.3 kB\u001b[0m \u001b[31m5.3 MB/s\u001b[0m eta \u001b[36m0:00:00\u001b[0m\n",
            "\u001b[?25hRequirement already satisfied: six in /usr/local/lib/python3.10/dist-packages (from trfl) (1.16.0)\n",
            "Requirement already satisfied: absl-py in /usr/local/lib/python3.10/dist-packages (from trfl) (1.4.0)\n",
            "Requirement already satisfied: wrapt in /usr/local/lib/python3.10/dist-packages (from trfl) (1.14.1)\n",
            "Requirement already satisfied: dm-tree in /usr/local/lib/python3.10/dist-packages (from trfl) (0.1.8)\n",
            "Requirement already satisfied: numpy in /usr/local/lib/python3.10/dist-packages (from trfl) (1.22.4)\n",
            "Installing collected packages: trfl\n",
            "Successfully installed trfl-1.2.0\n"
          ]
        }
      ],
      "source": [
        "!pip install trfl"
      ]
    },
    {
      "cell_type": "code",
      "source": [
        "import tensorflow as tf\n",
        "print(tf.__version__)"
      ],
      "metadata": {
        "colab": {
          "base_uri": "https://localhost:8080/"
        },
        "id": "EFihUecD_t22",
        "outputId": "449ba466-54a4-4253-f304-cdcea1782435"
      },
      "execution_count": 10,
      "outputs": [
        {
          "output_type": "stream",
          "name": "stdout",
          "text": [
            "2.12.0\n"
          ]
        }
      ]
    },
    {
      "cell_type": "markdown",
      "metadata": {
        "id": "R0PXshJm-UT6"
      },
      "source": [
        "3. Download Retail Rocket events log from AWS S3 bucket to local"
      ]
    },
    {
      "cell_type": "code",
      "execution_count": 3,
      "metadata": {
        "colab": {
          "base_uri": "https://localhost:8080/"
        },
        "id": "K5xW9F1D-UT6",
        "outputId": "82407355-6f5d-4ee7-bb2f-5e1b0aaf1cb3"
      },
      "outputs": [
        {
          "output_type": "stream",
          "name": "stdout",
          "text": [
            "--2023-04-29 12:25:03--  https://aipi590.s3.amazonaws.com/events.csv\n",
            "Resolving aipi590.s3.amazonaws.com (aipi590.s3.amazonaws.com)... 52.217.226.185, 3.5.3.196, 52.217.18.36, ...\n",
            "Connecting to aipi590.s3.amazonaws.com (aipi590.s3.amazonaws.com)|52.217.226.185|:443... connected.\n",
            "HTTP request sent, awaiting response... 200 OK\n",
            "Length: 94237913 (90M) [text/csv]\n",
            "Saving to: ‘/content/recommendation-system/Explore_CQL/Data/RR_data/events.csv’\n",
            "\n",
            "events.csv          100%[===================>]  89.87M  37.2MB/s    in 2.4s    \n",
            "\n",
            "2023-04-29 12:25:06 (37.2 MB/s) - ‘/content/recommendation-system/Explore_CQL/Data/RR_data/events.csv’ saved [94237913/94237913]\n",
            "\n"
          ]
        }
      ],
      "source": [
        "!wget https://aipi590.s3.amazonaws.com/events.csv -P '/content/recommendation-system/Explore_CQL/Data/RR_data'"
      ]
    },
    {
      "cell_type": "markdown",
      "metadata": {
        "id": "py81qAwA-UT6"
      },
      "source": [
        "4. Run script to pre-process data and generate replay buffer"
      ]
    },
    {
      "cell_type": "code",
      "execution_count": 11,
      "metadata": {
        "colab": {
          "base_uri": "https://localhost:8080/"
        },
        "id": "TprxYm5w-UT7",
        "outputId": "a803e148-f0ee-4f63-dc96-364e3301d0d8"
      },
      "outputs": [
        {
          "output_type": "stream",
          "name": "stdout",
          "text": [
            "2023-04-29 12:31:36.691823: W tensorflow/compiler/tf2tensorrt/utils/py_utils.cc:38] TF-TRT Warning: Could not find TensorRT\n",
            "\n",
            "Starting to pre-process data...\n",
            "\n",
            "Sorting and pickling data...\n",
            "\n",
            "Splitting data into train, validation, and test sets...\n",
            "\n",
            "Pickling train, validation, and test sets...\n",
            "\n",
            "Calculating item popularity and storing as dictionary...\n",
            "\n",
            "Generating replay buffer from train set...\n",
            "\n",
            "Pickling replay buffer...\n",
            "\n",
            "Pickling data statistics...\n",
            "\n",
            "Script completed successfully!\n"
          ]
        }
      ],
      "source": [
        "!python '/content/recommendation-system/Explore_CQL/DLR2/src/gen_replay_buffer.py' --data='/content/recommendation-system/Explore_CQL/Data/RR_data'\n"
      ]
    },
    {
      "cell_type": "markdown",
      "metadata": {
        "id": "PHsaKA_e-UT7"
      },
      "source": [
        "5. Run script to begin training and evaluate model. The model below is SASRec-SA2C."
      ]
    },
    {
      "cell_type": "code",
      "execution_count": 12,
      "metadata": {
        "colab": {
          "base_uri": "https://localhost:8080/"
        },
        "id": "2jjqlOt--UT7",
        "outputId": "ca9e870a-e6d0-434f-9556-72e58200582e"
      },
      "outputs": [
        {
          "output_type": "stream",
          "name": "stdout",
          "text": [
            "  File \"/content/recommendation-system/Explore_CQL/DLR2/src/SA2C_v2.py\", line 79\n",
            "    self.CQL_alpha = \n",
            "                     ^\n",
            "SyntaxError: invalid syntax\n"
          ]
        }
      ],
      "source": [
        "!python \"/content/recommendation-system/Explore_CQL/DLR2/src/SA2C_v2.py\" --model=SASRec --epoch=10 --CQL_alpha=0.1 --data=\"/content/recommendation-system/Explore_CQL/Data/RR_data\""
      ]
    },
    {
      "cell_type": "code",
      "source": [
        "\n"
      ],
      "metadata": {
        "id": "CoLjrJHu_ZOO"
      },
      "execution_count": 8,
      "outputs": []
    },
    {
      "cell_type": "code",
      "source": [],
      "metadata": {
        "id": "S6Ws5Bwz_oNn"
      },
      "execution_count": null,
      "outputs": []
    }
  ],
  "metadata": {
    "accelerator": "GPU",
    "colab": {
      "provenance": [],
      "include_colab_link": true
    },
    "gpuClass": "standard",
    "kernelspec": {
      "display_name": "Python 3.8.9 64-bit",
      "language": "python",
      "name": "python3"
    },
    "language_info": {
      "name": "python",
      "version": "3.8.9"
    },
    "orig_nbformat": 4,
    "vscode": {
      "interpreter": {
        "hash": "31f2aee4e71d21fbe5cf8b01ff0e069b9275f58929596ceb00d14d90e3e16cd6"
      }
    }
  },
  "nbformat": 4,
  "nbformat_minor": 0
}