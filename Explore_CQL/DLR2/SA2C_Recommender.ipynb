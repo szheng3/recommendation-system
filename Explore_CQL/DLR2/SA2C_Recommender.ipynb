{
  "cells": [
    {
      "cell_type": "markdown",
      "metadata": {
        "id": "view-in-github",
        "colab_type": "text"
      },
      "source": [
        "<a href=\"https://colab.research.google.com/github/szheng3/recommendation-system/blob/cql/Explore_CQL/DLR2/SA2C_Recommender.ipynb\" target=\"_parent\"><img src=\"https://colab.research.google.com/assets/colab-badge.svg\" alt=\"Open In Colab\"/></a>"
      ]
    },
    {
      "cell_type": "markdown",
      "metadata": {
        "id": "H7wB1Zhi-UT2"
      },
      "source": [
        "# Self-Attentive Sequential Recommender (SASRec) + Supervised Advantage Actor-Critic (SA2C) Recommender on Retail Rocket Data with CQL loss\n",
        "In this notebook, we train an SASRec-SA2C model to recommend a list of items to users in the dataset. We are using Retail Rocket data to train this model."
      ]
    },
    {
      "cell_type": "markdown",
      "metadata": {
        "id": "KsguFFhG-UT5"
      },
      "source": [
        "1. Clone the git repository containing all the source code"
      ]
    },
    {
      "cell_type": "code",
      "execution_count": 1,
      "metadata": {
        "colab": {
          "base_uri": "https://localhost:8080/"
        },
        "id": "6F3JxkBS-UT5",
        "outputId": "fb2b754d-3eab-4292-87a9-bcc19bf9e9d0"
      },
      "outputs": [
        {
          "output_type": "stream",
          "name": "stdout",
          "text": [
            "Cloning into 'recommendation-system'...\n",
            "remote: Enumerating objects: 115, done.\u001b[K\n",
            "remote: Counting objects: 100% (115/115), done.\u001b[K\n",
            "remote: Compressing objects: 100% (94/94), done.\u001b[K\n",
            "remote: Total 115 (delta 26), reused 61 (delta 12), pack-reused 0\u001b[K\n",
            "Receiving objects: 100% (115/115), 176.63 KiB | 9.30 MiB/s, done.\n",
            "Resolving deltas: 100% (26/26), done.\n"
          ]
        }
      ],
      "source": [
        "\n",
        "!git clone -b cql https://github.com/szheng3/recommendation-system.git\n"
      ]
    },
    {
      "cell_type": "markdown",
      "metadata": {
        "id": "8chGbqtd-UT5"
      },
      "source": [
        "2. Install required libraries"
      ]
    },
    {
      "cell_type": "code",
      "execution_count": 2,
      "metadata": {
        "id": "4dQAWWHH-UT6"
      },
      "outputs": [],
      "source": [
        "#!pip install -r '/content/recommendation-system/Explore_CQL/requirements.txt'"
      ]
    },
    {
      "cell_type": "code",
      "source": [
        "!pip install trfl"
      ],
      "metadata": {
        "id": "SEwfgEFJshEu",
        "outputId": "a242a1ba-7b27-494a-fa0e-c6e87b353204",
        "colab": {
          "base_uri": "https://localhost:8080/"
        }
      },
      "execution_count": 3,
      "outputs": [
        {
          "output_type": "stream",
          "name": "stdout",
          "text": [
            "Looking in indexes: https://pypi.org/simple, https://us-python.pkg.dev/colab-wheels/public/simple/\n",
            "Collecting trfl\n",
            "  Downloading trfl-1.2.0-py3-none-any.whl (104 kB)\n",
            "\u001b[2K     \u001b[90m━━━━━━━━━━━━━━━━━━━━━━━━━━━━━━━━━━━━━━━\u001b[0m \u001b[32m104.3/104.3 kB\u001b[0m \u001b[31m3.7 MB/s\u001b[0m eta \u001b[36m0:00:00\u001b[0m\n",
            "\u001b[?25hRequirement already satisfied: dm-tree in /usr/local/lib/python3.10/dist-packages (from trfl) (0.1.8)\n",
            "Requirement already satisfied: absl-py in /usr/local/lib/python3.10/dist-packages (from trfl) (1.4.0)\n",
            "Requirement already satisfied: numpy in /usr/local/lib/python3.10/dist-packages (from trfl) (1.22.4)\n",
            "Requirement already satisfied: wrapt in /usr/local/lib/python3.10/dist-packages (from trfl) (1.14.1)\n",
            "Requirement already satisfied: six in /usr/local/lib/python3.10/dist-packages (from trfl) (1.16.0)\n",
            "Installing collected packages: trfl\n",
            "Successfully installed trfl-1.2.0\n"
          ]
        }
      ]
    },
    {
      "cell_type": "markdown",
      "metadata": {
        "id": "R0PXshJm-UT6"
      },
      "source": [
        "3. Download Retail Rocket events log from AWS S3 bucket to local"
      ]
    },
    {
      "cell_type": "code",
      "execution_count": 4,
      "metadata": {
        "colab": {
          "base_uri": "https://localhost:8080/"
        },
        "id": "K5xW9F1D-UT6",
        "outputId": "a000daee-2157-4223-b06c-841ade1d6f24"
      },
      "outputs": [
        {
          "output_type": "stream",
          "name": "stdout",
          "text": [
            "--2023-04-29 15:47:43--  https://aipi590.s3.amazonaws.com/events.csv\n",
            "Resolving aipi590.s3.amazonaws.com (aipi590.s3.amazonaws.com)... 52.217.84.68, 52.217.230.185, 52.216.221.185, ...\n",
            "Connecting to aipi590.s3.amazonaws.com (aipi590.s3.amazonaws.com)|52.217.84.68|:443... connected.\n",
            "HTTP request sent, awaiting response... 200 OK\n",
            "Length: 94237913 (90M) [text/csv]\n",
            "Saving to: ‘/content/recommendation-system/Explore_CQL/Data/RR_data/events.csv’\n",
            "\n",
            "events.csv          100%[===================>]  89.87M  26.1MB/s    in 3.6s    \n",
            "\n",
            "2023-04-29 15:47:47 (24.9 MB/s) - ‘/content/recommendation-system/Explore_CQL/Data/RR_data/events.csv’ saved [94237913/94237913]\n",
            "\n"
          ]
        }
      ],
      "source": [
        "!wget https://aipi590.s3.amazonaws.com/events.csv -P '/content/recommendation-system/Explore_CQL/Data/RR_data'"
      ]
    },
    {
      "cell_type": "markdown",
      "metadata": {
        "id": "py81qAwA-UT6"
      },
      "source": [
        "4. Run script to pre-process data and generate replay buffer"
      ]
    },
    {
      "cell_type": "code",
      "execution_count": 5,
      "metadata": {
        "colab": {
          "base_uri": "https://localhost:8080/"
        },
        "id": "TprxYm5w-UT7",
        "outputId": "50c3852a-9b81-4eb2-a957-447fe7f03e41"
      },
      "outputs": [
        {
          "output_type": "stream",
          "name": "stdout",
          "text": [
            "2023-04-29 15:47:49.876712: I tensorflow/core/platform/cpu_feature_guard.cc:182] This TensorFlow binary is optimized to use available CPU instructions in performance-critical operations.\n",
            "To enable the following instructions: AVX2 AVX512F FMA, in other operations, rebuild TensorFlow with the appropriate compiler flags.\n",
            "2023-04-29 15:47:51.645229: W tensorflow/compiler/tf2tensorrt/utils/py_utils.cc:38] TF-TRT Warning: Could not find TensorRT\n",
            "\n",
            "Starting to pre-process data...\n",
            "\n",
            "Sorting and pickling data...\n",
            "\n",
            "Splitting data into train, validation, and test sets...\n",
            "\n",
            "Pickling train, validation, and test sets...\n",
            "\n",
            "Calculating item popularity and storing as dictionary...\n",
            "\n",
            "Generating replay buffer from train set...\n",
            "\n",
            "Pickling replay buffer...\n",
            "\n",
            "Pickling data statistics...\n",
            "\n",
            "Script completed successfully!\n"
          ]
        }
      ],
      "source": [
        "!python '/content/recommendation-system/Explore_CQL/DLR2/src/gen_replay_buffer.py' --data='/content/recommendation-system/Explore_CQL/Data/RR_data'\n"
      ]
    },
    {
      "cell_type": "markdown",
      "metadata": {
        "id": "PHsaKA_e-UT7"
      },
      "source": [
        "5. Run script to begin training and evaluate model. The model below is SASRec-SA2C. This run is without CQL. "
      ]
    },
    {
      "cell_type": "code",
      "execution_count": 6,
      "metadata": {
        "colab": {
          "base_uri": "https://localhost:8080/"
        },
        "id": "2jjqlOt--UT7",
        "outputId": "ae6430ff-10fa-44fc-ddb7-f87a6a309999"
      },
      "outputs": [
        {
          "output_type": "stream",
          "name": "stdout",
          "text": [
            "2023-04-29 15:50:08.733187: I tensorflow/core/platform/cpu_feature_guard.cc:182] This TensorFlow binary is optimized to use available CPU instructions in performance-critical operations.\n",
            "To enable the following instructions: AVX2 AVX512F FMA, in other operations, rebuild TensorFlow with the appropriate compiler flags.\n",
            "2023-04-29 15:50:09.770113: W tensorflow/compiler/tf2tensorrt/utils/py_utils.cc:38] TF-TRT Warning: Could not find TensorRT\n",
            "Not using CQL loss\n",
            "2023-04-29 15:50:12.024710: I tensorflow/core/common_runtime/executor.cc:1197] [/device:CPU:0] (DEBUG INFO) Executor start aborting (this does not indicate an error and you can ignore this message): INVALID_ARGUMENT: You must feed a value for placeholder tensor 'Placeholder' with dtype bool\n",
            "\t [[{{node Placeholder}}]]\n",
            "2023-04-29 15:50:12.089920: I tensorflow/compiler/xla/stream_executor/cuda/cuda_gpu_executor.cc:996] successful NUMA node read from SysFS had negative value (-1), but there must be at least one NUMA node, so returning NUMA node zero. See more at https://github.com/torvalds/linux/blob/v6.0/Documentation/ABI/testing/sysfs-bus-pci#L344-L355\n",
            "2023-04-29 15:50:12.597296: I tensorflow/compiler/xla/stream_executor/cuda/cuda_gpu_executor.cc:996] successful NUMA node read from SysFS had negative value (-1), but there must be at least one NUMA node, so returning NUMA node zero. See more at https://github.com/torvalds/linux/blob/v6.0/Documentation/ABI/testing/sysfs-bus-pci#L344-L355\n",
            "2023-04-29 15:50:12.597804: I tensorflow/compiler/xla/stream_executor/cuda/cuda_gpu_executor.cc:996] successful NUMA node read from SysFS had negative value (-1), but there must be at least one NUMA node, so returning NUMA node zero. See more at https://github.com/torvalds/linux/blob/v6.0/Documentation/ABI/testing/sysfs-bus-pci#L344-L355\n",
            "2023-04-29 15:50:12.767309: I tensorflow/core/common_runtime/executor.cc:1197] [/device:CPU:0] (DEBUG INFO) Executor start aborting (this does not indicate an error and you can ignore this message): INVALID_ARGUMENT: You must feed a value for placeholder tensor 'Placeholder' with dtype bool\n",
            "\t [[{{node Placeholder}}]]\n",
            "2023-04-29 15:50:12.823160: I tensorflow/core/common_runtime/executor.cc:1197] [/device:CPU:0] (DEBUG INFO) Executor start aborting (this does not indicate an error and you can ignore this message): INVALID_ARGUMENT: You must feed a value for placeholder tensor 'Placeholder' with dtype bool\n",
            "\t [[{{node Placeholder}}]]\n",
            "2023-04-29 15:50:12.866805: I tensorflow/core/common_runtime/executor.cc:1197] [/device:CPU:0] (DEBUG INFO) Executor start aborting (this does not indicate an error and you can ignore this message): INVALID_ARGUMENT: You must feed a value for placeholder tensor 'Placeholder' with dtype bool\n",
            "\t [[{{node Placeholder}}]]\n",
            "Not using CQL loss\n",
            "2023-04-29 15:50:16.581045: I tensorflow/core/common_runtime/executor.cc:1197] [/device:CPU:0] (DEBUG INFO) Executor start aborting (this does not indicate an error and you can ignore this message): INVALID_ARGUMENT: You must feed a value for placeholder tensor 'Placeholder_1' with dtype bool\n",
            "\t [[{{node Placeholder_1}}]]\n",
            "2023-04-29 15:50:16.742295: I tensorflow/core/common_runtime/executor.cc:1197] [/device:CPU:0] (DEBUG INFO) Executor start aborting (this does not indicate an error and you can ignore this message): INVALID_ARGUMENT: You must feed a value for placeholder tensor 'Placeholder_1' with dtype bool\n",
            "\t [[{{node Placeholder_1}}]]\n",
            "2023-04-29 15:50:16.806191: I tensorflow/core/common_runtime/executor.cc:1197] [/device:CPU:0] (DEBUG INFO) Executor start aborting (this does not indicate an error and you can ignore this message): INVALID_ARGUMENT: You must feed a value for placeholder tensor 'Placeholder_1' with dtype bool\n",
            "\t [[{{node Placeholder_1}}]]\n",
            "2023-04-29 15:50:16.850741: I tensorflow/core/common_runtime/executor.cc:1197] [/device:CPU:0] (DEBUG INFO) Executor start aborting (this does not indicate an error and you can ignore this message): INVALID_ARGUMENT: You must feed a value for placeholder tensor 'Placeholder_1' with dtype bool\n",
            "\t [[{{node Placeholder_1}}]]\n",
            "2023-04-29 15:50:23.691290: I tensorflow/compiler/xla/stream_executor/cuda/cuda_gpu_executor.cc:996] successful NUMA node read from SysFS had negative value (-1), but there must be at least one NUMA node, so returning NUMA node zero. See more at https://github.com/torvalds/linux/blob/v6.0/Documentation/ABI/testing/sysfs-bus-pci#L344-L355\n",
            "2023-04-29 15:50:23.691767: I tensorflow/compiler/xla/stream_executor/cuda/cuda_gpu_executor.cc:996] successful NUMA node read from SysFS had negative value (-1), but there must be at least one NUMA node, so returning NUMA node zero. See more at https://github.com/torvalds/linux/blob/v6.0/Documentation/ABI/testing/sysfs-bus-pci#L344-L355\n",
            "2023-04-29 15:50:23.691990: I tensorflow/compiler/xla/stream_executor/cuda/cuda_gpu_executor.cc:996] successful NUMA node read from SysFS had negative value (-1), but there must be at least one NUMA node, so returning NUMA node zero. See more at https://github.com/torvalds/linux/blob/v6.0/Documentation/ABI/testing/sysfs-bus-pci#L344-L355\n",
            "2023-04-29 15:50:25.944559: I tensorflow/compiler/xla/stream_executor/cuda/cuda_gpu_executor.cc:996] successful NUMA node read from SysFS had negative value (-1), but there must be at least one NUMA node, so returning NUMA node zero. See more at https://github.com/torvalds/linux/blob/v6.0/Documentation/ABI/testing/sysfs-bus-pci#L344-L355\n",
            "2023-04-29 15:50:25.944991: I tensorflow/compiler/xla/stream_executor/cuda/cuda_gpu_executor.cc:996] successful NUMA node read from SysFS had negative value (-1), but there must be at least one NUMA node, so returning NUMA node zero. See more at https://github.com/torvalds/linux/blob/v6.0/Documentation/ABI/testing/sysfs-bus-pci#L344-L355\n",
            "2023-04-29 15:50:25.945222: I tensorflow/compiler/xla/stream_executor/cuda/cuda_gpu_executor.cc:996] successful NUMA node read from SysFS had negative value (-1), but there must be at least one NUMA node, so returning NUMA node zero. See more at https://github.com/torvalds/linux/blob/v6.0/Documentation/ABI/testing/sysfs-bus-pci#L344-L355\n",
            "2023-04-29 15:50:25.945382: W tensorflow/core/common_runtime/gpu/gpu_bfc_allocator.cc:47] Overriding orig_value setting because the TF_FORCE_GPU_ALLOW_GROWTH environment variable is set. Original config value was 0.\n",
            "2023-04-29 15:50:25.945428: I tensorflow/core/common_runtime/gpu/gpu_device.cc:1635] Created device /job:localhost/replica:0/task:0/device:GPU:0 with 13678 MB memory:  -> device: 0, name: Tesla T4, pci bus id: 0000:00:04.0, compute capability: 7.5\n",
            "2023-04-29 15:50:26.037818: I tensorflow/compiler/mlir/mlir_graph_optimization_pass.cc:353] MLIR V1 optimization pass is not enabled\n",
            "epoch 1\n",
            "2023-04-29 15:50:31.099492: I tensorflow/compiler/xla/stream_executor/cuda/cuda_dnn.cc:424] Loaded cuDNN version 8700\n",
            "the loss in 200th batch is: 11.042622\n",
            "the loss in 400th batch is: 10.681876\n",
            "the loss in 600th batch is: 10.517690\n",
            "the loss in 800th batch is: 10.340279\n",
            "the loss in 1000th batch is: 10.493304\n",
            "the loss in 1200th batch is: 10.051062\n",
            "the loss in 1400th batch is: 10.396692\n",
            "the loss in 1600th batch is: 10.019462\n",
            "the loss in 1800th batch is: 9.744863\n",
            "the loss in 2000th batch is: 9.873078\n",
            "the loss in 2200th batch is: 9.532805\n",
            "the loss in 2400th batch is: 9.559372\n",
            "the loss in 2600th batch is: 9.312289\n",
            "the loss in 2800th batch is: 9.513643\n",
            "the loss in 3000th batch is: 9.158602\n",
            "the loss in 3200th batch is: 8.770600\n",
            "the loss in 3400th batch is: 8.935708\n",
            "the loss in 3600th batch is: 9.180614\n",
            "the loss in 3800th batch is: 8.574137\n",
            "epoch 2\n",
            "the loss in 4000th batch is: 8.926080\n",
            "the loss in 4200th batch is: 8.246628\n",
            "the loss in 4400th batch is: 8.412125\n",
            "the loss in 4600th batch is: 8.212887\n",
            "the loss in 4800th batch is: 8.184618\n",
            "the loss in 5000th batch is: 8.066813\n",
            "the loss in 5200th batch is: 8.319306\n",
            "the loss in 5400th batch is: 7.990901\n",
            "the loss in 5600th batch is: 8.055352\n",
            "the loss in 5800th batch is: 7.958269\n",
            "the loss in 6000th batch is: 8.017162\n",
            "the loss in 6200th batch is: 8.044252\n",
            "the loss in 6400th batch is: 7.467889\n",
            "the loss in 6600th batch is: 7.828595\n",
            "the loss in 6800th batch is: 7.684410\n",
            "the loss in 7000th batch is: 7.217211\n",
            "the loss in 7200th batch is: 7.363395\n",
            "the loss in 7400th batch is: 7.270840\n",
            "the loss in 7600th batch is: 7.457926\n",
            "epoch 3\n",
            "the loss in 7800th batch is: 7.546167\n",
            "the loss in 8000th batch is: 7.043645\n",
            "\n",
            "Beginning evaluation...\n",
            "#############################################################\n",
            "total clicks: 117015, total purchase:5578\n",
            "~~~~~~~~~~~~~~~~~~~~~~~~~~~~~~~~~~~~~~~~~~~~~~~~~~~~~~~~~~~~~\n",
            "cumulative reward @ 5: 8448.600000\n",
            "clicks hr ndcg @ 5 : 0.241490, 0.189963\n",
            "purchase hr and ndcg @5 : 0.501434, 0.430823\n",
            "~~~~~~~~~~~~~~~~~~~~~~~~~~~~~~~~~~~~~~~~~~~~~~~~~~~~~~~~~~~~~\n",
            "cumulative reward @ 10: 9745.000000\n",
            "clicks hr ndcg @ 10 : 0.286288, 0.204455\n",
            "purchase hr and ndcg @10 : 0.545895, 0.445244\n",
            "~~~~~~~~~~~~~~~~~~~~~~~~~~~~~~~~~~~~~~~~~~~~~~~~~~~~~~~~~~~~~\n",
            "cumulative reward @ 15: 10461.600000\n",
            "clicks hr ndcg @ 15 : 0.311481, 0.211130\n",
            "purchase hr and ndcg @15 : 0.568663, 0.451267\n",
            "~~~~~~~~~~~~~~~~~~~~~~~~~~~~~~~~~~~~~~~~~~~~~~~~~~~~~~~~~~~~~\n",
            "cumulative reward @ 20: 10941.200000\n",
            "clicks hr ndcg @ 20 : 0.328257, 0.215095\n",
            "purchase hr and ndcg @20 : 0.584260, 0.454964\n",
            "off-line corrected evaluation (click_ng,purchase_ng)@10: 0.058405, 0.167731\n",
            "#############################################################\n",
            "the loss in 8200th batch is: 7.356762\n",
            "the loss in 8400th batch is: 7.170412\n",
            "the loss in 8600th batch is: 7.315454\n",
            "the loss in 8800th batch is: 7.767455\n",
            "the loss in 9000th batch is: 7.492504\n",
            "the loss in 9200th batch is: 6.972688\n",
            "the loss in 9400th batch is: 6.913402\n",
            "the loss in 9600th batch is: 6.782812\n",
            "the loss in 9800th batch is: 7.328781\n",
            "the loss in 10000th batch is: 6.849994\n",
            "the loss in 10200th batch is: 6.768168\n",
            "the loss in 10400th batch is: 6.959041\n",
            "the loss in 10600th batch is: 7.163048\n",
            "the loss in 10800th batch is: 6.676021\n",
            "the loss in 11000th batch is: 7.071400\n",
            "the loss in 11200th batch is: 6.911214\n",
            "the loss in 11400th batch is: 6.709340\n",
            "epoch 4\n",
            "the loss in 11600th batch is: 6.950011\n",
            "the loss in 11800th batch is: 6.681459\n",
            "the loss in 12000th batch is: 6.603164\n",
            "the loss in 12200th batch is: 6.645440\n",
            "the loss in 12400th batch is: 6.441869\n",
            "the loss in 12600th batch is: 6.790936\n",
            "the loss in 12800th batch is: 6.236059\n",
            "the loss in 13000th batch is: 6.342052\n",
            "the loss in 13200th batch is: 6.196233\n",
            "the loss in 13400th batch is: 6.440492\n",
            "the loss in 13600th batch is: 6.355431\n",
            "the loss in 13800th batch is: 6.169549\n",
            "the loss in 14000th batch is: 6.514553\n",
            "the loss in 14200th batch is: 6.499331\n",
            "the loss in 14400th batch is: 6.486269\n",
            "the loss in 14600th batch is: 6.343935\n",
            "the loss in 14800th batch is: 6.023206\n",
            "the loss in 15000th batch is: 6.202581\n",
            "the loss in 15200th batch is: 1.244345\n",
            "epoch 5\n",
            "the loss in 15400th batch is: 1.135089\n",
            "the loss in 15600th batch is: 1.134550\n",
            "the loss in 15800th batch is: 1.009723\n",
            "the loss in 16000th batch is: 1.146416\n",
            "\n",
            "Beginning evaluation...\n",
            "#############################################################\n",
            "total clicks: 117015, total purchase:5578\n",
            "~~~~~~~~~~~~~~~~~~~~~~~~~~~~~~~~~~~~~~~~~~~~~~~~~~~~~~~~~~~~~\n",
            "cumulative reward @ 5: 8684.400000\n",
            "clicks hr ndcg @ 5 : 0.249430, 0.193609\n",
            "purchase hr and ndcg @5 : 0.510398, 0.430121\n",
            "~~~~~~~~~~~~~~~~~~~~~~~~~~~~~~~~~~~~~~~~~~~~~~~~~~~~~~~~~~~~~\n",
            "cumulative reward @ 10: 10108.600000\n",
            "clicks hr ndcg @ 10 : 0.297851, 0.209320\n",
            "purchase hr and ndcg @10 : 0.562567, 0.446950\n",
            "~~~~~~~~~~~~~~~~~~~~~~~~~~~~~~~~~~~~~~~~~~~~~~~~~~~~~~~~~~~~~\n",
            "cumulative reward @ 15: 10901.200000\n",
            "clicks hr ndcg @ 15 : 0.325309, 0.216583\n",
            "purchase hr and ndcg @15 : 0.589459, 0.454060\n",
            "~~~~~~~~~~~~~~~~~~~~~~~~~~~~~~~~~~~~~~~~~~~~~~~~~~~~~~~~~~~~~\n",
            "cumulative reward @ 20: 11435.600000\n",
            "clicks hr ndcg @ 20 : 0.344170, 0.221036\n",
            "purchase hr and ndcg @20 : 0.606131, 0.457984\n",
            "off-line corrected evaluation (click_ng,purchase_ng)@10: 0.061679, 0.172990\n",
            "#############################################################\n",
            "the loss in 16200th batch is: 1.177510\n",
            "the loss in 16400th batch is: 1.006875\n",
            "the loss in 16600th batch is: 1.061859\n",
            "the loss in 16800th batch is: 1.085343\n",
            "the loss in 17000th batch is: 1.090178\n",
            "the loss in 17200th batch is: 1.050396\n",
            "the loss in 17400th batch is: 1.080633\n",
            "the loss in 17600th batch is: 1.034815\n",
            "the loss in 17800th batch is: 0.986350\n",
            "the loss in 18000th batch is: 0.931534\n",
            "the loss in 18200th batch is: 0.993317\n",
            "the loss in 18400th batch is: 1.042463\n",
            "the loss in 18600th batch is: 1.009683\n",
            "the loss in 18800th batch is: 1.139239\n",
            "the loss in 19000th batch is: 0.925283\n",
            "the loss in 19200th batch is: 0.852154\n",
            "epoch 6\n",
            "the loss in 19400th batch is: 1.055386\n",
            "the loss in 19600th batch is: 0.943014\n",
            "the loss in 19800th batch is: 0.952597\n",
            "the loss in 20000th batch is: 0.931835\n",
            "the loss in 20200th batch is: 0.975462\n",
            "the loss in 20400th batch is: 0.931868\n",
            "the loss in 20600th batch is: 0.936726\n",
            "the loss in 20800th batch is: 0.823807\n",
            "the loss in 21000th batch is: 0.833369\n",
            "the loss in 21200th batch is: 0.952869\n",
            "the loss in 21400th batch is: 0.925115\n",
            "the loss in 21600th batch is: 0.874792\n",
            "the loss in 21800th batch is: 0.870460\n",
            "the loss in 22000th batch is: 0.939955\n",
            "the loss in 22200th batch is: 0.919710\n",
            "the loss in 22400th batch is: 0.802489\n",
            "the loss in 22600th batch is: 0.925822\n",
            "the loss in 22800th batch is: 0.856004\n",
            "the loss in 23000th batch is: 0.818932\n",
            "epoch 7\n",
            "the loss in 23200th batch is: 0.774632\n",
            "the loss in 23400th batch is: 0.803712\n",
            "the loss in 23600th batch is: 0.804146\n",
            "the loss in 23800th batch is: 0.760690\n",
            "the loss in 24000th batch is: 0.830451\n",
            "\n",
            "Beginning evaluation...\n",
            "#############################################################\n",
            "total clicks: 117015, total purchase:5578\n",
            "~~~~~~~~~~~~~~~~~~~~~~~~~~~~~~~~~~~~~~~~~~~~~~~~~~~~~~~~~~~~~\n",
            "cumulative reward @ 5: 9452.400000\n",
            "clicks hr ndcg @ 5 : 0.270196, 0.212588\n",
            "purchase hr and ndcg @5 : 0.560954, 0.491059\n",
            "~~~~~~~~~~~~~~~~~~~~~~~~~~~~~~~~~~~~~~~~~~~~~~~~~~~~~~~~~~~~~\n",
            "cumulative reward @ 10: 10865.000000\n",
            "clicks hr ndcg @ 10 : 0.319959, 0.228727\n",
            "purchase hr and ndcg @10 : 0.605414, 0.505359\n",
            "~~~~~~~~~~~~~~~~~~~~~~~~~~~~~~~~~~~~~~~~~~~~~~~~~~~~~~~~~~~~~\n",
            "cumulative reward @ 15: 11620.000000\n",
            "clicks hr ndcg @ 15 : 0.346921, 0.235865\n",
            "purchase hr and ndcg @15 : 0.627644, 0.511232\n",
            "~~~~~~~~~~~~~~~~~~~~~~~~~~~~~~~~~~~~~~~~~~~~~~~~~~~~~~~~~~~~~\n",
            "cumulative reward @ 20: 12127.000000\n",
            "clicks hr ndcg @ 20 : 0.365423, 0.240240\n",
            "purchase hr and ndcg @20 : 0.640911, 0.514353\n",
            "off-line corrected evaluation (click_ng,purchase_ng)@10: 0.071218, 0.209471\n",
            "#############################################################\n",
            "the loss in 24200th batch is: 0.726867\n",
            "the loss in 24400th batch is: 0.786219\n",
            "the loss in 24600th batch is: 0.717327\n",
            "the loss in 24800th batch is: 0.791583\n",
            "the loss in 25000th batch is: 0.782847\n",
            "the loss in 25200th batch is: 0.776054\n",
            "the loss in 25400th batch is: 0.800438\n",
            "the loss in 25600th batch is: 0.855832\n",
            "the loss in 25800th batch is: 0.768031\n",
            "the loss in 26000th batch is: 0.759293\n",
            "the loss in 26200th batch is: 0.741547\n",
            "the loss in 26400th batch is: 0.787551\n",
            "the loss in 26600th batch is: 0.638955\n",
            "the loss in 26800th batch is: 0.691848\n",
            "epoch 8\n",
            "the loss in 27000th batch is: 0.642494\n",
            "the loss in 27200th batch is: 0.730976\n",
            "the loss in 27400th batch is: 0.683093\n",
            "the loss in 27600th batch is: 0.618674\n",
            "the loss in 27800th batch is: 0.737164\n",
            "the loss in 28000th batch is: 0.722157\n",
            "the loss in 28200th batch is: 0.714409\n",
            "the loss in 28400th batch is: 0.650738\n",
            "the loss in 28600th batch is: 0.647890\n",
            "the loss in 28800th batch is: 0.744904\n",
            "the loss in 29000th batch is: 0.774650\n",
            "the loss in 29200th batch is: 0.703098\n",
            "the loss in 29400th batch is: 0.782780\n",
            "the loss in 29600th batch is: 0.671006\n",
            "the loss in 29800th batch is: 0.805060\n",
            "the loss in 30000th batch is: 0.643089\n",
            "the loss in 30200th batch is: 0.639321\n",
            "the loss in 30400th batch is: 0.666536\n",
            "the loss in 30600th batch is: 0.712614\n",
            "epoch 9\n",
            "the loss in 30800th batch is: 0.729123\n",
            "the loss in 31000th batch is: 0.635108\n",
            "the loss in 31200th batch is: 0.659549\n",
            "the loss in 31400th batch is: 0.637562\n",
            "the loss in 31600th batch is: 0.615387\n",
            "the loss in 31800th batch is: 0.679388\n",
            "the loss in 32000th batch is: 0.596017\n",
            "\n",
            "Beginning evaluation...\n",
            "#############################################################\n",
            "total clicks: 117015, total purchase:5578\n",
            "~~~~~~~~~~~~~~~~~~~~~~~~~~~~~~~~~~~~~~~~~~~~~~~~~~~~~~~~~~~~~\n",
            "cumulative reward @ 5: 9905.800000\n",
            "clicks hr ndcg @ 5 : 0.283288, 0.223429\n",
            "purchase hr and ndcg @5 : 0.587307, 0.510589\n",
            "~~~~~~~~~~~~~~~~~~~~~~~~~~~~~~~~~~~~~~~~~~~~~~~~~~~~~~~~~~~~~\n",
            "cumulative reward @ 10: 11352.600000\n",
            "clicks hr ndcg @ 10 : 0.334299, 0.239958\n",
            "purchase hr and ndcg @10 : 0.632664, 0.525314\n",
            "~~~~~~~~~~~~~~~~~~~~~~~~~~~~~~~~~~~~~~~~~~~~~~~~~~~~~~~~~~~~~\n",
            "cumulative reward @ 15: 12125.000000\n",
            "clicks hr ndcg @ 15 : 0.361321, 0.247122\n",
            "purchase hr and ndcg @15 : 0.657763, 0.531962\n",
            "~~~~~~~~~~~~~~~~~~~~~~~~~~~~~~~~~~~~~~~~~~~~~~~~~~~~~~~~~~~~~\n",
            "cumulative reward @ 20: 12656.200000\n",
            "clicks hr ndcg @ 20 : 0.380302, 0.251608\n",
            "purchase hr and ndcg @20 : 0.673360, 0.535659\n",
            "off-line corrected evaluation (click_ng,purchase_ng)@10: 0.082299, 0.237508\n",
            "#############################################################\n",
            "the loss in 32200th batch is: 0.751913\n",
            "the loss in 32400th batch is: 0.609420\n",
            "the loss in 32600th batch is: 0.647886\n",
            "the loss in 32800th batch is: 0.714363\n",
            "the loss in 33000th batch is: 0.616050\n",
            "the loss in 33200th batch is: 0.645725\n",
            "the loss in 33400th batch is: 0.663003\n",
            "the loss in 33600th batch is: 0.645544\n",
            "the loss in 33800th batch is: 0.630624\n",
            "the loss in 34000th batch is: 0.673329\n",
            "the loss in 34200th batch is: 0.629936\n",
            "the loss in 34400th batch is: 0.638608\n",
            "the loss in 34600th batch is: 0.594184\n",
            "epoch 10\n",
            "the loss in 34800th batch is: 0.622699\n",
            "the loss in 35000th batch is: 0.642979\n",
            "the loss in 35200th batch is: 0.614588\n",
            "the loss in 35400th batch is: 0.612035\n",
            "the loss in 35600th batch is: 0.681730\n",
            "the loss in 35800th batch is: 0.630510\n",
            "the loss in 36000th batch is: 0.676974\n",
            "the loss in 36200th batch is: 0.583375\n",
            "the loss in 36400th batch is: 0.527696\n",
            "the loss in 36600th batch is: 0.566392\n",
            "the loss in 36800th batch is: 0.654921\n",
            "the loss in 37000th batch is: 0.679945\n",
            "the loss in 37200th batch is: 0.632858\n",
            "the loss in 37400th batch is: 0.587151\n",
            "the loss in 37600th batch is: 0.554001\n",
            "the loss in 37800th batch is: 0.570977\n",
            "the loss in 38000th batch is: 0.641563\n",
            "the loss in 38200th batch is: 0.558205\n",
            "the loss in 38400th batch is: 0.657775\n",
            "Training completed...\n",
            "Evaluating test dataset...\n",
            "\n",
            "#############################################################\n",
            "total clicks: 120730, total purchase:6190\n",
            "~~~~~~~~~~~~~~~~~~~~~~~~~~~~~~~~~~~~~~~~~~~~~~~~~~~~~~~~~~~~~\n",
            "cumulative reward @ 5: 10495.400000\n",
            "clicks hr ndcg @ 5 : 0.283335, 0.222851\n",
            "purchase hr and ndcg @5 : 0.590307, 0.512900\n",
            "~~~~~~~~~~~~~~~~~~~~~~~~~~~~~~~~~~~~~~~~~~~~~~~~~~~~~~~~~~~~~\n",
            "cumulative reward @ 10: 11987.200000\n",
            "clicks hr ndcg @ 10 : 0.334474, 0.239451\n",
            "purchase hr and ndcg @10 : 0.631826, 0.526478\n",
            "~~~~~~~~~~~~~~~~~~~~~~~~~~~~~~~~~~~~~~~~~~~~~~~~~~~~~~~~~~~~~\n",
            "cumulative reward @ 15: 12779.600000\n",
            "clicks hr ndcg @ 15 : 0.362279, 0.246805\n",
            "purchase hr and ndcg @15 : 0.651373, 0.531649\n",
            "~~~~~~~~~~~~~~~~~~~~~~~~~~~~~~~~~~~~~~~~~~~~~~~~~~~~~~~~~~~~~\n",
            "cumulative reward @ 20: 13319.600000\n",
            "clicks hr ndcg @ 20 : 0.381206, 0.251280\n",
            "purchase hr and ndcg @20 : 0.664782, 0.534834\n",
            "off-line corrected evaluation (click_ng,purchase_ng)@10: 0.084652, 0.238280\n",
            "#############################################################\n"
          ]
        }
      ],
      "source": [
        "!python \"/content/recommendation-system/Explore_CQL/DLR2/src/SA2C_v2.py\" --model=SASRec --epoch=10 --data=\"/content/recommendation-system/Explore_CQL/Data/RR_data\""
      ]
    },
    {
      "cell_type": "markdown",
      "source": [
        "5b. Run script to beging training and evaluate model. The model below is SASRec-SA2C. This is run with CQL and alpha factor 0.5."
      ],
      "metadata": {
        "id": "sEexsJcyaUxf"
      }
    },
    {
      "cell_type": "code",
      "source": [
        "\n",
        "!python \"/content/recommendation-system/Explore_CQL/DLR2/src/SA2C_v2.py\" --model=SASRec --epoch=10 --CQL_alpha=0.5 --data=\"/content/recommendation-system/Explore_CQL/Data/RR_data\""
      ],
      "metadata": {
        "colab": {
          "base_uri": "https://localhost:8080/"
        },
        "id": "CoLjrJHu_ZOO",
        "outputId": "a84b597b-7e58-481e-bfe9-5b714e835b85"
      },
      "execution_count": 7,
      "outputs": [
        {
          "output_type": "stream",
          "name": "stdout",
          "text": [
            "2023-04-29 18:52:59.657394: I tensorflow/core/platform/cpu_feature_guard.cc:182] This TensorFlow binary is optimized to use available CPU instructions in performance-critical operations.\n",
            "To enable the following instructions: AVX2 AVX512F FMA, in other operations, rebuild TensorFlow with the appropriate compiler flags.\n",
            "2023-04-29 18:53:00.858148: W tensorflow/compiler/tf2tensorrt/utils/py_utils.cc:38] TF-TRT Warning: Could not find TensorRT\n",
            "Using CQL loss.\n",
            "2023-04-29 18:53:03.582395: I tensorflow/core/common_runtime/executor.cc:1197] [/device:CPU:0] (DEBUG INFO) Executor start aborting (this does not indicate an error and you can ignore this message): INVALID_ARGUMENT: You must feed a value for placeholder tensor 'Placeholder' with dtype bool\n",
            "\t [[{{node Placeholder}}]]\n",
            "2023-04-29 18:53:03.635065: I tensorflow/compiler/xla/stream_executor/cuda/cuda_gpu_executor.cc:996] successful NUMA node read from SysFS had negative value (-1), but there must be at least one NUMA node, so returning NUMA node zero. See more at https://github.com/torvalds/linux/blob/v6.0/Documentation/ABI/testing/sysfs-bus-pci#L344-L355\n",
            "2023-04-29 18:53:03.728131: I tensorflow/compiler/xla/stream_executor/cuda/cuda_gpu_executor.cc:996] successful NUMA node read from SysFS had negative value (-1), but there must be at least one NUMA node, so returning NUMA node zero. See more at https://github.com/torvalds/linux/blob/v6.0/Documentation/ABI/testing/sysfs-bus-pci#L344-L355\n",
            "2023-04-29 18:53:03.728566: I tensorflow/compiler/xla/stream_executor/cuda/cuda_gpu_executor.cc:996] successful NUMA node read from SysFS had negative value (-1), but there must be at least one NUMA node, so returning NUMA node zero. See more at https://github.com/torvalds/linux/blob/v6.0/Documentation/ABI/testing/sysfs-bus-pci#L344-L355\n",
            "2023-04-29 18:53:03.968003: I tensorflow/core/common_runtime/executor.cc:1197] [/device:CPU:0] (DEBUG INFO) Executor start aborting (this does not indicate an error and you can ignore this message): INVALID_ARGUMENT: You must feed a value for placeholder tensor 'Placeholder' with dtype bool\n",
            "\t [[{{node Placeholder}}]]\n",
            "2023-04-29 18:53:04.043243: I tensorflow/core/common_runtime/executor.cc:1197] [/device:CPU:0] (DEBUG INFO) Executor start aborting (this does not indicate an error and you can ignore this message): INVALID_ARGUMENT: You must feed a value for placeholder tensor 'Placeholder' with dtype bool\n",
            "\t [[{{node Placeholder}}]]\n",
            "2023-04-29 18:53:04.086717: I tensorflow/core/common_runtime/executor.cc:1197] [/device:CPU:0] (DEBUG INFO) Executor start aborting (this does not indicate an error and you can ignore this message): INVALID_ARGUMENT: You must feed a value for placeholder tensor 'Placeholder' with dtype bool\n",
            "\t [[{{node Placeholder}}]]\n",
            "Traceback (most recent call last):\n",
            "  File \"/content/recommendation-system/Explore_CQL/DLR2/src/SA2C_v2.py\", line 416, in <module>\n",
            "    QN_1 = QNetwork(name='QN_1', hidden_size=args.hidden_factor, learning_rate=args.lr, item_num=item_num,\n",
            "  File \"/content/recommendation-system/Explore_CQL/DLR2/src/SA2C_v2.py\", line 273, in __init__\n",
            "    cql_loss = tf.reduce_mean(logsumexp_qvals) - tf.reduce_mean(q_indexed_positive)\n",
            "UnboundLocalError: local variable 'q_indexed_positive' referenced before assignment\n"
          ]
        }
      ]
    },
    {
      "cell_type": "code",
      "source": [
        "\n",
        "!python \"/content/recommendation-system/Explore_CQL/DLR2/src/SA2C_v2.py\" --model=SASRec --epoch=10 --CQL_alpha=1.0 --data=\"/content/recommendation-system/Explore_CQL/Data/RR_data\""
      ],
      "metadata": {
        "id": "S6Ws5Bwz_oNn"
      },
      "execution_count": 7,
      "outputs": []
    }
  ],
  "metadata": {
    "accelerator": "GPU",
    "colab": {
      "provenance": [],
      "include_colab_link": true
    },
    "gpuClass": "standard",
    "kernelspec": {
      "display_name": "Python 3.8.9 64-bit",
      "language": "python",
      "name": "python3"
    },
    "language_info": {
      "name": "python",
      "version": "3.8.9"
    },
    "orig_nbformat": 4,
    "vscode": {
      "interpreter": {
        "hash": "31f2aee4e71d21fbe5cf8b01ff0e069b9275f58929596ceb00d14d90e3e16cd6"
      }
    }
  },
  "nbformat": 4,
  "nbformat_minor": 0
}